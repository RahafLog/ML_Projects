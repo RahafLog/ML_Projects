{
 "cells": [
  {
   "cell_type": "markdown",
   "id": "0o4fqACcpnNS",
   "metadata": {
    "id": "0o4fqACcpnNS"
   },
   "source": [
    "# **Weather temperature Prediction**\n",
    "\n",
    "The aim of this project to see to do the prediction of the weather using the different types of machine learning model like Decision Tree Regressor, Random Forest Regressor and Linear Regessor."
   ]
  },
  {
   "cell_type": "code",
   "execution_count": 1,
   "id": "83d13a9c",
   "metadata": {
    "id": "83d13a9c"
   },
   "outputs": [],
   "source": [
    "import pandas as pd\n",
    "import matplotlib.pyplot as plt\n",
    "import plotly.express as px\n",
    "import plotly.io as pio\n",
    "from matplotlib.pyplot import figure\n",
    "import plotly.io as pio\n",
    "import seaborn as sns\n",
    "from sklearn.ensemble import RandomForestRegressor\n",
    "from sklearn.tree import DecisionTreeRegressor\n",
    "import datetime as dt\n",
    "from sklearn.tree import DecisionTreeRegressor\n",
    "from sklearn.metrics import mean_absolute_error"
   ]
  },
  {
   "cell_type": "code",
   "execution_count": 14,
   "id": "4da4f22b",
   "metadata": {
    "id": "4da4f22b"
   },
   "outputs": [],
   "source": [
    "data = pd.read_csv(r\"/content/DailyDelhiClimateTrain.csv\")"
   ]
  },
  {
   "cell_type": "code",
   "execution_count": 15,
   "id": "70eb2a8b",
   "metadata": {
    "colab": {
     "base_uri": "https://localhost:8080/",
     "height": 423
    },
    "id": "70eb2a8b",
    "outputId": "c3c8cf64-4094-4dd0-d8a3-bf1f5e4570a7"
   },
   "outputs": [
    {
     "data": {
      "text/html": [
       "\n",
       "  <div id=\"df-db61b4fb-28e7-46cf-8f89-08bb1e1cd6c8\" class=\"colab-df-container\">\n",
       "    <div>\n",
       "<style scoped>\n",
       "    .dataframe tbody tr th:only-of-type {\n",
       "        vertical-align: middle;\n",
       "    }\n",
       "\n",
       "    .dataframe tbody tr th {\n",
       "        vertical-align: top;\n",
       "    }\n",
       "\n",
       "    .dataframe thead th {\n",
       "        text-align: right;\n",
       "    }\n",
       "</style>\n",
       "<table border=\"1\" class=\"dataframe\">\n",
       "  <thead>\n",
       "    <tr style=\"text-align: right;\">\n",
       "      <th></th>\n",
       "      <th>date</th>\n",
       "      <th>meantemp</th>\n",
       "      <th>humidity</th>\n",
       "      <th>wind_speed</th>\n",
       "      <th>meanpressure</th>\n",
       "    </tr>\n",
       "  </thead>\n",
       "  <tbody>\n",
       "    <tr>\n",
       "      <th>0</th>\n",
       "      <td>2013-01-01</td>\n",
       "      <td>10.000000</td>\n",
       "      <td>84.500000</td>\n",
       "      <td>0.000000</td>\n",
       "      <td>1015.666667</td>\n",
       "    </tr>\n",
       "    <tr>\n",
       "      <th>1</th>\n",
       "      <td>2013-01-02</td>\n",
       "      <td>7.400000</td>\n",
       "      <td>92.000000</td>\n",
       "      <td>2.980000</td>\n",
       "      <td>1017.800000</td>\n",
       "    </tr>\n",
       "    <tr>\n",
       "      <th>2</th>\n",
       "      <td>2013-01-03</td>\n",
       "      <td>7.166667</td>\n",
       "      <td>87.000000</td>\n",
       "      <td>4.633333</td>\n",
       "      <td>1018.666667</td>\n",
       "    </tr>\n",
       "    <tr>\n",
       "      <th>3</th>\n",
       "      <td>2013-01-04</td>\n",
       "      <td>8.666667</td>\n",
       "      <td>71.333333</td>\n",
       "      <td>1.233333</td>\n",
       "      <td>1017.166667</td>\n",
       "    </tr>\n",
       "    <tr>\n",
       "      <th>4</th>\n",
       "      <td>2013-01-05</td>\n",
       "      <td>6.000000</td>\n",
       "      <td>86.833333</td>\n",
       "      <td>3.700000</td>\n",
       "      <td>1016.500000</td>\n",
       "    </tr>\n",
       "    <tr>\n",
       "      <th>...</th>\n",
       "      <td>...</td>\n",
       "      <td>...</td>\n",
       "      <td>...</td>\n",
       "      <td>...</td>\n",
       "      <td>...</td>\n",
       "    </tr>\n",
       "    <tr>\n",
       "      <th>1457</th>\n",
       "      <td>2016-12-28</td>\n",
       "      <td>17.217391</td>\n",
       "      <td>68.043478</td>\n",
       "      <td>3.547826</td>\n",
       "      <td>1015.565217</td>\n",
       "    </tr>\n",
       "    <tr>\n",
       "      <th>1458</th>\n",
       "      <td>2016-12-29</td>\n",
       "      <td>15.238095</td>\n",
       "      <td>87.857143</td>\n",
       "      <td>6.000000</td>\n",
       "      <td>1016.904762</td>\n",
       "    </tr>\n",
       "    <tr>\n",
       "      <th>1459</th>\n",
       "      <td>2016-12-30</td>\n",
       "      <td>14.095238</td>\n",
       "      <td>89.666667</td>\n",
       "      <td>6.266667</td>\n",
       "      <td>1017.904762</td>\n",
       "    </tr>\n",
       "    <tr>\n",
       "      <th>1460</th>\n",
       "      <td>2016-12-31</td>\n",
       "      <td>15.052632</td>\n",
       "      <td>87.000000</td>\n",
       "      <td>7.325000</td>\n",
       "      <td>1016.100000</td>\n",
       "    </tr>\n",
       "    <tr>\n",
       "      <th>1461</th>\n",
       "      <td>2017-01-01</td>\n",
       "      <td>10.000000</td>\n",
       "      <td>100.000000</td>\n",
       "      <td>0.000000</td>\n",
       "      <td>1016.000000</td>\n",
       "    </tr>\n",
       "  </tbody>\n",
       "</table>\n",
       "<p>1462 rows × 5 columns</p>\n",
       "</div>\n",
       "    <div class=\"colab-df-buttons\">\n",
       "\n",
       "  <div class=\"colab-df-container\">\n",
       "    <button class=\"colab-df-convert\" onclick=\"convertToInteractive('df-db61b4fb-28e7-46cf-8f89-08bb1e1cd6c8')\"\n",
       "            title=\"Convert this dataframe to an interactive table.\"\n",
       "            style=\"display:none;\">\n",
       "\n",
       "  <svg xmlns=\"http://www.w3.org/2000/svg\" height=\"24px\" viewBox=\"0 -960 960 960\">\n",
       "    <path d=\"M120-120v-720h720v720H120Zm60-500h600v-160H180v160Zm220 220h160v-160H400v160Zm0 220h160v-160H400v160ZM180-400h160v-160H180v160Zm440 0h160v-160H620v160ZM180-180h160v-160H180v160Zm440 0h160v-160H620v160Z\"/>\n",
       "  </svg>\n",
       "    </button>\n",
       "\n",
       "  <style>\n",
       "    .colab-df-container {\n",
       "      display:flex;\n",
       "      gap: 12px;\n",
       "    }\n",
       "\n",
       "    .colab-df-convert {\n",
       "      background-color: #E8F0FE;\n",
       "      border: none;\n",
       "      border-radius: 50%;\n",
       "      cursor: pointer;\n",
       "      display: none;\n",
       "      fill: #1967D2;\n",
       "      height: 32px;\n",
       "      padding: 0 0 0 0;\n",
       "      width: 32px;\n",
       "    }\n",
       "\n",
       "    .colab-df-convert:hover {\n",
       "      background-color: #E2EBFA;\n",
       "      box-shadow: 0px 1px 2px rgba(60, 64, 67, 0.3), 0px 1px 3px 1px rgba(60, 64, 67, 0.15);\n",
       "      fill: #174EA6;\n",
       "    }\n",
       "\n",
       "    .colab-df-buttons div {\n",
       "      margin-bottom: 4px;\n",
       "    }\n",
       "\n",
       "    [theme=dark] .colab-df-convert {\n",
       "      background-color: #3B4455;\n",
       "      fill: #D2E3FC;\n",
       "    }\n",
       "\n",
       "    [theme=dark] .colab-df-convert:hover {\n",
       "      background-color: #434B5C;\n",
       "      box-shadow: 0px 1px 3px 1px rgba(0, 0, 0, 0.15);\n",
       "      filter: drop-shadow(0px 1px 2px rgba(0, 0, 0, 0.3));\n",
       "      fill: #FFFFFF;\n",
       "    }\n",
       "  </style>\n",
       "\n",
       "    <script>\n",
       "      const buttonEl =\n",
       "        document.querySelector('#df-db61b4fb-28e7-46cf-8f89-08bb1e1cd6c8 button.colab-df-convert');\n",
       "      buttonEl.style.display =\n",
       "        google.colab.kernel.accessAllowed ? 'block' : 'none';\n",
       "\n",
       "      async function convertToInteractive(key) {\n",
       "        const element = document.querySelector('#df-db61b4fb-28e7-46cf-8f89-08bb1e1cd6c8');\n",
       "        const dataTable =\n",
       "          await google.colab.kernel.invokeFunction('convertToInteractive',\n",
       "                                                    [key], {});\n",
       "        if (!dataTable) return;\n",
       "\n",
       "        const docLinkHtml = 'Like what you see? Visit the ' +\n",
       "          '<a target=\"_blank\" href=https://colab.research.google.com/notebooks/data_table.ipynb>data table notebook</a>'\n",
       "          + ' to learn more about interactive tables.';\n",
       "        element.innerHTML = '';\n",
       "        dataTable['output_type'] = 'display_data';\n",
       "        await google.colab.output.renderOutput(dataTable, element);\n",
       "        const docLink = document.createElement('div');\n",
       "        docLink.innerHTML = docLinkHtml;\n",
       "        element.appendChild(docLink);\n",
       "      }\n",
       "    </script>\n",
       "  </div>\n",
       "\n",
       "\n",
       "<div id=\"df-fbedd6ea-1bbb-4891-900c-762e3c7e8ea5\">\n",
       "  <button class=\"colab-df-quickchart\" onclick=\"quickchart('df-fbedd6ea-1bbb-4891-900c-762e3c7e8ea5')\"\n",
       "            title=\"Suggest charts.\"\n",
       "            style=\"display:none;\">\n",
       "\n",
       "<svg xmlns=\"http://www.w3.org/2000/svg\" height=\"24px\"viewBox=\"0 0 24 24\"\n",
       "     width=\"24px\">\n",
       "    <g>\n",
       "        <path d=\"M19 3H5c-1.1 0-2 .9-2 2v14c0 1.1.9 2 2 2h14c1.1 0 2-.9 2-2V5c0-1.1-.9-2-2-2zM9 17H7v-7h2v7zm4 0h-2V7h2v10zm4 0h-2v-4h2v4z\"/>\n",
       "    </g>\n",
       "</svg>\n",
       "  </button>\n",
       "\n",
       "<style>\n",
       "  .colab-df-quickchart {\n",
       "      --bg-color: #E8F0FE;\n",
       "      --fill-color: #1967D2;\n",
       "      --hover-bg-color: #E2EBFA;\n",
       "      --hover-fill-color: #174EA6;\n",
       "      --disabled-fill-color: #AAA;\n",
       "      --disabled-bg-color: #DDD;\n",
       "  }\n",
       "\n",
       "  [theme=dark] .colab-df-quickchart {\n",
       "      --bg-color: #3B4455;\n",
       "      --fill-color: #D2E3FC;\n",
       "      --hover-bg-color: #434B5C;\n",
       "      --hover-fill-color: #FFFFFF;\n",
       "      --disabled-bg-color: #3B4455;\n",
       "      --disabled-fill-color: #666;\n",
       "  }\n",
       "\n",
       "  .colab-df-quickchart {\n",
       "    background-color: var(--bg-color);\n",
       "    border: none;\n",
       "    border-radius: 50%;\n",
       "    cursor: pointer;\n",
       "    display: none;\n",
       "    fill: var(--fill-color);\n",
       "    height: 32px;\n",
       "    padding: 0;\n",
       "    width: 32px;\n",
       "  }\n",
       "\n",
       "  .colab-df-quickchart:hover {\n",
       "    background-color: var(--hover-bg-color);\n",
       "    box-shadow: 0 1px 2px rgba(60, 64, 67, 0.3), 0 1px 3px 1px rgba(60, 64, 67, 0.15);\n",
       "    fill: var(--button-hover-fill-color);\n",
       "  }\n",
       "\n",
       "  .colab-df-quickchart-complete:disabled,\n",
       "  .colab-df-quickchart-complete:disabled:hover {\n",
       "    background-color: var(--disabled-bg-color);\n",
       "    fill: var(--disabled-fill-color);\n",
       "    box-shadow: none;\n",
       "  }\n",
       "\n",
       "  .colab-df-spinner {\n",
       "    border: 2px solid var(--fill-color);\n",
       "    border-color: transparent;\n",
       "    border-bottom-color: var(--fill-color);\n",
       "    animation:\n",
       "      spin 1s steps(1) infinite;\n",
       "  }\n",
       "\n",
       "  @keyframes spin {\n",
       "    0% {\n",
       "      border-color: transparent;\n",
       "      border-bottom-color: var(--fill-color);\n",
       "      border-left-color: var(--fill-color);\n",
       "    }\n",
       "    20% {\n",
       "      border-color: transparent;\n",
       "      border-left-color: var(--fill-color);\n",
       "      border-top-color: var(--fill-color);\n",
       "    }\n",
       "    30% {\n",
       "      border-color: transparent;\n",
       "      border-left-color: var(--fill-color);\n",
       "      border-top-color: var(--fill-color);\n",
       "      border-right-color: var(--fill-color);\n",
       "    }\n",
       "    40% {\n",
       "      border-color: transparent;\n",
       "      border-right-color: var(--fill-color);\n",
       "      border-top-color: var(--fill-color);\n",
       "    }\n",
       "    60% {\n",
       "      border-color: transparent;\n",
       "      border-right-color: var(--fill-color);\n",
       "    }\n",
       "    80% {\n",
       "      border-color: transparent;\n",
       "      border-right-color: var(--fill-color);\n",
       "      border-bottom-color: var(--fill-color);\n",
       "    }\n",
       "    90% {\n",
       "      border-color: transparent;\n",
       "      border-bottom-color: var(--fill-color);\n",
       "    }\n",
       "  }\n",
       "</style>\n",
       "\n",
       "  <script>\n",
       "    async function quickchart(key) {\n",
       "      const quickchartButtonEl =\n",
       "        document.querySelector('#' + key + ' button');\n",
       "      quickchartButtonEl.disabled = true;  // To prevent multiple clicks.\n",
       "      quickchartButtonEl.classList.add('colab-df-spinner');\n",
       "      try {\n",
       "        const charts = await google.colab.kernel.invokeFunction(\n",
       "            'suggestCharts', [key], {});\n",
       "      } catch (error) {\n",
       "        console.error('Error during call to suggestCharts:', error);\n",
       "      }\n",
       "      quickchartButtonEl.classList.remove('colab-df-spinner');\n",
       "      quickchartButtonEl.classList.add('colab-df-quickchart-complete');\n",
       "    }\n",
       "    (() => {\n",
       "      let quickchartButtonEl =\n",
       "        document.querySelector('#df-fbedd6ea-1bbb-4891-900c-762e3c7e8ea5 button');\n",
       "      quickchartButtonEl.style.display =\n",
       "        google.colab.kernel.accessAllowed ? 'block' : 'none';\n",
       "    })();\n",
       "  </script>\n",
       "</div>\n",
       "    </div>\n",
       "  </div>\n"
      ],
      "text/plain": [
       "            date   meantemp    humidity  wind_speed  meanpressure\n",
       "0     2013-01-01  10.000000   84.500000    0.000000   1015.666667\n",
       "1     2013-01-02   7.400000   92.000000    2.980000   1017.800000\n",
       "2     2013-01-03   7.166667   87.000000    4.633333   1018.666667\n",
       "3     2013-01-04   8.666667   71.333333    1.233333   1017.166667\n",
       "4     2013-01-05   6.000000   86.833333    3.700000   1016.500000\n",
       "...          ...        ...         ...         ...           ...\n",
       "1457  2016-12-28  17.217391   68.043478    3.547826   1015.565217\n",
       "1458  2016-12-29  15.238095   87.857143    6.000000   1016.904762\n",
       "1459  2016-12-30  14.095238   89.666667    6.266667   1017.904762\n",
       "1460  2016-12-31  15.052632   87.000000    7.325000   1016.100000\n",
       "1461  2017-01-01  10.000000  100.000000    0.000000   1016.000000\n",
       "\n",
       "[1462 rows x 5 columns]"
      ]
     },
     "execution_count": 15,
     "metadata": {},
     "output_type": "execute_result"
    }
   ],
   "source": [
    "data"
   ]
  },
  {
   "cell_type": "markdown",
   "id": "_9-QnvkXKDEi",
   "metadata": {
    "id": "_9-QnvkXKDEi"
   },
   "source": [
    "##  **Data Cleaning**"
   ]
  },
  {
   "cell_type": "code",
   "execution_count": 16,
   "id": "0eef428f",
   "metadata": {
    "colab": {
     "base_uri": "https://localhost:8080/"
    },
    "id": "0eef428f",
    "outputId": "923e06ed-7606-4771-d717-fee074796149"
   },
   "outputs": [
    {
     "name": "stdout",
     "output_type": "stream",
     "text": [
      "<class 'pandas.core.frame.DataFrame'>\n",
      "RangeIndex: 1462 entries, 0 to 1461\n",
      "Data columns (total 5 columns):\n",
      " #   Column        Non-Null Count  Dtype  \n",
      "---  ------        --------------  -----  \n",
      " 0   date          1462 non-null   object \n",
      " 1   meantemp      1462 non-null   float64\n",
      " 2   humidity      1462 non-null   float64\n",
      " 3   wind_speed    1462 non-null   float64\n",
      " 4   meanpressure  1462 non-null   float64\n",
      "dtypes: float64(4), object(1)\n",
      "memory usage: 57.2+ KB\n"
     ]
    }
   ],
   "source": [
    "data.info()"
   ]
  },
  {
   "cell_type": "code",
   "execution_count": 17,
   "id": "b1a099c8",
   "metadata": {
    "colab": {
     "base_uri": "https://localhost:8080/"
    },
    "id": "b1a099c8",
    "outputId": "34ebb75b-7b79-4768-a780-2499fe5d5bce"
   },
   "outputs": [
    {
     "data": {
      "text/plain": [
       "date            0\n",
       "meantemp        0\n",
       "humidity        0\n",
       "wind_speed      0\n",
       "meanpressure    0\n",
       "dtype: int64"
      ]
     },
     "execution_count": 17,
     "metadata": {},
     "output_type": "execute_result"
    }
   ],
   "source": [
    "data.isnull().sum()"
   ]
  },
  {
   "cell_type": "code",
   "execution_count": 18,
   "id": "7d4720c7",
   "metadata": {
    "colab": {
     "base_uri": "https://localhost:8080/"
    },
    "id": "7d4720c7",
    "outputId": "925077bc-ee3a-406d-887e-6e1c6779c926"
   },
   "outputs": [
    {
     "name": "stdout",
     "output_type": "stream",
     "text": [
      "object\n"
     ]
    }
   ],
   "source": [
    "print (data['date'].dtype)"
   ]
  },
  {
   "cell_type": "code",
   "execution_count": 19,
   "id": "067195fd",
   "metadata": {
    "id": "067195fd"
   },
   "outputs": [],
   "source": [
    "data['date'] = pd.to_datetime(data['date'])"
   ]
  },
  {
   "cell_type": "code",
   "execution_count": 21,
   "id": "69184428",
   "metadata": {
    "colab": {
     "base_uri": "https://localhost:8080/"
    },
    "id": "69184428",
    "outputId": "4ca16a28-3a79-461b-c9bd-364a2f34d062"
   },
   "outputs": [
    {
     "name": "stdout",
     "output_type": "stream",
     "text": [
      "datetime64[ns]\n"
     ]
    }
   ],
   "source": [
    "print (data['date'].dtype)"
   ]
  },
  {
   "cell_type": "code",
   "execution_count": 22,
   "id": "7a966e51",
   "metadata": {
    "id": "7a966e51"
   },
   "outputs": [],
   "source": [
    "data['year'] = data['date'].dt.year\n",
    "data['month'] = data['date'].dt.month\n",
    "data['day'] = data['date'].dt.day"
   ]
  },
  {
   "cell_type": "code",
   "execution_count": 23,
   "id": "f520c69d",
   "metadata": {
    "colab": {
     "base_uri": "https://localhost:8080/",
     "height": 423
    },
    "id": "f520c69d",
    "outputId": "74ae560e-61fc-42bf-cb0f-cd725321ca44"
   },
   "outputs": [
    {
     "data": {
      "text/html": [
       "\n",
       "  <div id=\"df-eaff6790-be96-4538-a4c8-4f238b565cd1\" class=\"colab-df-container\">\n",
       "    <div>\n",
       "<style scoped>\n",
       "    .dataframe tbody tr th:only-of-type {\n",
       "        vertical-align: middle;\n",
       "    }\n",
       "\n",
       "    .dataframe tbody tr th {\n",
       "        vertical-align: top;\n",
       "    }\n",
       "\n",
       "    .dataframe thead th {\n",
       "        text-align: right;\n",
       "    }\n",
       "</style>\n",
       "<table border=\"1\" class=\"dataframe\">\n",
       "  <thead>\n",
       "    <tr style=\"text-align: right;\">\n",
       "      <th></th>\n",
       "      <th>date</th>\n",
       "      <th>meantemp</th>\n",
       "      <th>humidity</th>\n",
       "      <th>wind_speed</th>\n",
       "      <th>meanpressure</th>\n",
       "      <th>year</th>\n",
       "      <th>month</th>\n",
       "      <th>day</th>\n",
       "    </tr>\n",
       "  </thead>\n",
       "  <tbody>\n",
       "    <tr>\n",
       "      <th>0</th>\n",
       "      <td>2013-01-01</td>\n",
       "      <td>10.000000</td>\n",
       "      <td>84.500000</td>\n",
       "      <td>0.000000</td>\n",
       "      <td>1015.666667</td>\n",
       "      <td>2013</td>\n",
       "      <td>1</td>\n",
       "      <td>1</td>\n",
       "    </tr>\n",
       "    <tr>\n",
       "      <th>1</th>\n",
       "      <td>2013-01-02</td>\n",
       "      <td>7.400000</td>\n",
       "      <td>92.000000</td>\n",
       "      <td>2.980000</td>\n",
       "      <td>1017.800000</td>\n",
       "      <td>2013</td>\n",
       "      <td>1</td>\n",
       "      <td>2</td>\n",
       "    </tr>\n",
       "    <tr>\n",
       "      <th>2</th>\n",
       "      <td>2013-01-03</td>\n",
       "      <td>7.166667</td>\n",
       "      <td>87.000000</td>\n",
       "      <td>4.633333</td>\n",
       "      <td>1018.666667</td>\n",
       "      <td>2013</td>\n",
       "      <td>1</td>\n",
       "      <td>3</td>\n",
       "    </tr>\n",
       "    <tr>\n",
       "      <th>3</th>\n",
       "      <td>2013-01-04</td>\n",
       "      <td>8.666667</td>\n",
       "      <td>71.333333</td>\n",
       "      <td>1.233333</td>\n",
       "      <td>1017.166667</td>\n",
       "      <td>2013</td>\n",
       "      <td>1</td>\n",
       "      <td>4</td>\n",
       "    </tr>\n",
       "    <tr>\n",
       "      <th>4</th>\n",
       "      <td>2013-01-05</td>\n",
       "      <td>6.000000</td>\n",
       "      <td>86.833333</td>\n",
       "      <td>3.700000</td>\n",
       "      <td>1016.500000</td>\n",
       "      <td>2013</td>\n",
       "      <td>1</td>\n",
       "      <td>5</td>\n",
       "    </tr>\n",
       "    <tr>\n",
       "      <th>...</th>\n",
       "      <td>...</td>\n",
       "      <td>...</td>\n",
       "      <td>...</td>\n",
       "      <td>...</td>\n",
       "      <td>...</td>\n",
       "      <td>...</td>\n",
       "      <td>...</td>\n",
       "      <td>...</td>\n",
       "    </tr>\n",
       "    <tr>\n",
       "      <th>1457</th>\n",
       "      <td>2016-12-28</td>\n",
       "      <td>17.217391</td>\n",
       "      <td>68.043478</td>\n",
       "      <td>3.547826</td>\n",
       "      <td>1015.565217</td>\n",
       "      <td>2016</td>\n",
       "      <td>12</td>\n",
       "      <td>28</td>\n",
       "    </tr>\n",
       "    <tr>\n",
       "      <th>1458</th>\n",
       "      <td>2016-12-29</td>\n",
       "      <td>15.238095</td>\n",
       "      <td>87.857143</td>\n",
       "      <td>6.000000</td>\n",
       "      <td>1016.904762</td>\n",
       "      <td>2016</td>\n",
       "      <td>12</td>\n",
       "      <td>29</td>\n",
       "    </tr>\n",
       "    <tr>\n",
       "      <th>1459</th>\n",
       "      <td>2016-12-30</td>\n",
       "      <td>14.095238</td>\n",
       "      <td>89.666667</td>\n",
       "      <td>6.266667</td>\n",
       "      <td>1017.904762</td>\n",
       "      <td>2016</td>\n",
       "      <td>12</td>\n",
       "      <td>30</td>\n",
       "    </tr>\n",
       "    <tr>\n",
       "      <th>1460</th>\n",
       "      <td>2016-12-31</td>\n",
       "      <td>15.052632</td>\n",
       "      <td>87.000000</td>\n",
       "      <td>7.325000</td>\n",
       "      <td>1016.100000</td>\n",
       "      <td>2016</td>\n",
       "      <td>12</td>\n",
       "      <td>31</td>\n",
       "    </tr>\n",
       "    <tr>\n",
       "      <th>1461</th>\n",
       "      <td>2017-01-01</td>\n",
       "      <td>10.000000</td>\n",
       "      <td>100.000000</td>\n",
       "      <td>0.000000</td>\n",
       "      <td>1016.000000</td>\n",
       "      <td>2017</td>\n",
       "      <td>1</td>\n",
       "      <td>1</td>\n",
       "    </tr>\n",
       "  </tbody>\n",
       "</table>\n",
       "<p>1462 rows × 8 columns</p>\n",
       "</div>\n",
       "    <div class=\"colab-df-buttons\">\n",
       "\n",
       "  <div class=\"colab-df-container\">\n",
       "    <button class=\"colab-df-convert\" onclick=\"convertToInteractive('df-eaff6790-be96-4538-a4c8-4f238b565cd1')\"\n",
       "            title=\"Convert this dataframe to an interactive table.\"\n",
       "            style=\"display:none;\">\n",
       "\n",
       "  <svg xmlns=\"http://www.w3.org/2000/svg\" height=\"24px\" viewBox=\"0 -960 960 960\">\n",
       "    <path d=\"M120-120v-720h720v720H120Zm60-500h600v-160H180v160Zm220 220h160v-160H400v160Zm0 220h160v-160H400v160ZM180-400h160v-160H180v160Zm440 0h160v-160H620v160ZM180-180h160v-160H180v160Zm440 0h160v-160H620v160Z\"/>\n",
       "  </svg>\n",
       "    </button>\n",
       "\n",
       "  <style>\n",
       "    .colab-df-container {\n",
       "      display:flex;\n",
       "      gap: 12px;\n",
       "    }\n",
       "\n",
       "    .colab-df-convert {\n",
       "      background-color: #E8F0FE;\n",
       "      border: none;\n",
       "      border-radius: 50%;\n",
       "      cursor: pointer;\n",
       "      display: none;\n",
       "      fill: #1967D2;\n",
       "      height: 32px;\n",
       "      padding: 0 0 0 0;\n",
       "      width: 32px;\n",
       "    }\n",
       "\n",
       "    .colab-df-convert:hover {\n",
       "      background-color: #E2EBFA;\n",
       "      box-shadow: 0px 1px 2px rgba(60, 64, 67, 0.3), 0px 1px 3px 1px rgba(60, 64, 67, 0.15);\n",
       "      fill: #174EA6;\n",
       "    }\n",
       "\n",
       "    .colab-df-buttons div {\n",
       "      margin-bottom: 4px;\n",
       "    }\n",
       "\n",
       "    [theme=dark] .colab-df-convert {\n",
       "      background-color: #3B4455;\n",
       "      fill: #D2E3FC;\n",
       "    }\n",
       "\n",
       "    [theme=dark] .colab-df-convert:hover {\n",
       "      background-color: #434B5C;\n",
       "      box-shadow: 0px 1px 3px 1px rgba(0, 0, 0, 0.15);\n",
       "      filter: drop-shadow(0px 1px 2px rgba(0, 0, 0, 0.3));\n",
       "      fill: #FFFFFF;\n",
       "    }\n",
       "  </style>\n",
       "\n",
       "    <script>\n",
       "      const buttonEl =\n",
       "        document.querySelector('#df-eaff6790-be96-4538-a4c8-4f238b565cd1 button.colab-df-convert');\n",
       "      buttonEl.style.display =\n",
       "        google.colab.kernel.accessAllowed ? 'block' : 'none';\n",
       "\n",
       "      async function convertToInteractive(key) {\n",
       "        const element = document.querySelector('#df-eaff6790-be96-4538-a4c8-4f238b565cd1');\n",
       "        const dataTable =\n",
       "          await google.colab.kernel.invokeFunction('convertToInteractive',\n",
       "                                                    [key], {});\n",
       "        if (!dataTable) return;\n",
       "\n",
       "        const docLinkHtml = 'Like what you see? Visit the ' +\n",
       "          '<a target=\"_blank\" href=https://colab.research.google.com/notebooks/data_table.ipynb>data table notebook</a>'\n",
       "          + ' to learn more about interactive tables.';\n",
       "        element.innerHTML = '';\n",
       "        dataTable['output_type'] = 'display_data';\n",
       "        await google.colab.output.renderOutput(dataTable, element);\n",
       "        const docLink = document.createElement('div');\n",
       "        docLink.innerHTML = docLinkHtml;\n",
       "        element.appendChild(docLink);\n",
       "      }\n",
       "    </script>\n",
       "  </div>\n",
       "\n",
       "\n",
       "<div id=\"df-c09023fb-d77e-4f73-a98a-cd266f083d49\">\n",
       "  <button class=\"colab-df-quickchart\" onclick=\"quickchart('df-c09023fb-d77e-4f73-a98a-cd266f083d49')\"\n",
       "            title=\"Suggest charts.\"\n",
       "            style=\"display:none;\">\n",
       "\n",
       "<svg xmlns=\"http://www.w3.org/2000/svg\" height=\"24px\"viewBox=\"0 0 24 24\"\n",
       "     width=\"24px\">\n",
       "    <g>\n",
       "        <path d=\"M19 3H5c-1.1 0-2 .9-2 2v14c0 1.1.9 2 2 2h14c1.1 0 2-.9 2-2V5c0-1.1-.9-2-2-2zM9 17H7v-7h2v7zm4 0h-2V7h2v10zm4 0h-2v-4h2v4z\"/>\n",
       "    </g>\n",
       "</svg>\n",
       "  </button>\n",
       "\n",
       "<style>\n",
       "  .colab-df-quickchart {\n",
       "      --bg-color: #E8F0FE;\n",
       "      --fill-color: #1967D2;\n",
       "      --hover-bg-color: #E2EBFA;\n",
       "      --hover-fill-color: #174EA6;\n",
       "      --disabled-fill-color: #AAA;\n",
       "      --disabled-bg-color: #DDD;\n",
       "  }\n",
       "\n",
       "  [theme=dark] .colab-df-quickchart {\n",
       "      --bg-color: #3B4455;\n",
       "      --fill-color: #D2E3FC;\n",
       "      --hover-bg-color: #434B5C;\n",
       "      --hover-fill-color: #FFFFFF;\n",
       "      --disabled-bg-color: #3B4455;\n",
       "      --disabled-fill-color: #666;\n",
       "  }\n",
       "\n",
       "  .colab-df-quickchart {\n",
       "    background-color: var(--bg-color);\n",
       "    border: none;\n",
       "    border-radius: 50%;\n",
       "    cursor: pointer;\n",
       "    display: none;\n",
       "    fill: var(--fill-color);\n",
       "    height: 32px;\n",
       "    padding: 0;\n",
       "    width: 32px;\n",
       "  }\n",
       "\n",
       "  .colab-df-quickchart:hover {\n",
       "    background-color: var(--hover-bg-color);\n",
       "    box-shadow: 0 1px 2px rgba(60, 64, 67, 0.3), 0 1px 3px 1px rgba(60, 64, 67, 0.15);\n",
       "    fill: var(--button-hover-fill-color);\n",
       "  }\n",
       "\n",
       "  .colab-df-quickchart-complete:disabled,\n",
       "  .colab-df-quickchart-complete:disabled:hover {\n",
       "    background-color: var(--disabled-bg-color);\n",
       "    fill: var(--disabled-fill-color);\n",
       "    box-shadow: none;\n",
       "  }\n",
       "\n",
       "  .colab-df-spinner {\n",
       "    border: 2px solid var(--fill-color);\n",
       "    border-color: transparent;\n",
       "    border-bottom-color: var(--fill-color);\n",
       "    animation:\n",
       "      spin 1s steps(1) infinite;\n",
       "  }\n",
       "\n",
       "  @keyframes spin {\n",
       "    0% {\n",
       "      border-color: transparent;\n",
       "      border-bottom-color: var(--fill-color);\n",
       "      border-left-color: var(--fill-color);\n",
       "    }\n",
       "    20% {\n",
       "      border-color: transparent;\n",
       "      border-left-color: var(--fill-color);\n",
       "      border-top-color: var(--fill-color);\n",
       "    }\n",
       "    30% {\n",
       "      border-color: transparent;\n",
       "      border-left-color: var(--fill-color);\n",
       "      border-top-color: var(--fill-color);\n",
       "      border-right-color: var(--fill-color);\n",
       "    }\n",
       "    40% {\n",
       "      border-color: transparent;\n",
       "      border-right-color: var(--fill-color);\n",
       "      border-top-color: var(--fill-color);\n",
       "    }\n",
       "    60% {\n",
       "      border-color: transparent;\n",
       "      border-right-color: var(--fill-color);\n",
       "    }\n",
       "    80% {\n",
       "      border-color: transparent;\n",
       "      border-right-color: var(--fill-color);\n",
       "      border-bottom-color: var(--fill-color);\n",
       "    }\n",
       "    90% {\n",
       "      border-color: transparent;\n",
       "      border-bottom-color: var(--fill-color);\n",
       "    }\n",
       "  }\n",
       "</style>\n",
       "\n",
       "  <script>\n",
       "    async function quickchart(key) {\n",
       "      const quickchartButtonEl =\n",
       "        document.querySelector('#' + key + ' button');\n",
       "      quickchartButtonEl.disabled = true;  // To prevent multiple clicks.\n",
       "      quickchartButtonEl.classList.add('colab-df-spinner');\n",
       "      try {\n",
       "        const charts = await google.colab.kernel.invokeFunction(\n",
       "            'suggestCharts', [key], {});\n",
       "      } catch (error) {\n",
       "        console.error('Error during call to suggestCharts:', error);\n",
       "      }\n",
       "      quickchartButtonEl.classList.remove('colab-df-spinner');\n",
       "      quickchartButtonEl.classList.add('colab-df-quickchart-complete');\n",
       "    }\n",
       "    (() => {\n",
       "      let quickchartButtonEl =\n",
       "        document.querySelector('#df-c09023fb-d77e-4f73-a98a-cd266f083d49 button');\n",
       "      quickchartButtonEl.style.display =\n",
       "        google.colab.kernel.accessAllowed ? 'block' : 'none';\n",
       "    })();\n",
       "  </script>\n",
       "</div>\n",
       "    </div>\n",
       "  </div>\n"
      ],
      "text/plain": [
       "           date   meantemp    humidity  wind_speed  meanpressure  year  month  \\\n",
       "0    2013-01-01  10.000000   84.500000    0.000000   1015.666667  2013      1   \n",
       "1    2013-01-02   7.400000   92.000000    2.980000   1017.800000  2013      1   \n",
       "2    2013-01-03   7.166667   87.000000    4.633333   1018.666667  2013      1   \n",
       "3    2013-01-04   8.666667   71.333333    1.233333   1017.166667  2013      1   \n",
       "4    2013-01-05   6.000000   86.833333    3.700000   1016.500000  2013      1   \n",
       "...         ...        ...         ...         ...           ...   ...    ...   \n",
       "1457 2016-12-28  17.217391   68.043478    3.547826   1015.565217  2016     12   \n",
       "1458 2016-12-29  15.238095   87.857143    6.000000   1016.904762  2016     12   \n",
       "1459 2016-12-30  14.095238   89.666667    6.266667   1017.904762  2016     12   \n",
       "1460 2016-12-31  15.052632   87.000000    7.325000   1016.100000  2016     12   \n",
       "1461 2017-01-01  10.000000  100.000000    0.000000   1016.000000  2017      1   \n",
       "\n",
       "      day  \n",
       "0       1  \n",
       "1       2  \n",
       "2       3  \n",
       "3       4  \n",
       "4       5  \n",
       "...   ...  \n",
       "1457   28  \n",
       "1458   29  \n",
       "1459   30  \n",
       "1460   31  \n",
       "1461    1  \n",
       "\n",
       "[1462 rows x 8 columns]"
      ]
     },
     "execution_count": 23,
     "metadata": {},
     "output_type": "execute_result"
    }
   ],
   "source": [
    "data"
   ]
  },
  {
   "cell_type": "code",
   "execution_count": 24,
   "id": "98cd7d0e",
   "metadata": {
    "colab": {
     "base_uri": "https://localhost:8080/"
    },
    "id": "98cd7d0e",
    "outputId": "0fdd6f03-447d-4d15-99d9-c4e4818dd716"
   },
   "outputs": [
    {
     "data": {
      "text/plain": [
       "2016    366\n",
       "2013    365\n",
       "2014    365\n",
       "2015    365\n",
       "2017      1\n",
       "Name: year, dtype: int64"
      ]
     },
     "execution_count": 24,
     "metadata": {},
     "output_type": "execute_result"
    }
   ],
   "source": [
    "data.year.value_counts()"
   ]
  },
  {
   "cell_type": "markdown",
   "id": "7sJtziyXRzt4",
   "metadata": {
    "id": "7sJtziyXRzt4"
   },
   "source": [
    "## **Data Analysis**"
   ]
  },
  {
   "cell_type": "code",
   "execution_count": 26,
   "id": "be7caf00",
   "metadata": {
    "colab": {
     "base_uri": "https://localhost:8080/"
    },
    "id": "be7caf00",
    "outputId": "6a7584c9-d7f5-4d8e-a1b5-885ae4b3e35a"
   },
   "outputs": [
    {
     "name": "stderr",
     "output_type": "stream",
     "text": [
      "<ipython-input-26-d9a448acd2ec>:1: FutureWarning: The default value of numeric_only in DataFrame.corr is deprecated. In a future version, it will default to False. Select only valid columns or specify the value of numeric_only to silence this warning.\n",
      "  correlation = data.corr()\n"
     ]
    }
   ],
   "source": [
    "correlation = data.corr()"
   ]
  },
  {
   "cell_type": "code",
   "execution_count": 27,
   "id": "8fb17b81",
   "metadata": {
    "colab": {
     "base_uri": "https://localhost:8080/",
     "height": 767
    },
    "id": "8fb17b81",
    "outputId": "72006f1e-4158-40d9-a9b9-6e0a1d93ec88"
   },
   "outputs": [
    {
     "data": {
      "image/png": "[encoded data removed]",
      "text/plain": [
       "<Figure size 1000x800 with 2 Axes>"
      ]
     },
     "metadata": {},
     "output_type": "display_data"
    }
   ],
   "source": [
    "\n",
    "plt.figure(figsize=(10, 8))\n",
    "sns.heatmap(correlation, annot=True, cmap='rocket')\n",
    "plt.show()"
   ]
  },
  {
   "cell_type": "code",
   "execution_count": 28,
   "id": "b1c5adf2",
   "metadata": {
    "colab": {
     "base_uri": "https://localhost:8080/",
     "height": 542
    },
    "id": "b1c5adf2",
    "outputId": "49f6cab7-3495-4093-b14c-d4109fc6cebf"
   },
   "outputs": [
    {
     "data": {
      "text/html": [
       "<html>\n",
       "<head><meta charset=\"utf-8\" /></head>\n",
       "<body>\n",
       "    <div>            <script src=\"https://cdnjs.cloudflare.com/ajax/libs/mathjax/2.7.5/MathJax.js?config=TeX-AMS-MML_SVG\"></script><script type=\"text/javascript\">if (window.MathJax && window.MathJax.Hub && window.MathJax.Hub.Config) {window.MathJax.Hub.Config({SVG: {font: \"STIX-Web\"}});}</script>                <script type=\"text/javascript\">window.PlotlyConfig = {MathJaxConfig: 'local'};</script>\n",
       "        <script charset=\"utf-8\" src=\"https://cdn.plot.ly/plotly-2.24.1.min.js\"></script>                <div id=\"7c965536-92b8-4b77-bd56-64387dda75d4\" class=\"plotly-graph-div\" style=\"height:525px; width:100%;\"></div>            <script type=\"text/javascript\">                                    window.PLOTLYENV=window.PLOTLYENV || {};                                    if (document.getElementById(\"7c965536-92b8-4b77-bd56-64387dda75d4\")) {                    Plotly.newPlot(                        \"7c965536-92b8-4b77-bd56-64387dda75d4\",                        [{\"hovertemplate\":\"date=%{x}\\u003cbr\\u003emeantemp=%{y}\\u003cextra\\u003e\\u003c\\u002fextra\\u003e\",\"legendgroup\":\"\",\"line\":{\"color\":\"#636efa\",\"dash\":\"solid\"},\"marker\":{\"symbol\":\"circle\"},\"mode\":\"lines\",\"name\":\"\",\"showlegend\":false,\"x\":[\"2013-01-01T00:00:00\",\"2013-01-02T00:00:00\",\"2013-01-03T00:00:00\",\"2013-01-04T00:00:00\",\"2013-01-05T00:00:00\",\"2013-01-06T00:00:00\",\"2013-01-07T00:00:00\",\"2013-01-08T00:00:00\",\"2013-01-09T00:00:00\",\"2013-01-10T00:00:00\",\"2013-01-11T00:00:00\",\"2013-01-12T00:00:00\",\"2013-01-13T00:00:00\",\"2013-01-14T00:00:00\",\"2013-01-15T00:00:00\",\"2013-01-16T00:00:00\",\"2013-01-17T00:00:00\",\"2013-01-18T00:00:00\",\"2013-01-19T00:00:00\",\"2013-01-20T00:00:00\",\"2013-01-21T00:00:00\",\"2013-01-22T00:00:00\",\"2013-01-23T00:00:00\",\"2013-01-24T00:00:00\",\"2013-01-25T00:00:00\",\"2013-01-26T00:00:00\",\"2013-01-27T00:00:00\",\"2013-01-28T00:00:00\",\"2013-01-29T00:00:00\",\"2013-01-30T00:00:00\",\"2013-01-31T00:00:00\",\"2013-02-01T00:00:00\",\"2013-02-02T00:00:00\",\"2013-02-03T00:00:00\",\"2013-02-04T00:00:00\",\"2013-02-05T00:00:00\",\"2013-02-06T00:00:00\",\"2013-02-07T00:00:00\",\"2013-02-08T00:00:00\",\"2013-02-09T00:00:00\",\"2013-02-10T00:00:00\",\"2013-02-11T00:00:00\",\"2013-02-12T00:00:00\",\"2013-02-13T00:00:00\",\"2013-02-14T00:00:00\",\"2013-02-15T00:00:00\",\"2013-02-16T00:00:00\",\"2013-02-17T00:00:00\",\"2013-02-18T00:00:00\",\"2013-02-19T00:00:00\",\"2013-02-20T00:00:00\",\"2013-02-21T00:00:00\",\"2013-02-22T00:00:00\",\"2013-02-23T00:00:00\",\"2013-02-24T00:00:00\",\"2013-02-25T00:00:00\",\"2013-02-26T00:00:00\",\"2013-02-27T00:00:00\",\"2013-02-28T00:00:00\",\"2013-03-01T00:00:00\",\"2013-03-02T00:00:00\",\"2013-03-03T00:00:00\",\"2013-03-04T00:00:00\",\"2013-03-05T00:00:00\",\"2013-03-06T00:00:00\",\"2013-03-07T00:00:00\",\"2013-03-08T00:00:00\",\"2013-03-09T00:00:00\",\"2013-03-10T00:00:00\",\"2013-03-11T00:00:00\",\"2013-03-12T00:00:00\",\"2013-03-13T00:00:00\",\"2013-03-14T00:00:00\",\"2013-03-15T00:00:00\",\"2013-03-16T00:00:00\",\"2013-03-17T00:00:00\",\"2013-03-18T00:00:00\",\"2013-03-19T00:00:00\",\"2013-03-20T00:00:00\",\"2013-03-21T00:00:00\",\"2013-03-22T00:00:00\",\"2013-03-23T00:00:00\",\"2013-03-24T00:00:00\",\"2013-03-25T00:00:00\",\"2013-03-26T00:00:00\",\"2013-03-27T00:00:00\",\"2013-03-28T00:00:00\",\"2013-03-29T00:00:00\",\"2013-03-30T00:00:00\",\"2013-03-31T00:00:00\",\"2013-04-01T00:00:00\",\"2013-04-02T00:00:00\",\"2013-04-03T00:00:00\",\"2013-04-04T00:00:00\",\"2013-04-05T00:00:00\",\"2013-04-06T00:00:00\",\"2013-04-07T00:00:00\",\"2013-04-08T00:00:00\",\"2013-04-09T00:00:00\",\"2013-04-10T00:00:00\",\"2013-04-11T00:00:00\",\"2013-04-12T00:00:00\",\"2013-04-13T00:00:00\",\"2013-04-14T00:00:00\",\"2013-04-15T00:00:00\",\"2013-04-16T00:00:00\",\"2013-04-17T00:00:00\",\"2013-04-18T00:00:00\",\"2013-04-19T00:00:00\",\"2013-04-20T00:00:00\",\"2013-04-21T00:00:00\",\"2013-04-22T00:00:00\",\"2013-04-23T00:00:00\",\"2013-04-24T00:00:00\",\"2013-04-25T00:00:00\",\"2013-04-26T00:00:00\",\"2013-04-27T00:00:00\",\"2013-04-28T00:00:00\",\"2013-04-29T00:00:00\",\"2013-04-30T00:00:00\",\"2013-05-01T00:00:00\",\"2013-05-02T00:00:00\",\"2013-05-03T00:00:00\",\"2013-05-04T00:00:00\",\"2013-05-05T00:00:00\",\"2013-05-06T00:00:00\",\"2013-05-07T00:00:00\",\"2013-05-08T00:00:00\",\"2013-05-09T00:00:00\",\"2013-05-10T00:00:00\",\"2013-05-11T00:00:00\",\"2013-05-12T00:00:00\",\"2013-05-13T00:00:00\",\"2013-05-14T00:00:00\",\"2013-05-15T00:00:00\",\"2013-05-16T00:00:00\",\"2013-05-17T00:00:00\",\"2013-05-18T00:00:00\",\"2013-05-19T00:00:00\",\"2013-05-20T00:00:00\",\"2013-05-21T00:00:00\",\"2013-05-22T00:00:00\",\"2013-05-23T00:00:00\",\"2013-05-24T00:00:00\",\"2013-05-25T00:00:00\",\"2013-05-26T00:00:00\",\"2013-05-27T00:00:00\",\"2013-05-28T00:00:00\",\"2013-05-29T00:00:00\",\"2013-05-30T00:00:00\",\"2013-05-31T00:00:00\",\"2013-06-01T00:00:00\",\"2013-06-02T00:00:00\",\"2013-06-03T00:00:00\",\"2013-06-04T00:00:00\",\"2013-06-05T00:00:00\",\"2013-06-06T00:00:00\",\"2013-06-07T00:00:00\",\"2013-06-08T00:00:00\",\"2013-06-09T00:00:00\",\"2013-06-10T00:00:00\",\"2013-06-11T00:00:00\",\"2013-06-12T00:00:00\",\"2013-06-13T00:00:00\",\"2013-06-14T00:00:00\",\"2013-06-15T00:00:00\",\"2013-06-16T00:00:00\",\"2013-06-17T00:00:00\",\"2013-06-18T00:00:00\",\"2013-06-19T00:00:00\",\"2013-06-20T00:00:00\",\"2013-06-21T00:00:00\",\"2013-06-22T00:00:00\",\"2013-06-23T00:00:00\",\"2013-06-24T00:00:00\",\"2013-06-25T00:00:00\",\"2013-06-26T00:00:00\",\"2013-06-27T00:00:00\",\"2013-06-28T00:00:00\",\"2013-06-29T00:00:00\",\"2013-06-30T00:00:00\",\"2013-07-01T00:00:00\",\"2013-07-02T00:00:00\",\"2013-07-03T00:00:00\",\"2013-07-04T00:00:00\",\"2013-07-05T00:00:00\",\"2013-07-06T00:00:00\",\"2013-07-07T00:00:00\",\"2013-07-08T00:00:00\",\"2013-07-09T00:00:00\",\"2013-07-10T00:00:00\",\"2013-07-11T00:00:00\",\"2013-07-12T00:00:00\",\"2013-07-13T00:00:00\",\"2013-07-14T00:00:00\",\"2013-07-15T00:00:00\",\"2013-07-16T00:00:00\",\"2013-07-17T00:00:00\",\"2013-07-18T00:00:00\",\"2013-07-19T00:00:00\",\"2013-07-20T00:00:00\",\"2013-07-21T00:00:00\",\"2013-07-22T00:00:00\",\"2013-07-23T00:00:00\",\"2013-07-24T00:00:00\",\"2013-07-25T00:00:00\",\"2013-07-26T00:00:00\",\"2013-07-27T00:00:00\",\"2013-07-28T00:00:00\",\"2013-07-29T00:00:00\",\"2013-07-30T00:00:00\",\"2013-07-31T00:00:00\",\"2013-08-01T00:00:00\",\"2013-08-02T00:00:00\",\"2013-08-03T00:00:00\",\"2013-08-04T00:00:00\",\"2013-08-05T00:00:00\",\"2013-08-06T00:00:00\",\"2013-08-07T00:00:00\",\"2013-08-08T00:00:00\",\"2013-08-09T00:00:00\",\"2013-08-10T00:00:00\",\"2013-08-11T00:00:00\",\"2013-08-12T00:00:00\",\"2013-08-13T00:00:00\",\"2013-08-14T00:00:00\",\"2013-08-15T00:00:00\",\"2013-08-16T00:00:00\",\"2013-08-17T00:00:00\",\"2013-08-18T00:00:00\",\"2013-08-19T00:00:00\",\"2013-08-20T00:00:00\",\"2013-08-21T00:00:00\",\"2013-08-22T00:00:00\",\"2013-08-23T00:00:00\",\"2013-08-24T00:00:00\",\"2013-08-25T00:00:00\",\"2013-08-26T00:00:00\",\"2013-08-27T00:00:00\",\"2013-08-28T00:00:00\",\"2013-08-29T00:00:00\",\"2013-08-30T00:00:00\",\"2013-08-31T00:00:00\",\"2013-09-01T00:00:00\",\"2013-09-02T00:00:00\",\"2013-09-03T00:00:00\",\"2013-09-04T00:00:00\",\"2013-09-05T00:00:00\",\"2013-09-06T00:00:00\",\"2013-09-07T00:00:00\",\"2013-09-08T00:00:00\",\"2013-09-09T00:00:00\",\"2013-09-10T00:00:00\",\"2013-09-11T00:00:00\",\"2013-09-12T00:00:00\",\"2013-09-13T00:00:00\",\"2013-09-14T00:00:00\",\"2013-09-15T00:00:00\",\"2013-09-16T00:00:00\",\"2013-09-17T00:00:00\",\"2013-09-18T00:00:00\",\"2013-09-19T00:00:00\",\"2013-09-20T00:00:00\",\"2013-09-21T00:00:00\",\"2013-09-22T00:00:00\",\"2013-09-23T00:00:00\",\"2013-09-24T00:00:00\",\"2013-09-25T00:00:00\",\"2013-09-26T00:00:00\",\"2013-09-27T00:00:00\",\"2013-09-28T00:00:00\",\"2013-09-29T00:00:00\",\"2013-09-30T00:00:00\",\"2013-10-01T00:00:00\",\"2013-10-02T00:00:00\",\"2013-10-03T00:00:00\",\"2013-10-04T00:00:00\",\"2013-10-05T00:00:00\",\"2013-10-06T00:00:00\",\"2013-10-07T00:00:00\",\"2013-10-08T00:00:00\",\"2013-10-09T00:00:00\",\"2013-10-10T00:00:00\",\"2013-10-11T00:00:00\",\"2013-10-12T00:00:00\",\"2013-10-13T00:00:00\",\"2013-10-14T00:00:00\",\"2013-10-15T00:00:00\",\"2013-10-16T00:00:00\",\"2013-10-17T00:00:00\",\"2013-10-18T00:00:00\",\"2013-10-19T00:00:00\",\"2013-10-20T00:00:00\",\"2013-10-21T00:00:00\",\"2013-10-22T00:00:00\",\"2013-10-23T00:00:00\",\"2013-10-24T00:00:00\",\"2013-10-25T00:00:00\",\"2013-10-26T00:00:00\",\"2013-10-27T00:00:00\",\"2013-10-28T00:00:00\",\"2013-10-29T00:00:00\",\"2013-10-30T00:00:00\",\"2013-10-31T00:00:00\",\"2013-11-01T00:00:00\",\"2013-11-02T00:00:00\",\"2013-11-03T00:00:00\",\"2013-11-04T00:00:00\",\"2013-11-05T00:00:00\",\"2013-11-06T00:00:00\",\"2013-11-07T00:00:00\",\"2013-11-08T00:00:00\",\"2013-11-09T00:00:00\",\"2013-11-10T00:00:00\",\"2013-11-11T00:00:00\",\"2013-11-12T00:00:00\",\"2013-11-13T00:00:00\",\"2013-11-14T00:00:00\",\"2013-11-15T00:00:00\",\"2013-11-16T00:00:00\",\"2013-11-17T00:00:00\",\"2013-11-18T00:00:00\",\"2013-11-19T00:00:00\",\"2013-11-20T00:00:00\",\"2013-11-21T00:00:00\",\"2013-11-22T00:00:00\",\"2013-11-23T00:00:00\",\"2013-11-24T00:00:00\",\"2013-11-25T00:00:00\",\"2013-11-26T00:00:00\",\"2013-11-27T00:00:00\",\"2013-11-28T00:00:00\",\"2013-11-29T00:00:00\",\"2013-11-30T00:00:00\",\"2013-12-01T00:00:00\",\"2013-12-02T00:00:00\",\"2013-12-03T00:00:00\",\"2013-12-04T00:00:00\",\"2013-12-05T00:00:00\",\"2013-12-06T00:00:00\",\"2013-12-07T00:00:00\",\"2013-12-08T00:00:00\",\"2013-12-09T00:00:00\",\"2013-12-10T00:00:00\",\"2013-12-11T00:00:00\",\"2013-12-12T00:00:00\",\"2013-12-13T00:00:00\",\"2013-12-14T00:00:00\",\"2013-12-15T00:00:00\",\"2013-12-16T00:00:00\",\"2013-12-17T00:00:00\",\"2013-12-18T00:00:00\",\"2013-12-19T00:00:00\",\"2013-12-20T00:00:00\",\"2013-12-21T00:00:00\",\"2013-12-22T00:00:00\",\"2013-12-23T00:00:00\",\"2013-12-24T00:00:00\",\"2013-12-25T00:00:00\",\"2013-12-26T00:00:00\",\"2013-12-27T00:00:00\",\"2013-12-28T00:00:00\",\"2013-12-29T00:00:00\",\"2013-12-30T00:00:00\",\"2013-12-31T00:00:00\",\"2014-01-01T00:00:00\",\"2014-01-02T00:00:00\",\"2014-01-03T00:00:00\",\"2014-01-04T00:00:00\",\"2014-01-05T00:00:00\",\"2014-01-06T00:00:00\",\"2014-01-07T00:00:00\",\"2014-01-08T00:00:00\",\"2014-01-09T00:00:00\",\"2014-01-10T00:00:00\",\"2014-01-11T00:00:00\",\"2014-01-12T00:00:00\",\"2014-01-13T00:00:00\",\"2014-01-14T00:00:00\",\"2014-01-15T00:00:00\",\"2014-01-16T00:00:00\",\"2014-01-17T00:00:00\",\"2014-01-18T00:00:00\",\"2014-01-19T00:00:00\",\"2014-01-20T00:00:00\",\"2014-01-21T00:00:00\",\"2014-01-22T00:00:00\",\"2014-01-23T00:00:00\",\"2014-01-24T00:00:00\",\"2014-01-25T00:00:00\",\"2014-01-26T00:00:00\",\"2014-01-27T00:00:00\",\"2014-01-28T00:00:00\",\"2014-01-29T00:00:00\",\"2014-01-30T00:00:00\",\"2014-01-31T00:00:00\",\"2014-02-01T00:00:00\",\"2014-02-02T00:00:00\",\"2014-02-03T00:00:00\",\"2014-02-04T00:00:00\",\"2014-02-05T00:00:00\",\"2014-02-06T00:00:00\",\"2014-02-07T00:00:00\",\"2014-02-08T00:00:00\",\"2014-02-09T00:00:00\",\"2014-02-10T00:00:00\",\"2014-02-11T00:00:00\",\"2014-02-12T00:00:00\",\"2014-02-13T00:00:00\",\"2014-02-14T00:00:00\",\"2014-02-15T00:00:00\",\"2014-02-16T00:00:00\",\"2014-02-17T00:00:00\",\"2014-02-18T00:00:00\",\"2014-02-19T00:00:00\",\"2014-02-20T00:00:00\",\"2014-02-21T00:00:00\",\"2014-02-22T00:00:00\",\"2014-02-23T00:00:00\",\"2014-02-24T00:00:00\",\"2014-02-25T00:00:00\",\"2014-02-26T00:00:00\",\"2014-02-27T00:00:00\",\"2014-02-28T00:00:00\",\"2014-03-01T00:00:00\",\"2014-03-02T00:00:00\",\"2014-03-03T00:00:00\",\"2014-03-04T00:00:00\",\"2014-03-05T00:00:00\",\"2014-03-06T00:00:00\",\"2014-03-07T00:00:00\",\"2014-03-08T00:00:00\",\"2014-03-09T00:00:00\",\"2014-03-10T00:00:00\",\"2014-03-11T00:00:00\",\"2014-03-12T00:00:00\",\"2014-03-13T00:00:00\",\"2014-03-14T00:00:00\",\"2014-03-15T00:00:00\",\"2014-03-16T00:00:00\",\"2014-03-17T00:00:00\",\"2014-03-18T00:00:00\",\"2014-03-19T00:00:00\",\"2014-03-20T00:00:00\",\"2014-03-21T00:00:00\",\"2014-03-22T00:00:00\",\"2014-03-23T00:00:00\",\"2014-03-24T00:00:00\",\"2014-03-25T00:00:00\",\"2014-03-26T00:00:00\",\"2014-03-27T00:00:00\",\"2014-03-28T00:00:00\",\"2014-03-29T00:00:00\",\"2014-03-30T00:00:00\",\"2014-03-31T00:00:00\",\"2014-04-01T00:00:00\",\"2014-04-02T00:00:00\",\"2014-04-03T00:00:00\",\"2014-04-04T00:00:00\",\"2014-04-05T00:00:00\",\"2014-04-06T00:00:00\",\"2014-04-07T00:00:00\",\"2014-04-08T00:00:00\",\"2014-04-09T00:00:00\",\"2014-04-10T00:00:00\",\"2014-04-11T00:00:00\",\"2014-04-12T00:00:00\",\"2014-04-13T00:00:00\",\"2014-04-14T00:00:00\",\"2014-04-15T00:00:00\",\"2014-04-16T00:00:00\",\"2014-04-17T00:00:00\",\"2014-04-18T00:00:00\",\"2014-04-19T00:00:00\",\"2014-04-20T00:00:00\",\"2014-04-21T00:00:00\",\"2014-04-22T00:00:00\",\"2014-04-23T00:00:00\",\"2014-04-24T00:00:00\",\"2014-04-25T00:00:00\",\"2014-04-26T00:00:00\",\"2014-04-27T00:00:00\",\"2014-04-28T00:00:00\",\"2014-04-29T00:00:00\",\"2014-04-30T00:00:00\",\"2014-05-01T00:00:00\",\"2014-05-02T00:00:00\",\"2014-05-03T00:00:00\",\"2014-05-04T00:00:00\",\"2014-05-05T00:00:00\",\"2014-05-06T00:00:00\",\"2014-05-07T00:00:00\",\"2014-05-08T00:00:00\",\"2014-05-09T00:00:00\",\"2014-05-10T00:00:00\",\"2014-05-11T00:00:00\",\"2014-05-12T00:00:00\",\"2014-05-13T00:00:00\",\"2014-05-14T00:00:00\",\"2014-05-15T00:00:00\",\"2014-05-16T00:00:00\",\"2014-05-17T00:00:00\",\"2014-05-18T00:00:00\",\"2014-05-19T00:00:00\",\"2014-05-20T00:00:00\",\"2014-05-21T00:00:00\",\"2014-05-22T00:00:00\",\"2014-05-23T00:00:00\",\"2014-05-24T00:00:00\",\"2014-05-25T00:00:00\",\"2014-05-26T00:00:00\",\"2014-05-27T00:00:00\",\"2014-05-28T00:00:00\",\"2014-05-29T00:00:00\",\"2014-05-30T00:00:00\",\"2014-05-31T00:00:00\",\"2014-06-01T00:00:00\",\"2014-06-02T00:00:00\",\"2014-06-03T00:00:00\",\"2014-06-04T00:00:00\",\"2014-06-05T00:00:00\",\"2014-06-06T00:00:00\",\"2014-06-07T00:00:00\",\"2014-06-08T00:00:00\",\"2014-06-09T00:00:00\",\"2014-06-10T00:00:00\",\"2014-06-11T00:00:00\",\"2014-06-12T00:00:00\",\"2014-06-13T00:00:00\",\"2014-06-14T00:00:00\",\"2014-06-15T00:00:00\",\"2014-06-16T00:00:00\",\"2014-06-17T00:00:00\",\"2014-06-18T00:00:00\",\"2014-06-19T00:00:00\",\"2014-06-20T00:00:00\",\"2014-06-21T00:00:00\",\"2014-06-22T00:00:00\",\"2014-06-23T00:00:00\",\"2014-06-24T00:00:00\",\"2014-06-25T00:00:00\",\"2014-06-26T00:00:00\",\"2014-06-27T00:00:00\",\"2014-06-28T00:00:00\",\"2014-06-29T00:00:00\",\"2014-06-30T00:00:00\",\"2014-07-01T00:00:00\",\"2014-07-02T00:00:00\",\"2014-07-03T00:00:00\",\"2014-07-04T00:00:00\",\"2014-07-05T00:00:00\",\"2014-07-06T00:00:00\",\"2014-07-07T00:00:00\",\"2014-07-08T00:00:00\",\"2014-07-09T00:00:00\",\"2014-07-10T00:00:00\",\"2014-07-11T00:00:00\",\"2014-07-12T00:00:00\",\"2014-07-13T00:00:00\",\"2014-07-14T00:00:00\",\"2014-07-15T00:00:00\",\"2014-07-16T00:00:00\",\"2014-07-17T00:00:00\",\"2014-07-18T00:00:00\",\"2014-07-19T00:00:00\",\"2014-07-20T00:00:00\",\"2014-07-21T00:00:00\",\"2014-07-22T00:00:00\",\"2014-07-23T00:00:00\",\"2014-07-24T00:00:00\",\"2014-07-25T00:00:00\",\"2014-07-26T00:00:00\",\"2014-07-27T00:00:00\",\"2014-07-28T00:00:00\",\"2014-07-29T00:00:00\",\"2014-07-30T00:00:00\",\"2014-07-31T00:00:00\",\"2014-08-01T00:00:00\",\"2014-08-02T00:00:00\",\"2014-08-03T00:00:00\",\"2014-08-04T00:00:00\",\"2014-08-05T00:00:00\",\"2014-08-06T00:00:00\",\"2014-08-07T00:00:00\",\"2014-08-08T00:00:00\",\"2014-08-09T00:00:00\",\"2014-08-10T00:00:00\",\"2014-08-11T00:00:00\",\"2014-08-12T00:00:00\",\"2014-08-13T00:00:00\",\"2014-08-14T00:00:00\",\"2014-08-15T00:00:00\",\"2014-08-16T00:00:00\",\"2014-08-17T00:00:00\",\"2014-08-18T00:00:00\",\"2014-08-19T00:00:00\",\"2014-08-20T00:00:00\",\"2014-08-21T00:00:00\",\"2014-08-22T00:00:00\",\"2014-08-23T00:00:00\",\"2014-08-24T00:00:00\",\"2014-08-25T00:00:00\",\"2014-08-26T00:00:00\",\"2014-08-27T00:00:00\",\"2014-08-28T00:00:00\",\"2014-08-29T00:00:00\",\"2014-08-30T00:00:00\",\"2014-08-31T00:00:00\",\"2014-09-01T00:00:00\",\"2014-09-02T00:00:00\",\"2014-09-03T00:00:00\",\"2014-09-04T00:00:00\",\"2014-09-05T00:00:00\",\"2014-09-06T00:00:00\",\"2014-09-07T00:00:00\",\"2014-09-08T00:00:00\",\"2014-09-09T00:00:00\",\"2014-09-10T00:00:00\",\"2014-09-11T00:00:00\",\"2014-09-12T00:00:00\",\"2014-09-13T00:00:00\",\"2014-09-14T00:00:00\",\"2014-09-15T00:00:00\",\"2014-09-16T00:00:00\",\"2014-09-17T00:00:00\",\"2014-09-18T00:00:00\",\"2014-09-19T00:00:00\",\"2014-09-20T00:00:00\",\"2014-09-21T00:00:00\",\"2014-09-22T00:00:00\",\"2014-09-23T00:00:00\",\"2014-09-24T00:00:00\",\"2014-09-25T00:00:00\",\"2014-09-26T00:00:00\",\"2014-09-27T00:00:00\",\"2014-09-28T00:00:00\",\"2014-09-29T00:00:00\",\"2014-09-30T00:00:00\",\"2014-10-01T00:00:00\",\"2014-10-02T00:00:00\",\"2014-10-03T00:00:00\",\"2014-10-04T00:00:00\",\"2014-10-05T00:00:00\",\"2014-10-06T00:00:00\",\"2014-10-07T00:00:00\",\"2014-10-08T00:00:00\",\"2014-10-09T00:00:00\",\"2014-10-10T00:00:00\",\"2014-10-11T00:00:00\",\"2014-10-12T00:00:00\",\"2014-10-13T00:00:00\",\"2014-10-14T00:00:00\",\"2014-10-15T00:00:00\",\"2014-10-16T00:00:00\",\"2014-10-17T00:00:00\",\"2014-10-18T00:00:00\",\"2014-10-19T00:00:00\",\"2014-10-20T00:00:00\",\"2014-10-21T00:00:00\",\"2014-10-22T00:00:00\",\"2014-10-23T00:00:00\",\"2014-10-24T00:00:00\",\"2014-10-25T00:00:00\",\"2014-10-26T00:00:00\",\"2014-10-27T00:00:00\",\"2014-10-28T00:00:00\",\"2014-10-29T00:00:00\",\"2014-10-30T00:00:00\",\"2014-10-31T00:00:00\",\"2014-11-01T00:00:00\",\"2014-11-02T00:00:00\",\"2014-11-03T00:00:00\",\"2014-11-04T00:00:00\",\"2014-11-05T00:00:00\",\"2014-11-06T00:00:00\",\"2014-11-07T00:00:00\",\"2014-11-08T00:00:00\",\"2014-11-09T00:00:00\",\"2014-11-10T00:00:00\",\"2014-11-11T00:00:00\",\"2014-11-12T00:00:00\",\"2014-11-13T00:00:00\",\"2014-11-14T00:00:00\",\"2014-11-15T00:00:00\",\"2014-11-16T00:00:00\",\"2014-11-17T00:00:00\",\"2014-11-18T00:00:00\",\"2014-11-19T00:00:00\",\"2014-11-20T00:00:00\",\"2014-11-21T00:00:00\",\"2014-11-22T00:00:00\",\"2014-11-23T00:00:00\",\"2014-11-24T00:00:00\",\"2014-11-25T00:00:00\",\"2014-11-26T00:00:00\",\"2014-11-27T00:00:00\",\"2014-11-28T00:00:00\",\"2014-11-29T00:00:00\",\"2014-11-30T00:00:00\",\"2014-12-01T00:00:00\",\"2014-12-02T00:00:00\",\"2014-12-03T00:00:00\",\"2014-12-04T00:00:00\",\"2014-12-05T00:00:00\",\"2014-12-06T00:00:00\",\"2014-12-07T00:00:00\",\"2014-12-08T00:00:00\",\"2014-12-09T00:00:00\",\"2014-12-10T00:00:00\",\"2014-12-11T00:00:00\",\"2014-12-12T00:00:00\",\"2014-12-13T00:00:00\",\"2014-12-14T00:00:00\",\"2014-12-15T00:00:00\",\"2014-12-16T00:00:00\",\"2014-12-17T00:00:00\",\"2014-12-18T00:00:00\",\"2014-12-19T00:00:00\",\"2014-12-20T00:00:00\",\"2014-12-21T00:00:00\",\"2014-12-22T00:00:00\",\"2014-12-23T00:00:00\",\"2014-12-24T00:00:00\",\"2014-12-25T00:00:00\",\"2014-12-26T00:00:00\",\"2014-12-27T00:00:00\",\"2014-12-28T00:00:00\",\"2014-12-29T00:00:00\",\"2014-12-30T00:00:00\",\"2014-12-31T00:00:00\",\"2015-01-01T00:00:00\",\"2015-01-02T00:00:00\",\"2015-01-03T00:00:00\",\"2015-01-04T00:00:00\",\"2015-01-05T00:00:00\",\"2015-01-06T00:00:00\",\"2015-01-07T00:00:00\",\"2015-01-08T00:00:00\",\"2015-01-09T00:00:00\",\"2015-01-10T00:00:00\",\"2015-01-11T00:00:00\",\"2015-01-12T00:00:00\",\"2015-01-13T00:00:00\",\"2015-01-14T00:00:00\",\"2015-01-15T00:00:00\",\"2015-01-16T00:00:00\",\"2015-01-17T00:00:00\",\"2015-01-18T00:00:00\",\"2015-01-19T00:00:00\",\"2015-01-20T00:00:00\",\"2015-01-21T00:00:00\",\"2015-01-22T00:00:00\",\"2015-01-23T00:00:00\",\"2015-01-24T00:00:00\",\"2015-01-25T00:00:00\",\"2015-01-26T00:00:00\",\"2015-01-27T00:00:00\",\"2015-01-28T00:00:00\",\"2015-01-29T00:00:00\",\"2015-01-30T00:00:00\",\"2015-01-31T00:00:00\",\"2015-02-01T00:00:00\",\"2015-02-02T00:00:00\",\"2015-02-03T00:00:00\",\"2015-02-04T00:00:00\",\"2015-02-05T00:00:00\",\"2015-02-06T00:00:00\",\"2015-02-07T00:00:00\",\"2015-02-08T00:00:00\",\"2015-02-09T00:00:00\",\"2015-02-10T00:00:00\",\"2015-02-11T00:00:00\",\"2015-02-12T00:00:00\",\"2015-02-13T00:00:00\",\"2015-02-14T00:00:00\",\"2015-02-15T00:00:00\",\"2015-02-16T00:00:00\",\"2015-02-17T00:00:00\",\"2015-02-18T00:00:00\",\"2015-02-19T00:00:00\",\"2015-02-20T00:00:00\",\"2015-02-21T00:00:00\",\"2015-02-22T00:00:00\",\"2015-02-23T00:00:00\",\"2015-02-24T00:00:00\",\"2015-02-25T00:00:00\",\"2015-02-26T00:00:00\",\"2015-02-27T00:00:00\",\"2015-02-28T00:00:00\",\"2015-03-01T00:00:00\",\"2015-03-02T00:00:00\",\"2015-03-03T00:00:00\",\"2015-03-04T00:00:00\",\"2015-03-05T00:00:00\",\"2015-03-06T00:00:00\",\"2015-03-07T00:00:00\",\"2015-03-08T00:00:00\",\"2015-03-09T00:00:00\",\"2015-03-10T00:00:00\",\"2015-03-11T00:00:00\",\"2015-03-12T00:00:00\",\"2015-03-13T00:00:00\",\"2015-03-14T00:00:00\",\"2015-03-15T00:00:00\",\"2015-03-16T00:00:00\",\"2015-03-17T00:00:00\",\"2015-03-18T00:00:00\",\"2015-03-19T00:00:00\",\"2015-03-20T00:00:00\",\"2015-03-21T00:00:00\",\"2015-03-22T00:00:00\",\"2015-03-23T00:00:00\",\"2015-03-24T00:00:00\",\"2015-03-25T00:00:00\",\"2015-03-26T00:00:00\",\"2015-03-27T00:00:00\",\"2015-03-28T00:00:00\",\"2015-03-29T00:00:00\",\"2015-03-30T00:00:00\",\"2015-03-31T00:00:00\",\"2015-04-01T00:00:00\",\"2015-04-02T00:00:00\",\"2015-04-03T00:00:00\",\"2015-04-04T00:00:00\",\"2015-04-05T00:00:00\",\"2015-04-06T00:00:00\",\"2015-04-07T00:00:00\",\"2015-04-08T00:00:00\",\"2015-04-09T00:00:00\",\"2015-04-10T00:00:00\",\"2015-04-11T00:00:00\",\"2015-04-12T00:00:00\",\"2015-04-13T00:00:00\",\"2015-04-14T00:00:00\",\"2015-04-15T00:00:00\",\"2015-04-16T00:00:00\",\"2015-04-17T00:00:00\",\"2015-04-18T00:00:00\",\"2015-04-19T00:00:00\",\"2015-04-20T00:00:00\",\"2015-04-21T00:00:00\",\"2015-04-22T00:00:00\",\"2015-04-23T00:00:00\",\"2015-04-24T00:00:00\",\"2015-04-25T00:00:00\",\"2015-04-26T00:00:00\",\"2015-04-27T00:00:00\",\"2015-04-28T00:00:00\",\"2015-04-29T00:00:00\",\"2015-04-30T00:00:00\",\"2015-05-01T00:00:00\",\"2015-05-02T00:00:00\",\"2015-05-03T00:00:00\",\"2015-05-04T00:00:00\",\"2015-05-05T00:00:00\",\"2015-05-06T00:00:00\",\"2015-05-07T00:00:00\",\"2015-05-08T00:00:00\",\"2015-05-09T00:00:00\",\"2015-05-10T00:00:00\",\"2015-05-11T00:00:00\",\"2015-05-12T00:00:00\",\"2015-05-13T00:00:00\",\"2015-05-14T00:00:00\",\"2015-05-15T00:00:00\",\"2015-05-16T00:00:00\",\"2015-05-17T00:00:00\",\"2015-05-18T00:00:00\",\"2015-05-19T00:00:00\",\"2015-05-20T00:00:00\",\"2015-05-21T00:00:00\",\"2015-05-22T00:00:00\",\"2015-05-23T00:00:00\",\"2015-05-24T00:00:00\",\"2015-05-25T00:00:00\",\"2015-05-26T00:00:00\",\"2015-05-27T00:00:00\",\"2015-05-28T00:00:00\",\"2015-05-29T00:00:00\",\"2015-05-30T00:00:00\",\"2015-05-31T00:00:00\",\"2015-06-01T00:00:00\",\"2015-06-02T00:00:00\",\"2015-06-03T00:00:00\",\"2015-06-04T00:00:00\",\"2015-06-05T00:00:00\",\"2015-06-06T00:00:00\",\"2015-06-07T00:00:00\",\"2015-06-08T00:00:00\",\"2015-06-09T00:00:00\",\"2015-06-10T00:00:00\",\"2015-06-11T00:00:00\",\"2015-06-12T00:00:00\",\"2015-06-13T00:00:00\",\"2015-06-14T00:00:00\",\"2015-06-15T00:00:00\",\"2015-06-16T00:00:00\",\"2015-06-17T00:00:00\",\"2015-06-18T00:00:00\",\"2015-06-19T00:00:00\",\"2015-06-20T00:00:00\",\"2015-06-21T00:00:00\",\"2015-06-22T00:00:00\",\"2015-06-23T00:00:00\",\"2015-06-24T00:00:00\",\"2015-06-25T00:00:00\",\"2015-06-26T00:00:00\",\"2015-06-27T00:00:00\",\"2015-06-28T00:00:00\",\"2015-06-29T00:00:00\",\"2015-06-30T00:00:00\",\"2015-07-01T00:00:00\",\"2015-07-02T00:00:00\",\"2015-07-03T00:00:00\",\"2015-07-04T00:00:00\",\"2015-07-05T00:00:00\",\"2015-07-06T00:00:00\",\"2015-07-07T00:00:00\",\"2015-07-08T00:00:00\",\"2015-07-09T00:00:00\",\"2015-07-10T00:00:00\",\"2015-07-11T00:00:00\",\"2015-07-12T00:00:00\",\"2015-07-13T00:00:00\",\"2015-07-14T00:00:00\",\"2015-07-15T00:00:00\",\"2015-07-16T00:00:00\",\"2015-07-17T00:00:00\",\"2015-07-18T00:00:00\",\"2015-07-19T00:00:00\",\"2015-07-20T00:00:00\",\"2015-07-21T00:00:00\",\"2015-07-22T00:00:00\",\"2015-07-23T00:00:00\",\"2015-07-24T00:00:00\",\"2015-07-25T00:00:00\",\"2015-07-26T00:00:00\",\"2015-07-27T00:00:00\",\"2015-07-28T00:00:00\",\"2015-07-29T00:00:00\",\"2015-07-30T00:00:00\",\"2015-07-31T00:00:00\",\"2015-08-01T00:00:00\",\"2015-08-02T00:00:00\",\"2015-08-03T00:00:00\",\"2015-08-04T00:00:00\",\"2015-08-05T00:00:00\",\"2015-08-06T00:00:00\",\"2015-08-07T00:00:00\",\"2015-08-08T00:00:00\",\"2015-08-09T00:00:00\",\"2015-08-10T00:00:00\",\"2015-08-11T00:00:00\",\"2015-08-12T00:00:00\",\"2015-08-13T00:00:00\",\"2015-08-14T00:00:00\",\"2015-08-15T00:00:00\",\"2015-08-16T00:00:00\",\"2015-08-17T00:00:00\",\"2015-08-18T00:00:00\",\"2015-08-19T00:00:00\",\"2015-08-20T00:00:00\",\"2015-08-21T00:00:00\",\"2015-08-22T00:00:00\",\"2015-08-23T00:00:00\",\"2015-08-24T00:00:00\",\"2015-08-25T00:00:00\",\"2015-08-26T00:00:00\",\"2015-08-27T00:00:00\",\"2015-08-28T00:00:00\",\"2015-08-29T00:00:00\",\"2015-08-30T00:00:00\",\"2015-08-31T00:00:00\",\"2015-09-01T00:00:00\",\"2015-09-02T00:00:00\",\"2015-09-03T00:00:00\",\"2015-09-04T00:00:00\",\"2015-09-05T00:00:00\",\"2015-09-06T00:00:00\",\"2015-09-07T00:00:00\",\"2015-09-08T00:00:00\",\"2015-09-09T00:00:00\",\"2015-09-10T00:00:00\",\"2015-09-11T00:00:00\",\"2015-09-12T00:00:00\",\"2015-09-13T00:00:00\",\"2015-09-14T00:00:00\",\"2015-09-15T00:00:00\",\"2015-09-16T00:00:00\",\"2015-09-17T00:00:00\",\"2015-09-18T00:00:00\",\"2015-09-19T00:00:00\",\"2015-09-20T00:00:00\",\"2015-09-21T00:00:00\",\"2015-09-22T00:00:00\",\"2015-09-23T00:00:00\",\"2015-09-24T00:00:00\",\"2015-09-25T00:00:00\",\"2015-09-26T00:00:00\",\"2015-09-27T00:00:00\",\"2015-09-28T00:00:00\",\"2015-09-29T00:00:00\",\"2015-09-30T00:00:00\",\"2015-10-01T00:00:00\",\"2015-10-02T00:00:00\",\"2015-10-03T00:00:00\",\"2015-10-04T00:00:00\",\"2015-10-05T00:00:00\",\"2015-10-06T00:00:00\",\"2015-10-07T00:00:00\",\"2015-10-08T00:00:00\",\"2015-10-09T00:00:00\",\"2015-10-10T00:00:00\",\"2015-10-11T00:00:00\",\"2015-10-12T00:00:00\",\"2015-10-13T00:00:00\",\"2015-10-14T00:00:00\",\"2015-10-15T00:00:00\",\"2015-10-16T00:00:00\",\"2015-10-17T00:00:00\",\"2015-10-18T00:00:00\",\"2015-10-19T00:00:00\",\"2015-10-20T00:00:00\",\"2015-10-21T00:00:00\",\"2015-10-22T00:00:00\",\"2015-10-23T00:00:00\",\"2015-10-24T00:00:00\",\"2015-10-25T00:00:00\",\"2015-10-26T00:00:00\",\"2015-10-27T00:00:00\",\"2015-10-28T00:00:00\",\"2015-10-29T00:00:00\",\"2015-10-30T00:00:00\",\"2015-10-31T00:00:00\",\"2015-11-01T00:00:00\",\"2015-11-02T00:00:00\",\"2015-11-03T00:00:00\",\"2015-11-04T00:00:00\",\"2015-11-05T00:00:00\",\"2015-11-06T00:00:00\",\"2015-11-07T00:00:00\",\"2015-11-08T00:00:00\",\"2015-11-09T00:00:00\",\"2015-11-10T00:00:00\",\"2015-11-11T00:00:00\",\"2015-11-12T00:00:00\",\"2015-11-13T00:00:00\",\"2015-11-14T00:00:00\",\"2015-11-15T00:00:00\",\"2015-11-16T00:00:00\",\"2015-11-17T00:00:00\",\"2015-11-18T00:00:00\",\"2015-11-19T00:00:00\",\"2015-11-20T00:00:00\",\"2015-11-21T00:00:00\",\"2015-11-22T00:00:00\",\"2015-11-23T00:00:00\",\"2015-11-24T00:00:00\",\"2015-11-25T00:00:00\",\"2015-11-26T00:00:00\",\"2015-11-27T00:00:00\",\"2015-11-28T00:00:00\",\"2015-11-29T00:00:00\",\"2015-11-30T00:00:00\",\"2015-12-01T00:00:00\",\"2015-12-02T00:00:00\",\"2015-12-03T00:00:00\",\"2015-12-04T00:00:00\",\"2015-12-05T00:00:00\",\"2015-12-06T00:00:00\",\"2015-12-07T00:00:00\",\"2015-12-08T00:00:00\",\"2015-12-09T00:00:00\",\"2015-12-10T00:00:00\",\"2015-12-11T00:00:00\",\"2015-12-12T00:00:00\",\"2015-12-13T00:00:00\",\"2015-12-14T00:00:00\",\"2015-12-15T00:00:00\",\"2015-12-16T00:00:00\",\"2015-12-17T00:00:00\",\"2015-12-18T00:00:00\",\"2015-12-19T00:00:00\",\"2015-12-20T00:00:00\",\"2015-12-21T00:00:00\",\"2015-12-22T00:00:00\",\"2015-12-23T00:00:00\",\"2015-12-24T00:00:00\",\"2015-12-25T00:00:00\",\"2015-12-26T00:00:00\",\"2015-12-27T00:00:00\",\"2015-12-28T00:00:00\",\"2015-12-29T00:00:00\",\"2015-12-30T00:00:00\",\"2015-12-31T00:00:00\",\"2016-01-01T00:00:00\",\"2016-01-02T00:00:00\",\"2016-01-03T00:00:00\",\"2016-01-04T00:00:00\",\"2016-01-05T00:00:00\",\"2016-01-06T00:00:00\",\"2016-01-07T00:00:00\",\"2016-01-08T00:00:00\",\"2016-01-09T00:00:00\",\"2016-01-10T00:00:00\",\"2016-01-11T00:00:00\",\"2016-01-12T00:00:00\",\"2016-01-13T00:00:00\",\"2016-01-14T00:00:00\",\"2016-01-15T00:00:00\",\"2016-01-16T00:00:00\",\"2016-01-17T00:00:00\",\"2016-01-18T00:00:00\",\"2016-01-19T00:00:00\",\"2016-01-20T00:00:00\",\"2016-01-21T00:00:00\",\"2016-01-22T00:00:00\",\"2016-01-23T00:00:00\",\"2016-01-24T00:00:00\",\"2016-01-25T00:00:00\",\"2016-01-26T00:00:00\",\"2016-01-27T00:00:00\",\"2016-01-28T00:00:00\",\"2016-01-29T00:00:00\",\"2016-01-30T00:00:00\",\"2016-01-31T00:00:00\",\"2016-02-01T00:00:00\",\"2016-02-02T00:00:00\",\"2016-02-03T00:00:00\",\"2016-02-04T00:00:00\",\"2016-02-05T00:00:00\",\"2016-02-06T00:00:00\",\"2016-02-07T00:00:00\",\"2016-02-08T00:00:00\",\"2016-02-09T00:00:00\",\"2016-02-10T00:00:00\",\"2016-02-11T00:00:00\",\"2016-02-12T00:00:00\",\"2016-02-13T00:00:00\",\"2016-02-14T00:00:00\",\"2016-02-15T00:00:00\",\"2016-02-16T00:00:00\",\"2016-02-17T00:00:00\",\"2016-02-18T00:00:00\",\"2016-02-19T00:00:00\",\"2016-02-20T00:00:00\",\"2016-02-21T00:00:00\",\"2016-02-22T00:00:00\",\"2016-02-23T00:00:00\",\"2016-02-24T00:00:00\",\"2016-02-25T00:00:00\",\"2016-02-26T00:00:00\",\"2016-02-27T00:00:00\",\"2016-02-28T00:00:00\",\"2016-02-29T00:00:00\",\"2016-03-01T00:00:00\",\"2016-03-02T00:00:00\",\"2016-03-03T00:00:00\",\"2016-03-04T00:00:00\",\"2016-03-05T00:00:00\",\"2016-03-06T00:00:00\",\"2016-03-07T00:00:00\",\"2016-03-08T00:00:00\",\"2016-03-09T00:00:00\",\"2016-03-10T00:00:00\",\"2016-03-11T00:00:00\",\"2016-03-12T00:00:00\",\"2016-03-13T00:00:00\",\"2016-03-14T00:00:00\",\"2016-03-15T00:00:00\",\"2016-03-16T00:00:00\",\"2016-03-17T00:00:00\",\"2016-03-18T00:00:00\",\"2016-03-19T00:00:00\",\"2016-03-20T00:00:00\",\"2016-03-21T00:00:00\",\"2016-03-22T00:00:00\",\"2016-03-23T00:00:00\",\"2016-03-24T00:00:00\",\"2016-03-25T00:00:00\",\"2016-03-26T00:00:00\",\"2016-03-27T00:00:00\",\"2016-03-28T00:00:00\",\"2016-03-29T00:00:00\",\"2016-03-30T00:00:00\",\"2016-03-31T00:00:00\",\"2016-04-01T00:00:00\",\"2016-04-02T00:00:00\",\"2016-04-03T00:00:00\",\"2016-04-04T00:00:00\",\"2016-04-05T00:00:00\",\"2016-04-06T00:00:00\",\"2016-04-07T00:00:00\",\"2016-04-08T00:00:00\",\"2016-04-09T00:00:00\",\"2016-04-10T00:00:00\",\"2016-04-11T00:00:00\",\"2016-04-12T00:00:00\",\"2016-04-13T00:00:00\",\"2016-04-14T00:00:00\",\"2016-04-15T00:00:00\",\"2016-04-16T00:00:00\",\"2016-04-17T00:00:00\",\"2016-04-18T00:00:00\",\"2016-04-19T00:00:00\",\"2016-04-20T00:00:00\",\"2016-04-21T00:00:00\",\"2016-04-22T00:00:00\",\"2016-04-23T00:00:00\",\"2016-04-24T00:00:00\",\"2016-04-25T00:00:00\",\"2016-04-26T00:00:00\",\"2016-04-27T00:00:00\",\"2016-04-28T00:00:00\",\"2016-04-29T00:00:00\",\"2016-04-30T00:00:00\",\"2016-05-01T00:00:00\",\"2016-05-02T00:00:00\",\"2016-05-03T00:00:00\",\"2016-05-04T00:00:00\",\"2016-05-05T00:00:00\",\"2016-05-06T00:00:00\",\"2016-05-07T00:00:00\",\"2016-05-08T00:00:00\",\"2016-05-09T00:00:00\",\"2016-05-10T00:00:00\",\"2016-05-11T00:00:00\",\"2016-05-12T00:00:00\",\"2016-05-13T00:00:00\",\"2016-05-14T00:00:00\",\"2016-05-15T00:00:00\",\"2016-05-16T00:00:00\",\"2016-05-17T00:00:00\",\"2016-05-18T00:00:00\",\"2016-05-19T00:00:00\",\"2016-05-20T00:00:00\",\"2016-05-21T00:00:00\",\"2016-05-22T00:00:00\",\"2016-05-23T00:00:00\",\"2016-05-24T00:00:00\",\"2016-05-25T00:00:00\",\"2016-05-26T00:00:00\",\"2016-05-27T00:00:00\",\"2016-05-28T00:00:00\",\"2016-05-29T00:00:00\",\"2016-05-30T00:00:00\",\"2016-05-31T00:00:00\",\"2016-06-01T00:00:00\",\"2016-06-02T00:00:00\",\"2016-06-03T00:00:00\",\"2016-06-04T00:00:00\",\"2016-06-05T00:00:00\",\"2016-06-06T00:00:00\",\"2016-06-07T00:00:00\",\"2016-06-08T00:00:00\",\"2016-06-09T00:00:00\",\"2016-06-10T00:00:00\",\"2016-06-11T00:00:00\",\"2016-06-12T00:00:00\",\"2016-06-13T00:00:00\",\"2016-06-14T00:00:00\",\"2016-06-15T00:00:00\",\"2016-06-16T00:00:00\",\"2016-06-17T00:00:00\",\"2016-06-18T00:00:00\",\"2016-06-19T00:00:00\",\"2016-06-20T00:00:00\",\"2016-06-21T00:00:00\",\"2016-06-22T00:00:00\",\"2016-06-23T00:00:00\",\"2016-06-24T00:00:00\",\"2016-06-25T00:00:00\",\"2016-06-26T00:00:00\",\"2016-06-27T00:00:00\",\"2016-06-28T00:00:00\",\"2016-06-29T00:00:00\",\"2016-06-30T00:00:00\",\"2016-07-01T00:00:00\",\"2016-07-02T00:00:00\",\"2016-07-03T00:00:00\",\"2016-07-04T00:00:00\",\"2016-07-05T00:00:00\",\"2016-07-06T00:00:00\",\"2016-07-07T00:00:00\",\"2016-07-08T00:00:00\",\"2016-07-09T00:00:00\",\"2016-07-10T00:00:00\",\"2016-07-11T00:00:00\",\"2016-07-12T00:00:00\",\"2016-07-13T00:00:00\",\"2016-07-14T00:00:00\",\"2016-07-15T00:00:00\",\"2016-07-16T00:00:00\",\"2016-07-17T00:00:00\",\"2016-07-18T00:00:00\",\"2016-07-19T00:00:00\",\"2016-07-20T00:00:00\",\"2016-07-21T00:00:00\",\"2016-07-22T00:00:00\",\"2016-07-23T00:00:00\",\"2016-07-24T00:00:00\",\"2016-07-25T00:00:00\",\"2016-07-26T00:00:00\",\"2016-07-27T00:00:00\",\"2016-07-28T00:00:00\",\"2016-07-29T00:00:00\",\"2016-07-30T00:00:00\",\"2016-07-31T00:00:00\",\"2016-08-01T00:00:00\",\"2016-08-02T00:00:00\",\"2016-08-03T00:00:00\",\"2016-08-04T00:00:00\",\"2016-08-05T00:00:00\",\"2016-08-06T00:00:00\",\"2016-08-07T00:00:00\",\"2016-08-08T00:00:00\",\"2016-08-09T00:00:00\",\"2016-08-10T00:00:00\",\"2016-08-11T00:00:00\",\"2016-08-12T00:00:00\",\"2016-08-13T00:00:00\",\"2016-08-14T00:00:00\",\"2016-08-15T00:00:00\",\"2016-08-16T00:00:00\",\"2016-08-17T00:00:00\",\"2016-08-18T00:00:00\",\"2016-08-19T00:00:00\",\"2016-08-20T00:00:00\",\"2016-08-21T00:00:00\",\"2016-08-22T00:00:00\",\"2016-08-23T00:00:00\",\"2016-08-24T00:00:00\",\"2016-08-25T00:00:00\",\"2016-08-26T00:00:00\",\"2016-08-27T00:00:00\",\"2016-08-28T00:00:00\",\"2016-08-29T00:00:00\",\"2016-08-30T00:00:00\",\"2016-08-31T00:00:00\",\"2016-09-01T00:00:00\",\"2016-09-02T00:00:00\",\"2016-09-03T00:00:00\",\"2016-09-04T00:00:00\",\"2016-09-05T00:00:00\",\"2016-09-06T00:00:00\",\"2016-09-07T00:00:00\",\"2016-09-08T00:00:00\",\"2016-09-09T00:00:00\",\"2016-09-10T00:00:00\",\"2016-09-11T00:00:00\",\"2016-09-12T00:00:00\",\"2016-09-13T00:00:00\",\"2016-09-14T00:00:00\",\"2016-09-15T00:00:00\",\"2016-09-16T00:00:00\",\"2016-09-17T00:00:00\",\"2016-09-18T00:00:00\",\"2016-09-19T00:00:00\",\"2016-09-20T00:00:00\",\"2016-09-21T00:00:00\",\"2016-09-22T00:00:00\",\"2016-09-23T00:00:00\",\"2016-09-24T00:00:00\",\"2016-09-25T00:00:00\",\"2016-09-26T00:00:00\",\"2016-09-27T00:00:00\",\"2016-09-28T00:00:00\",\"2016-09-29T00:00:00\",\"2016-09-30T00:00:00\",\"2016-10-01T00:00:00\",\"2016-10-02T00:00:00\",\"2016-10-03T00:00:00\",\"2016-10-04T00:00:00\",\"2016-10-05T00:00:00\",\"2016-10-06T00:00:00\",\"2016-10-07T00:00:00\",\"2016-10-08T00:00:00\",\"2016-10-09T00:00:00\",\"2016-10-10T00:00:00\",\"2016-10-11T00:00:00\",\"2016-10-12T00:00:00\",\"2016-10-13T00:00:00\",\"2016-10-14T00:00:00\",\"2016-10-15T00:00:00\",\"2016-10-16T00:00:00\",\"2016-10-17T00:00:00\",\"2016-10-18T00:00:00\",\"2016-10-19T00:00:00\",\"2016-10-20T00:00:00\",\"2016-10-21T00:00:00\",\"2016-10-22T00:00:00\",\"2016-10-23T00:00:00\",\"2016-10-24T00:00:00\",\"2016-10-25T00:00:00\",\"2016-10-26T00:00:00\",\"2016-10-27T00:00:00\",\"2016-10-28T00:00:00\",\"2016-10-29T00:00:00\",\"2016-10-30T00:00:00\",\"2016-10-31T00:00:00\",\"2016-11-01T00:00:00\",\"2016-11-02T00:00:00\",\"2016-11-03T00:00:00\",\"2016-11-04T00:00:00\",\"2016-11-05T00:00:00\",\"2016-11-06T00:00:00\",\"2016-11-07T00:00:00\",\"2016-11-08T00:00:00\",\"2016-11-09T00:00:00\",\"2016-11-10T00:00:00\",\"2016-11-11T00:00:00\",\"2016-11-12T00:00:00\",\"2016-11-13T00:00:00\",\"2016-11-14T00:00:00\",\"2016-11-15T00:00:00\",\"2016-11-16T00:00:00\",\"2016-11-17T00:00:00\",\"2016-11-18T00:00:00\",\"2016-11-19T00:00:00\",\"2016-11-20T00:00:00\",\"2016-11-21T00:00:00\",\"2016-11-22T00:00:00\",\"2016-11-23T00:00:00\",\"2016-11-24T00:00:00\",\"2016-11-25T00:00:00\",\"2016-11-26T00:00:00\",\"2016-11-27T00:00:00\",\"2016-11-28T00:00:00\",\"2016-11-29T00:00:00\",\"2016-11-30T00:00:00\",\"2016-12-01T00:00:00\",\"2016-12-02T00:00:00\",\"2016-12-03T00:00:00\",\"2016-12-04T00:00:00\",\"2016-12-05T00:00:00\",\"2016-12-06T00:00:00\",\"2016-12-07T00:00:00\",\"2016-12-08T00:00:00\",\"2016-12-09T00:00:00\",\"2016-12-10T00:00:00\",\"2016-12-11T00:00:00\",\"2016-12-12T00:00:00\",\"2016-12-13T00:00:00\",\"2016-12-14T00:00:00\",\"2016-12-15T00:00:00\",\"2016-12-16T00:00:00\",\"2016-12-17T00:00:00\",\"2016-12-18T00:00:00\",\"2016-12-19T00:00:00\",\"2016-12-20T00:00:00\",\"2016-12-21T00:00:00\",\"2016-12-22T00:00:00\",\"2016-12-23T00:00:00\",\"2016-12-24T00:00:00\",\"2016-12-25T00:00:00\",\"2016-12-26T00:00:00\",\"2016-12-27T00:00:00\",\"2016-12-28T00:00:00\",\"2016-12-29T00:00:00\",\"2016-12-30T00:00:00\",\"2016-12-31T00:00:00\",\"2017-01-01T00:00:00\"],\"xaxis\":\"x\",\"y\":[10.0,7.4,7.166666666666667,8.666666666666666,6.0,7.0,7.0,8.857142857142858,14.0,11.0,15.714285714285714,14.0,15.833333333333334,12.833333333333334,14.714285714285714,13.833333333333334,16.5,13.833333333333334,12.5,11.285714285714286,11.2,9.5,14.0,13.833333333333334,12.25,12.666666666666666,12.857142857142858,14.833333333333334,14.125,14.714285714285714,16.2,16.0,16.285714285714285,18.0,17.428571428571427,16.625,16.666666666666668,15.6,14.0,15.428571428571429,15.25,15.875,15.333333333333334,16.285714285714285,17.333333333333332,19.166666666666668,14.428571428571429,13.666666666666666,15.6,15.857142857142858,17.714285714285715,20.0,20.5,17.428571428571427,16.857142857142858,16.875,17.857142857142858,20.8,19.428571428571427,17.333333333333332,19.0,19.33333333333333,17.6,20.875,20.857142857142858,23.428571428571427,24.166666666666668,25.428571428571427,23.142857142857142,24.0,23.5,21.5,22.33333333333333,24.166666666666668,20.33333333333333,22.666666666666668,23.428571428571427,22.5,29.166666666666668,23.83333333333333,25.25,27.375,27.0,23.5,24.142857142857142,21.0,22.428571428571427,21.25,23.5,23.2,25.375,25.166666666666668,26.2,24.6,25.6,25.857142857142858,29.142857142857142,28.714285714285715,30.166666666666668,30.0,30.0,28.857142857142858,30.2,28.25,28.25,32.125,29.2,30.285714285714285,28.285714285714285,30.625,27.666666666666668,27.375,28.625,30.285714285714285,31.142857142857142,29.875,31.142857142857142,30.571428571428573,32.125,31.142857142857142,31.857142857142858,29.83333333333333,28.571428571428573,32.857142857142854,32.625,32.75,32.875,34.5,34.285714285714285,34.0,30.75,29.857142857142858,31.714285714285715,32.285714285714285,33.0,33.0,32.833333333333336,31.4,35.333333333333336,36.4,36.0,36.75,37.5,38.42857142857143,38.71428571428572,37.8,35.857142857142854,35.333333333333336,34.142857142857146,32.2,33.625,32.0,32.4,35.6,35.857142857142854,37.16666666666666,31.285714285714285,34.0,34.2,36.16666666666666,36.625,30.166666666666668,34.142857142857146,29.83333333333333,30.142857142857142,30.714285714285715,27.0,26.875,28.4,29.857142857142858,33.0,34.833333333333336,35.6,35.166666666666664,33.142857142857146,30.571428571428573,30.666666666666668,31.428571428571427,31.5,33.25,32.833333333333336,33.857142857142854,33.142857142857146,31.571428571428573,32.375,32.8,31.0,31.166666666666668,29.83333333333333,29.0,29.75,32.5,28.875,31.75,30.75,31.75,29.875,31.125,31.75,30.5,26.83333333333333,28.2,29.5,31.857142857142858,29.714285714285715,28.33333333333333,30.0,30.142857142857142,32.285714285714285,31.0,30.5,28.83333333333333,30.0,31.571428571428573,32.5,32.5,29.5,27.166666666666668,28.375,28.5,27.166666666666668,29.428571428571427,30.0,29.5,30.75,29.666666666666668,27.714285714285715,26.6,27.428571428571427,28.33333333333333,28.166666666666668,27.375,28.33333333333333,29.166666666666668,31.285714285714285,32.0,29.0,32.0,32.142857142857146,30.142857142857142,31.5,29.166666666666668,29.0,30.0,31.857142857142858,32.75,31.714285714285715,31.666666666666668,30.571428571428573,30.83333333333333,28.0,31.0,29.666666666666668,30.857142857142858,31.166666666666668,31.142857142857142,30.5,31.625,29.666666666666668,29.25,29.142857142857142,29.8,28.666666666666668,25.2,28.33333333333333,30.285714285714285,30.75,28.571428571428573,28.2,29.0,30.0,28.142857142857142,26.857142857142858,28.285714285714285,29.2,28.6,24.83333333333333,28.5,29.75,29.714285714285715,29.2,30.83333333333333,29.428571428571427,23.857142857142858,26.142857142857142,27.166666666666668,27.714285714285715,25.857142857142858,26.428571428571427,26.857142857142858,26.33333333333333,24.571428571428573,24.33333333333333,24.875,27.8,25.0,23.857142857142858,22.8,23.0,22.875,22.666666666666668,23.0,22.857142857142858,23.666666666666668,23.428571428571427,21.625,20.625,21.166666666666668,18.83333333333333,20.571428571428573,20.142857142857142,18.0,19.857142857142858,16.833333333333332,18.857142857142858,16.571428571428573,17.75,17.625,17.0,16.625,15.571428571428571,18.5,17.875,18.25,17.875,17.625,18.142857142857142,19.125,21.25,21.25,19.125,18.625,17.75,17.875,18.0,17.25,17.5,17.142857142857142,17.142857142857142,16.125,16.0,16.5,16.125,15.5,16.625,17.75,17.142857142857142,16.142857142857142,15.5,15.25,14.75,14.875,16.125,15.375,14.75,15.25,14.25,13.5,13.666666666666666,12.125,11.875,10.875,10.571428571428571,12.375,14.5,13.375,11.0,12.5,12.875,12.375,11.428571428571429,12.142857142857142,11.875,12.833333333333334,12.375,12.125,12.875,14.0,14.875,12.0,12.285714285714286,12.0,12.5,14.5,14.625,13.571428571428571,15.25,15.625,13.875,11.75,14.375,16.625,16.625,14.875,14.5,14.75,14.0,15.25,18.428571428571427,18.857142857142858,17.0,18.5,19.625,13.625,12.875,12.625,13.375,13.25,15.25,13.0,12.375,13.5,15.125,15.25,15.125,16.125,17.125,16.625,16.5,16.375,18.125,18.75,18.625,15.625,16.142857142857142,16.125,17.875,18.75,18.875,18.375,18.5,19.875,22.0,20.0,20.714285714285715,20.0,19.0,19.625,21.625,23.125,26.25,24.857142857142858,21.75,21.5,22.5,25.0,22.75,22.375,24.625,25.125,23.5,24.428571428571427,25.875,24.125,24.125,24.875,26.75,25.0,25.857142857142858,27.375,30.125,27.25,25.75,25.75,26.375,28.142857142857142,29.125,26.875,27.625,29.0,27.125,26.375,24.25,25.625,27.0,28.0,29.375,29.125,29.375,30.625,31.5,30.625,31.5,32.125,33.25,34.875,34.375,31.75,31.875,29.75,29.571428571428573,31.75,31.375,30.5,30.0,29.625,28.0,25.25,26.875,29.5,31.125,29.875,31.5,32.375,31.125,33.0,33.25,34.625,31.5,31.5,30.125,31.875,33.625,35.25,33.125,34.625,32.75,32.75,34.875,35.25,36.875,37.5,38.5,37.625,37.875,37.25,37.625,32.875,30.25,30.5,33.875,36.375,36.875,33.875,35.75,38.0,36.875,34.5,32.125,33.0,32.25,32.5,34.75,34.875,33.0,32.0,31.375,29.5,28.875,31.38888888888889,34.705882352941174,30.625,34.0,35.0,36.0,36.125,36.625,35.875,31.625,32.375,33.125,32.625,30.75,27.25,29.875,30.875,32.125,31.625,30.625,30.5,30.75,32.5,31.714285714285715,30.0,30.25,31.875,32.5,33.25,30.125,31.5,30.5,29.75,32.125,31.125,31.0,29.235294117647054,28.5,31.125,32.125,32.125,30.375,31.125,30.428571428571427,31.375,31.875,33.0,33.25,32.5,33.0,33.125,33.125,33.875,34.125,33.857142857142854,29.625,30.375,28.625,27.625,29.428571428571427,29.25,28.625,27.875,26.5,28.5,31.0,31.25,31.0,28.75,26.571428571428573,28.5,29.375,29.125,29.625,30.625,30.625,30.5,31.0,31.125,30.5,30.625,31.0,29.625,30.0,30.0,30.5,30.25,30.5,30.625,30.428571428571427,30.375,30.5,31.0,30.625,30.625,31.0,28.75,27.625,27.125,25.714285714285715,26.0,27.625,24.5,24.5,23.0,25.0,24.0,23.75,24.75,25.625,25.75,25.25,25.5,25.25,25.125,24.875,25.125,24.75,23.875,23.375,22.5,22.875,23.375,23.625,22.75,23.0,24.0,23.875,24.125,21.375,19.25,19.625,18.5,18.375,18.625,18.25,17.75,17.625,17.5,20.375,18.25,19.875,17.125,16.875,16.5,19.625,18.125,19.375,20.25,19.75,20.0,21.375,25.0,21.25,17.75,18.25,17.25,17.0,15.285714285714286,21.5,19.625,17.5,16.0,16.875,16.625,17.75,12.875,11.75,11.75,11.25,9.5,9.375,9.625,9.875,9.25,10.75,10.375,9.0,11.125,11.625,12.375,14.75,14.875,15.125,14.125,14.0,12.0,9.625,10.0,10.625,11.125,11.0,10.625,12.25,12.0,12.375,13.0,13.5,13.0,13.75,13.375,13.25,12.625,14.625,12.375,13.25,13.75,13.25,11.714285714285714,11.5,12.75,13.75,15.0,17.375,16.75,14.625,14.625,15.125,15.875,16.625,16.875,15.75,16.0,15.5,17.25,19.375,18.875,20.625,21.142857142857142,21.25,22.75,22.75,21.875,22.142857142857142,21.5,22.875,23.125,20.0,19.25,21.25,17.375,17.5,16.25,16.75,18.75,20.0,18.375,19.5,18.125,17.75,18.25,20.5,21.375,21.5,17.625,19.857142857142858,20.875,20.25,21.125,22.5,24.875,25.125,24.75,25.75,26.625,28.5,27.375,27.0,25.0,23.5,25.25,26.428571428571427,28.714285714285715,24.5,21.0,23.571428571428573,25.0,23.75,25.625,26.0,27.125,28.25,24.375,24.75,26.25,27.625,25.25,28.125,30.125,32.125,32.875,31.75,30.75,30.75,31.125,30.5,28.75,30.125,31.0,31.25,32.625,31.25,30.125,31.0,30.875,32.125,34.125,35.42857142857143,34.125,35.125,35.125,34.0,33.125,27.75,29.625,28.5,30.0,33.25,35.375,31.5,33.125,35.625,36.25,37.375,36.0,37.75,35.25,33.75,34.75,35.125,32.25,34.25,29.375,31.625,28.625,31.875,32.625,33.375,35.0,36.5,37.625,36.625,35.625,35.875,31.125,27.0,31.0,32.375,33.875,35.125,35.875,33.125,30.375,32.125,31.5,37.25,26.625,31.125,32.625,34.25,31.125,30.875,32.0,33.75,33.0,34.125,35.714285714285715,27.875,28.125,31.25,29.625,26.625,25.5,25.5,29.875,30.875,33.375,31.75,30.75,29.5,30.125,29.125,31.375,32.25,32.125,32.0,30.857142857142858,30.0,29.625,29.5,28.5,29.0,29.0,28.25,29.625,31.5,29.428571428571427,29.59375,29.5,29.25,28.875,27.375,30.375,28.375,30.75,32.0,30.875,28.5,28.625,30.75,29.125,31.25,30.75,29.375,30.25,29.875,30.75,32.0,32.0,32.5,32.0,32.25,32.625,31.857142857142858,32.125,31.875,31.625,32.0,30.875,31.25,31.5,31.625,31.0,31.25,30.75,32.142857142857146,32.125,31.875,33.0,32.375,31.375,31.0,30.625,29.142857142857142,30.125,30.25,28.625,28.25,28.5,29.25,28.714285714285715,28.25,29.0,29.0,28.125,28.285714285714285,30.0,29.0,28.875,28.375,28.625,28.375,28.5,28.5,28.571428571428573,29.25,29.5,28.125,27.5,27.875,28.0,26.857142857142858,28.142857142857142,27.714285714285715,26.5,24.75,24.0,24.875,26.375,25.625,24.75,20.875,22.125,22.375,22.375,22.875,23.375,24.0,23.75,22.125,22.875,21.875,21.875,21.75,22.75,21.875,21.875,22.375,22.375,22.5,21.875,19.875,18.5,18.5,18.5,18.75,18.625,17.0,18.5,19.375,20.0,18.5,18.75,18.125,19.5,19.25,18.125,17.625,17.625,17.5,17.125,17.625,18.428571428571427,18.375,19.0,17.25,13.25,12.875,13.25,13.125,13.0,12.25,12.875,12.375,11.75,12.625,12.0,12.5,11.25,11.5,12.75,15.375,17.125,16.375,15.5,15.0,14.714285714285714,14.0,14.375,15.75,15.833333333333334,17.375,17.125,15.5,15.857142857142858,15.625,15.75,18.0,18.266666666666666,15.5625,13.0,13.6,14.0,13.266666666666667,12.357142857142858,12.066666666666666,12.1875,11.733333333333333,14.4375,11.1875,11.666666666666666,14.5625,17.583333333333332,16.857142857142858,19.5625,20.142857142857142,17.375,15.846153846153848,15.266666666666667,13.125,16.363636363636363,12.666666666666666,15.333333333333334,15.625,17.09090909090909,17.76923076923077,18.133333333333333,19.6875,19.2,17.066666666666666,17.642857142857142,17.6,18.214285714285715,18.714285714285715,19.466666666666665,23.153846153846157,23.625,21.0,21.0,21.428571428571427,21.6875,22.5625,22.8,22.8,23.0,23.875,24.916666666666668,24.933333333333334,26.0,27.3125,23.933333333333334,22.8125,23.714285714285715,23.428571428571427,24.0,25.5625,25.066666666666663,24.5625,24.25,22.375,24.066666666666663,23.9375,26.3125,26.1875,26.785714285714285,27.133333333333333,26.625,25.0625,26.2,28.133333333333333,29.875,24.666666666666668,26.25,25.933333333333334,27.125,29.571428571428573,30.0,30.571428571428573,32.3125,33.3125,32.8125,32.3125,31.375,29.933333333333334,29.266666666666666,30.73333333333333,32.25,29.8,30.2,31.75,33.125,33.625,35.6875,34.666666666666664,34.625,34.0,34.0625,34.0,33.25,31.916666666666668,31.3125,31.75,33.4375,33.125,34.15384615384615,34.07142857142857,33.0625,34.6875,38.0,35.5,33.714285714285715,30.6,31.4375,33.3125,35.13333333333333,33.53333333333333,34.0,32.5,35.375,37.294117647058826,36.5625,37.25,37.21428571428572,37.5,37.75,37.375,37.4,36.13333333333333,36.8,32.214285714285715,31.526315789473685,33.21739130434783,35.26923076923077,38.27272727272727,36.0625,31.5,26.8125,32.642857142857146,36.0,37.5625,37.5625,38.2,36.16666666666666,35.42857142857143,34.625,36.07142857142857,35.733333333333334,36.13333333333333,33.4375,35.5,36.0,32.625,34.733333333333334,33.5,34.1875,35.857142857142854,35.625,30.9375,32.875,33.125,33.84615384615385,36.4375,35.42857142857143,34.86666666666667,34.3125,30.785714285714285,35.375,35.46666666666667,32.125,28.4,29.5625,30.6875,33.25,33.266666666666666,33.5,30.8,33.25,32.5625,31.5,30.5,31.25,30.4375,31.0,27.125,28.125,27.666666666666668,32.3125,34.1875,34.13333333333333,34.125,31.875,31.4375,31.9375,30.3125,28.3125,29.53333333333333,27.375,27.33333333333333,29.266666666666666,29.125,30.6875,32.5625,33.111111111111114,33.8,30.066666666666663,33.11764705882353,33.80952380952381,31.615384615384617,32.0,28.107142857142858,29.035714285714285,30.321428571428573,28.933333333333334,31.678571428571427,31.33333333333333,29.928571428571427,29.88888888888889,32.07142857142857,33.18518518518518,31.59259259259259,32.18518518518518,31.48,30.178571428571427,31.52,31.22222222222222,31.785714285714285,33.4,29.571428571428573,30.04,27.25925925925926,27.96,30.73913043478261,30.894736842105264,31.692307692307693,31.07692307692308,30.375,31.1,31.916666666666668,30.55555555555556,31.23076923076923,31.0,31.642857142857142,32.53333333333333,30.857142857142858,31.727272727272727,31.4,32.30769230769231,32.25,32.375,33.44444444444444,33.36,30.03703703703704,31.0,31.24,31.130434782608692,31.48,32.18518518518518,32.44,32.22727272727273,32.214285714285715,32.541666666666664,32.81481481481482,33.26923076923077,30.55555555555556,28.83333333333333,30.703703703703702,30.96,30.6,30.92,29.77777777777778,29.666666666666668,29.571428571428573,29.96296296296296,29.75,27.74074074074074,28.428571428571427,28.6,28.5,28.925925925925927,29.07692307692308,28.40909090909091,29.33333333333333,27.5,28.5,28.04,27.57692307692308,26.55555555555556,25.51851851851852,25.814814814814813,24.82608695652174,24.53846153846154,24.384615384615383,23.727272727272727,25.64,24.814814814814813,23.115384615384617,22.925925925925927,24.545454545454547,23.73076923076923,23.0,23.51851851851852,23.92,23.53846153846154,24.296296296296298,23.346153846153847,22.24,21.76923076923077,21.73076923076923,21.73076923076923,20.666666666666668,22.25,21.53846153846154,22.57894736842105,22.82608695652174,21.42105263157895,23.6,24.294117647058822,23.63636363636364,22.454545454545453,21.61111111111111,19.869565217391305,19.75,19.20833333333333,21.20833333333333,18.9,18.63636363636364,18.53846153846154,18.25,16.9,19.416666666666668,16.444444444444443,20.041666666666668,19.90909090909091,19.05,18.55555555555556,18.166666666666668,15.833333333333334,17.5,16.083333333333332,17.857142857142858,19.8,18.05,17.285714285714285,15.55,17.318181818181817,14.0,17.142857142857142,16.85,17.217391304347824,15.238095238095235,14.095238095238097,15.052631578947368,10.0],\"yaxis\":\"y\",\"type\":\"scattergl\"}],                        {\"template\":{\"data\":{\"histogram2dcontour\":[{\"type\":\"histogram2dcontour\",\"colorbar\":{\"outlinewidth\":0,\"ticks\":\"\"},\"colorscale\":[[0.0,\"#0d0887\"],[0.1111111111111111,\"#46039f\"],[0.2222222222222222,\"#7201a8\"],[0.3333333333333333,\"#9c179e\"],[0.4444444444444444,\"#bd3786\"],[0.5555555555555556,\"#d8576b\"],[0.6666666666666666,\"#ed7953\"],[0.7777777777777778,\"#fb9f3a\"],[0.8888888888888888,\"#fdca26\"],[1.0,\"#f0f921\"]]}],\"choropleth\":[{\"type\":\"choropleth\",\"colorbar\":{\"outlinewidth\":0,\"ticks\":\"\"}}],\"histogram2d\":[{\"type\":\"histogram2d\",\"colorbar\":{\"outlinewidth\":0,\"ticks\":\"\"},\"colorscale\":[[0.0,\"#0d0887\"],[0.1111111111111111,\"#46039f\"],[0.2222222222222222,\"#7201a8\"],[0.3333333333333333,\"#9c179e\"],[0.4444444444444444,\"#bd3786\"],[0.5555555555555556,\"#d8576b\"],[0.6666666666666666,\"#ed7953\"],[0.7777777777777778,\"#fb9f3a\"],[0.8888888888888888,\"#fdca26\"],[1.0,\"#f0f921\"]]}],\"heatmap\":[{\"type\":\"heatmap\",\"colorbar\":{\"outlinewidth\":0,\"ticks\":\"\"},\"colorscale\":[[0.0,\"#0d0887\"],[0.1111111111111111,\"#46039f\"],[0.2222222222222222,\"#7201a8\"],[0.3333333333333333,\"#9c179e\"],[0.4444444444444444,\"#bd3786\"],[0.5555555555555556,\"#d8576b\"],[0.6666666666666666,\"#ed7953\"],[0.7777777777777778,\"#fb9f3a\"],[0.8888888888888888,\"#fdca26\"],[1.0,\"#f0f921\"]]}],\"heatmapgl\":[{\"type\":\"heatmapgl\",\"colorbar\":{\"outlinewidth\":0,\"ticks\":\"\"},\"colorscale\":[[0.0,\"#0d0887\"],[0.1111111111111111,\"#46039f\"],[0.2222222222222222,\"#7201a8\"],[0.3333333333333333,\"#9c179e\"],[0.4444444444444444,\"#bd3786\"],[0.5555555555555556,\"#d8576b\"],[0.6666666666666666,\"#ed7953\"],[0.7777777777777778,\"#fb9f3a\"],[0.8888888888888888,\"#fdca26\"],[1.0,\"#f0f921\"]]}],\"contourcarpet\":[{\"type\":\"contourcarpet\",\"colorbar\":{\"outlinewidth\":0,\"ticks\":\"\"}}],\"contour\":[{\"type\":\"contour\",\"colorbar\":{\"outlinewidth\":0,\"ticks\":\"\"},\"colorscale\":[[0.0,\"#0d0887\"],[0.1111111111111111,\"#46039f\"],[0.2222222222222222,\"#7201a8\"],[0.3333333333333333,\"#9c179e\"],[0.4444444444444444,\"#bd3786\"],[0.5555555555555556,\"#d8576b\"],[0.6666666666666666,\"#ed7953\"],[0.7777777777777778,\"#fb9f3a\"],[0.8888888888888888,\"#fdca26\"],[1.0,\"#f0f921\"]]}],\"surface\":[{\"type\":\"surface\",\"colorbar\":{\"outlinewidth\":0,\"ticks\":\"\"},\"colorscale\":[[0.0,\"#0d0887\"],[0.1111111111111111,\"#46039f\"],[0.2222222222222222,\"#7201a8\"],[0.3333333333333333,\"#9c179e\"],[0.4444444444444444,\"#bd3786\"],[0.5555555555555556,\"#d8576b\"],[0.6666666666666666,\"#ed7953\"],[0.7777777777777778,\"#fb9f3a\"],[0.8888888888888888,\"#fdca26\"],[1.0,\"#f0f921\"]]}],\"mesh3d\":[{\"type\":\"mesh3d\",\"colorbar\":{\"outlinewidth\":0,\"ticks\":\"\"}}],\"scatter\":[{\"fillpattern\":{\"fillmode\":\"overlay\",\"size\":10,\"solidity\":0.2},\"type\":\"scatter\"}],\"parcoords\":[{\"type\":\"parcoords\",\"line\":{\"colorbar\":{\"outlinewidth\":0,\"ticks\":\"\"}}}],\"scatterpolargl\":[{\"type\":\"scatterpolargl\",\"marker\":{\"colorbar\":{\"outlinewidth\":0,\"ticks\":\"\"}}}],\"bar\":[{\"error_x\":{\"color\":\"#2a3f5f\"},\"error_y\":{\"color\":\"#2a3f5f\"},\"marker\":{\"line\":{\"color\":\"#E5ECF6\",\"width\":0.5},\"pattern\":{\"fillmode\":\"overlay\",\"size\":10,\"solidity\":0.2}},\"type\":\"bar\"}],\"scattergeo\":[{\"type\":\"scattergeo\",\"marker\":{\"colorbar\":{\"outlinewidth\":0,\"ticks\":\"\"}}}],\"scatterpolar\":[{\"type\":\"scatterpolar\",\"marker\":{\"colorbar\":{\"outlinewidth\":0,\"ticks\":\"\"}}}],\"histogram\":[{\"marker\":{\"pattern\":{\"fillmode\":\"overlay\",\"size\":10,\"solidity\":0.2}},\"type\":\"histogram\"}],\"scattergl\":[{\"type\":\"scattergl\",\"marker\":{\"colorbar\":{\"outlinewidth\":0,\"ticks\":\"\"}}}],\"scatter3d\":[{\"type\":\"scatter3d\",\"line\":{\"colorbar\":{\"outlinewidth\":0,\"ticks\":\"\"}},\"marker\":{\"colorbar\":{\"outlinewidth\":0,\"ticks\":\"\"}}}],\"scattermapbox\":[{\"type\":\"scattermapbox\",\"marker\":{\"colorbar\":{\"outlinewidth\":0,\"ticks\":\"\"}}}],\"scatterternary\":[{\"type\":\"scatterternary\",\"marker\":{\"colorbar\":{\"outlinewidth\":0,\"ticks\":\"\"}}}],\"scattercarpet\":[{\"type\":\"scattercarpet\",\"marker\":{\"colorbar\":{\"outlinewidth\":0,\"ticks\":\"\"}}}],\"carpet\":[{\"aaxis\":{\"endlinecolor\":\"#2a3f5f\",\"gridcolor\":\"white\",\"linecolor\":\"white\",\"minorgridcolor\":\"white\",\"startlinecolor\":\"#2a3f5f\"},\"baxis\":{\"endlinecolor\":\"#2a3f5f\",\"gridcolor\":\"white\",\"linecolor\":\"white\",\"minorgridcolor\":\"white\",\"startlinecolor\":\"#2a3f5f\"},\"type\":\"carpet\"}],\"table\":[{\"cells\":{\"fill\":{\"color\":\"#EBF0F8\"},\"line\":{\"color\":\"white\"}},\"header\":{\"fill\":{\"color\":\"#C8D4E3\"},\"line\":{\"color\":\"white\"}},\"type\":\"table\"}],\"barpolar\":[{\"marker\":{\"line\":{\"color\":\"#E5ECF6\",\"width\":0.5},\"pattern\":{\"fillmode\":\"overlay\",\"size\":10,\"solidity\":0.2}},\"type\":\"barpolar\"}],\"pie\":[{\"automargin\":true,\"type\":\"pie\"}]},\"layout\":{\"autotypenumbers\":\"strict\",\"colorway\":[\"#636efa\",\"#EF553B\",\"#00cc96\",\"#ab63fa\",\"#FFA15A\",\"#19d3f3\",\"#FF6692\",\"#B6E880\",\"#FF97FF\",\"#FECB52\"],\"font\":{\"color\":\"#2a3f5f\"},\"hovermode\":\"closest\",\"hoverlabel\":{\"align\":\"left\"},\"paper_bgcolor\":\"white\",\"plot_bgcolor\":\"#E5ECF6\",\"polar\":{\"bgcolor\":\"#E5ECF6\",\"angularaxis\":{\"gridcolor\":\"white\",\"linecolor\":\"white\",\"ticks\":\"\"},\"radialaxis\":{\"gridcolor\":\"white\",\"linecolor\":\"white\",\"ticks\":\"\"}},\"ternary\":{\"bgcolor\":\"#E5ECF6\",\"aaxis\":{\"gridcolor\":\"white\",\"linecolor\":\"white\",\"ticks\":\"\"},\"baxis\":{\"gridcolor\":\"white\",\"linecolor\":\"white\",\"ticks\":\"\"},\"caxis\":{\"gridcolor\":\"white\",\"linecolor\":\"white\",\"ticks\":\"\"}},\"coloraxis\":{\"colorbar\":{\"outlinewidth\":0,\"ticks\":\"\"}},\"colorscale\":{\"sequential\":[[0.0,\"#0d0887\"],[0.1111111111111111,\"#46039f\"],[0.2222222222222222,\"#7201a8\"],[0.3333333333333333,\"#9c179e\"],[0.4444444444444444,\"#bd3786\"],[0.5555555555555556,\"#d8576b\"],[0.6666666666666666,\"#ed7953\"],[0.7777777777777778,\"#fb9f3a\"],[0.8888888888888888,\"#fdca26\"],[1.0,\"#f0f921\"]],\"sequentialminus\":[[0.0,\"#0d0887\"],[0.1111111111111111,\"#46039f\"],[0.2222222222222222,\"#7201a8\"],[0.3333333333333333,\"#9c179e\"],[0.4444444444444444,\"#bd3786\"],[0.5555555555555556,\"#d8576b\"],[0.6666666666666666,\"#ed7953\"],[0.7777777777777778,\"#fb9f3a\"],[0.8888888888888888,\"#fdca26\"],[1.0,\"#f0f921\"]],\"diverging\":[[0,\"#8e0152\"],[0.1,\"#c51b7d\"],[0.2,\"#de77ae\"],[0.3,\"#f1b6da\"],[0.4,\"#fde0ef\"],[0.5,\"#f7f7f7\"],[0.6,\"#e6f5d0\"],[0.7,\"#b8e186\"],[0.8,\"#7fbc41\"],[0.9,\"#4d9221\"],[1,\"#276419\"]]},\"xaxis\":{\"gridcolor\":\"white\",\"linecolor\":\"white\",\"ticks\":\"\",\"title\":{\"standoff\":15},\"zerolinecolor\":\"white\",\"automargin\":true,\"zerolinewidth\":2},\"yaxis\":{\"gridcolor\":\"white\",\"linecolor\":\"white\",\"ticks\":\"\",\"title\":{\"standoff\":15},\"zerolinecolor\":\"white\",\"automargin\":true,\"zerolinewidth\":2},\"scene\":{\"xaxis\":{\"backgroundcolor\":\"#E5ECF6\",\"gridcolor\":\"white\",\"linecolor\":\"white\",\"showbackground\":true,\"ticks\":\"\",\"zerolinecolor\":\"white\",\"gridwidth\":2},\"yaxis\":{\"backgroundcolor\":\"#E5ECF6\",\"gridcolor\":\"white\",\"linecolor\":\"white\",\"showbackground\":true,\"ticks\":\"\",\"zerolinecolor\":\"white\",\"gridwidth\":2},\"zaxis\":{\"backgroundcolor\":\"#E5ECF6\",\"gridcolor\":\"white\",\"linecolor\":\"white\",\"showbackground\":true,\"ticks\":\"\",\"zerolinecolor\":\"white\",\"gridwidth\":2}},\"shapedefaults\":{\"line\":{\"color\":\"#2a3f5f\"}},\"annotationdefaults\":{\"arrowcolor\":\"#2a3f5f\",\"arrowhead\":0,\"arrowwidth\":1},\"geo\":{\"bgcolor\":\"white\",\"landcolor\":\"#E5ECF6\",\"subunitcolor\":\"white\",\"showland\":true,\"showlakes\":true,\"lakecolor\":\"white\"},\"title\":{\"x\":0.05},\"mapbox\":{\"style\":\"light\"}}},\"xaxis\":{\"anchor\":\"y\",\"domain\":[0.0,1.0],\"title\":{\"text\":\"date\"}},\"yaxis\":{\"anchor\":\"x\",\"domain\":[0.0,1.0],\"title\":{\"text\":\"meantemp\"}},\"legend\":{\"tracegroupgap\":0},\"margin\":{\"t\":60}},                        {\"responsive\": true}                    ).then(function(){\n",
       "                            \n",
       "var gd = document.getElementById('7c965536-92b8-4b77-bd56-64387dda75d4');\n",
       "var x = new MutationObserver(function (mutations, observer) {{\n",
       "        var display = window.getComputedStyle(gd).display;\n",
       "        if (!display || display === 'none') {{\n",
       "            console.log([gd, 'removed!']);\n",
       "            Plotly.purge(gd);\n",
       "            observer.disconnect();\n",
       "        }}\n",
       "}});\n",
       "\n",
       "// Listen for the removal of the full notebook cells\n",
       "var notebookContainer = gd.closest('#notebook-container');\n",
       "if (notebookContainer) {{\n",
       "    x.observe(notebookContainer, {childList: true});\n",
       "}}\n",
       "\n",
       "// Listen for the clearing of the current output cell\n",
       "var outputEl = gd.closest('.output');\n",
       "if (outputEl) {{\n",
       "    x.observe(outputEl, {childList: true});\n",
       "}}\n",
       "\n",
       "                        })                };                            </script>        </div>\n",
       "</body>\n",
       "</html>"
      ]
     },
     "metadata": {},
     "output_type": "display_data"
    }
   ],
   "source": [
    "fig = px.line(data, x='date', y=\"meantemp\")\n",
    "fig.show()"
   ]
  },
  {
   "cell_type": "code",
   "execution_count": 29,
   "id": "42b9f9ea",
   "metadata": {
    "colab": {
     "base_uri": "https://localhost:8080/",
     "height": 542
    },
    "id": "42b9f9ea",
    "outputId": "8d3287dc-0dea-42a1-d46e-c44ba0fd0d3c"
   },
   "outputs": [
    {
     "data": {
      "text/html": [
       "<html>\n",
       "<head><meta charset=\"utf-8\" /></head>\n",
       "<body>\n",
       "    <div>            <script src=\"https://cdnjs.cloudflare.com/ajax/libs/mathjax/2.7.5/MathJax.js?config=TeX-AMS-MML_SVG\"></script><script type=\"text/javascript\">if (window.MathJax && window.MathJax.Hub && window.MathJax.Hub.Config) {window.MathJax.Hub.Config({SVG: {font: \"STIX-Web\"}});}</script>                <script type=\"text/javascript\">window.PlotlyConfig = {MathJaxConfig: 'local'};</script>\n",
       "        <script charset=\"utf-8\" src=\"https://cdn.plot.ly/plotly-2.24.1.min.js\"></script>                <div id=\"f038734d-ebc2-4f59-b002-c2feb7b103a7\" class=\"plotly-graph-div\" style=\"height:525px; width:100%;\"></div>            <script type=\"text/javascript\">                                    window.PLOTLYENV=window.PLOTLYENV || {};                                    if (document.getElementById(\"f038734d-ebc2-4f59-b002-c2feb7b103a7\")) {                    Plotly.newPlot(                        \"f038734d-ebc2-4f59-b002-c2feb7b103a7\",                        [{\"hovertemplate\":\"meantemp=%{marker.color}\\u003cbr\\u003ehumidity=%{y}\\u003cextra\\u003e\\u003c\\u002fextra\\u003e\",\"legendgroup\":\"\",\"marker\":{\"color\":[10.0,7.4,7.166666666666667,8.666666666666666,6.0,7.0,7.0,8.857142857142858,14.0,11.0,15.714285714285714,14.0,15.833333333333334,12.833333333333334,14.714285714285714,13.833333333333334,16.5,13.833333333333334,12.5,11.285714285714286,11.2,9.5,14.0,13.833333333333334,12.25,12.666666666666666,12.857142857142858,14.833333333333334,14.125,14.714285714285714,16.2,16.0,16.285714285714285,18.0,17.428571428571427,16.625,16.666666666666668,15.6,14.0,15.428571428571429,15.25,15.875,15.333333333333334,16.285714285714285,17.333333333333332,19.166666666666668,14.428571428571429,13.666666666666666,15.6,15.857142857142858,17.714285714285715,20.0,20.5,17.428571428571427,16.857142857142858,16.875,17.857142857142858,20.8,19.428571428571427,17.333333333333332,19.0,19.33333333333333,17.6,20.875,20.857142857142858,23.428571428571427,24.166666666666668,25.428571428571427,23.142857142857142,24.0,23.5,21.5,22.33333333333333,24.166666666666668,20.33333333333333,22.666666666666668,23.428571428571427,22.5,29.166666666666668,23.83333333333333,25.25,27.375,27.0,23.5,24.142857142857142,21.0,22.428571428571427,21.25,23.5,23.2,25.375,25.166666666666668,26.2,24.6,25.6,25.857142857142858,29.142857142857142,28.714285714285715,30.166666666666668,30.0,30.0,28.857142857142858,30.2,28.25,28.25,32.125,29.2,30.285714285714285,28.285714285714285,30.625,27.666666666666668,27.375,28.625,30.285714285714285,31.142857142857142,29.875,31.142857142857142,30.571428571428573,32.125,31.142857142857142,31.857142857142858,29.83333333333333,28.571428571428573,32.857142857142854,32.625,32.75,32.875,34.5,34.285714285714285,34.0,30.75,29.857142857142858,31.714285714285715,32.285714285714285,33.0,33.0,32.833333333333336,31.4,35.333333333333336,36.4,36.0,36.75,37.5,38.42857142857143,38.71428571428572,37.8,35.857142857142854,35.333333333333336,34.142857142857146,32.2,33.625,32.0,32.4,35.6,35.857142857142854,37.16666666666666,31.285714285714285,34.0,34.2,36.16666666666666,36.625,30.166666666666668,34.142857142857146,29.83333333333333,30.142857142857142,30.714285714285715,27.0,26.875,28.4,29.857142857142858,33.0,34.833333333333336,35.6,35.166666666666664,33.142857142857146,30.571428571428573,30.666666666666668,31.428571428571427,31.5,33.25,32.833333333333336,33.857142857142854,33.142857142857146,31.571428571428573,32.375,32.8,31.0,31.166666666666668,29.83333333333333,29.0,29.75,32.5,28.875,31.75,30.75,31.75,29.875,31.125,31.75,30.5,26.83333333333333,28.2,29.5,31.857142857142858,29.714285714285715,28.33333333333333,30.0,30.142857142857142,32.285714285714285,31.0,30.5,28.83333333333333,30.0,31.571428571428573,32.5,32.5,29.5,27.166666666666668,28.375,28.5,27.166666666666668,29.428571428571427,30.0,29.5,30.75,29.666666666666668,27.714285714285715,26.6,27.428571428571427,28.33333333333333,28.166666666666668,27.375,28.33333333333333,29.166666666666668,31.285714285714285,32.0,29.0,32.0,32.142857142857146,30.142857142857142,31.5,29.166666666666668,29.0,30.0,31.857142857142858,32.75,31.714285714285715,31.666666666666668,30.571428571428573,30.83333333333333,28.0,31.0,29.666666666666668,30.857142857142858,31.166666666666668,31.142857142857142,30.5,31.625,29.666666666666668,29.25,29.142857142857142,29.8,28.666666666666668,25.2,28.33333333333333,30.285714285714285,30.75,28.571428571428573,28.2,29.0,30.0,28.142857142857142,26.857142857142858,28.285714285714285,29.2,28.6,24.83333333333333,28.5,29.75,29.714285714285715,29.2,30.83333333333333,29.428571428571427,23.857142857142858,26.142857142857142,27.166666666666668,27.714285714285715,25.857142857142858,26.428571428571427,26.857142857142858,26.33333333333333,24.571428571428573,24.33333333333333,24.875,27.8,25.0,23.857142857142858,22.8,23.0,22.875,22.666666666666668,23.0,22.857142857142858,23.666666666666668,23.428571428571427,21.625,20.625,21.166666666666668,18.83333333333333,20.571428571428573,20.142857142857142,18.0,19.857142857142858,16.833333333333332,18.857142857142858,16.571428571428573,17.75,17.625,17.0,16.625,15.571428571428571,18.5,17.875,18.25,17.875,17.625,18.142857142857142,19.125,21.25,21.25,19.125,18.625,17.75,17.875,18.0,17.25,17.5,17.142857142857142,17.142857142857142,16.125,16.0,16.5,16.125,15.5,16.625,17.75,17.142857142857142,16.142857142857142,15.5,15.25,14.75,14.875,16.125,15.375,14.75,15.25,14.25,13.5,13.666666666666666,12.125,11.875,10.875,10.571428571428571,12.375,14.5,13.375,11.0,12.5,12.875,12.375,11.428571428571429,12.142857142857142,11.875,12.833333333333334,12.375,12.125,12.875,14.0,14.875,12.0,12.285714285714286,12.0,12.5,14.5,14.625,13.571428571428571,15.25,15.625,13.875,11.75,14.375,16.625,16.625,14.875,14.5,14.75,14.0,15.25,18.428571428571427,18.857142857142858,17.0,18.5,19.625,13.625,12.875,12.625,13.375,13.25,15.25,13.0,12.375,13.5,15.125,15.25,15.125,16.125,17.125,16.625,16.5,16.375,18.125,18.75,18.625,15.625,16.142857142857142,16.125,17.875,18.75,18.875,18.375,18.5,19.875,22.0,20.0,20.714285714285715,20.0,19.0,19.625,21.625,23.125,26.25,24.857142857142858,21.75,21.5,22.5,25.0,22.75,22.375,24.625,25.125,23.5,24.428571428571427,25.875,24.125,24.125,24.875,26.75,25.0,25.857142857142858,27.375,30.125,27.25,25.75,25.75,26.375,28.142857142857142,29.125,26.875,27.625,29.0,27.125,26.375,24.25,25.625,27.0,28.0,29.375,29.125,29.375,30.625,31.5,30.625,31.5,32.125,33.25,34.875,34.375,31.75,31.875,29.75,29.571428571428573,31.75,31.375,30.5,30.0,29.625,28.0,25.25,26.875,29.5,31.125,29.875,31.5,32.375,31.125,33.0,33.25,34.625,31.5,31.5,30.125,31.875,33.625,35.25,33.125,34.625,32.75,32.75,34.875,35.25,36.875,37.5,38.5,37.625,37.875,37.25,37.625,32.875,30.25,30.5,33.875,36.375,36.875,33.875,35.75,38.0,36.875,34.5,32.125,33.0,32.25,32.5,34.75,34.875,33.0,32.0,31.375,29.5,28.875,31.38888888888889,34.705882352941174,30.625,34.0,35.0,36.0,36.125,36.625,35.875,31.625,32.375,33.125,32.625,30.75,27.25,29.875,30.875,32.125,31.625,30.625,30.5,30.75,32.5,31.714285714285715,30.0,30.25,31.875,32.5,33.25,30.125,31.5,30.5,29.75,32.125,31.125,31.0,29.235294117647054,28.5,31.125,32.125,32.125,30.375,31.125,30.428571428571427,31.375,31.875,33.0,33.25,32.5,33.0,33.125,33.125,33.875,34.125,33.857142857142854,29.625,30.375,28.625,27.625,29.428571428571427,29.25,28.625,27.875,26.5,28.5,31.0,31.25,31.0,28.75,26.571428571428573,28.5,29.375,29.125,29.625,30.625,30.625,30.5,31.0,31.125,30.5,30.625,31.0,29.625,30.0,30.0,30.5,30.25,30.5,30.625,30.428571428571427,30.375,30.5,31.0,30.625,30.625,31.0,28.75,27.625,27.125,25.714285714285715,26.0,27.625,24.5,24.5,23.0,25.0,24.0,23.75,24.75,25.625,25.75,25.25,25.5,25.25,25.125,24.875,25.125,24.75,23.875,23.375,22.5,22.875,23.375,23.625,22.75,23.0,24.0,23.875,24.125,21.375,19.25,19.625,18.5,18.375,18.625,18.25,17.75,17.625,17.5,20.375,18.25,19.875,17.125,16.875,16.5,19.625,18.125,19.375,20.25,19.75,20.0,21.375,25.0,21.25,17.75,18.25,17.25,17.0,15.285714285714286,21.5,19.625,17.5,16.0,16.875,16.625,17.75,12.875,11.75,11.75,11.25,9.5,9.375,9.625,9.875,9.25,10.75,10.375,9.0,11.125,11.625,12.375,14.75,14.875,15.125,14.125,14.0,12.0,9.625,10.0,10.625,11.125,11.0,10.625,12.25,12.0,12.375,13.0,13.5,13.0,13.75,13.375,13.25,12.625,14.625,12.375,13.25,13.75,13.25,11.714285714285714,11.5,12.75,13.75,15.0,17.375,16.75,14.625,14.625,15.125,15.875,16.625,16.875,15.75,16.0,15.5,17.25,19.375,18.875,20.625,21.142857142857142,21.25,22.75,22.75,21.875,22.142857142857142,21.5,22.875,23.125,20.0,19.25,21.25,17.375,17.5,16.25,16.75,18.75,20.0,18.375,19.5,18.125,17.75,18.25,20.5,21.375,21.5,17.625,19.857142857142858,20.875,20.25,21.125,22.5,24.875,25.125,24.75,25.75,26.625,28.5,27.375,27.0,25.0,23.5,25.25,26.428571428571427,28.714285714285715,24.5,21.0,23.571428571428573,25.0,23.75,25.625,26.0,27.125,28.25,24.375,24.75,26.25,27.625,25.25,28.125,30.125,32.125,32.875,31.75,30.75,30.75,31.125,30.5,28.75,30.125,31.0,31.25,32.625,31.25,30.125,31.0,30.875,32.125,34.125,35.42857142857143,34.125,35.125,35.125,34.0,33.125,27.75,29.625,28.5,30.0,33.25,35.375,31.5,33.125,35.625,36.25,37.375,36.0,37.75,35.25,33.75,34.75,35.125,32.25,34.25,29.375,31.625,28.625,31.875,32.625,33.375,35.0,36.5,37.625,36.625,35.625,35.875,31.125,27.0,31.0,32.375,33.875,35.125,35.875,33.125,30.375,32.125,31.5,37.25,26.625,31.125,32.625,34.25,31.125,30.875,32.0,33.75,33.0,34.125,35.714285714285715,27.875,28.125,31.25,29.625,26.625,25.5,25.5,29.875,30.875,33.375,31.75,30.75,29.5,30.125,29.125,31.375,32.25,32.125,32.0,30.857142857142858,30.0,29.625,29.5,28.5,29.0,29.0,28.25,29.625,31.5,29.428571428571427,29.59375,29.5,29.25,28.875,27.375,30.375,28.375,30.75,32.0,30.875,28.5,28.625,30.75,29.125,31.25,30.75,29.375,30.25,29.875,30.75,32.0,32.0,32.5,32.0,32.25,32.625,31.857142857142858,32.125,31.875,31.625,32.0,30.875,31.25,31.5,31.625,31.0,31.25,30.75,32.142857142857146,32.125,31.875,33.0,32.375,31.375,31.0,30.625,29.142857142857142,30.125,30.25,28.625,28.25,28.5,29.25,28.714285714285715,28.25,29.0,29.0,28.125,28.285714285714285,30.0,29.0,28.875,28.375,28.625,28.375,28.5,28.5,28.571428571428573,29.25,29.5,28.125,27.5,27.875,28.0,26.857142857142858,28.142857142857142,27.714285714285715,26.5,24.75,24.0,24.875,26.375,25.625,24.75,20.875,22.125,22.375,22.375,22.875,23.375,24.0,23.75,22.125,22.875,21.875,21.875,21.75,22.75,21.875,21.875,22.375,22.375,22.5,21.875,19.875,18.5,18.5,18.5,18.75,18.625,17.0,18.5,19.375,20.0,18.5,18.75,18.125,19.5,19.25,18.125,17.625,17.625,17.5,17.125,17.625,18.428571428571427,18.375,19.0,17.25,13.25,12.875,13.25,13.125,13.0,12.25,12.875,12.375,11.75,12.625,12.0,12.5,11.25,11.5,12.75,15.375,17.125,16.375,15.5,15.0,14.714285714285714,14.0,14.375,15.75,15.833333333333334,17.375,17.125,15.5,15.857142857142858,15.625,15.75,18.0,18.266666666666666,15.5625,13.0,13.6,14.0,13.266666666666667,12.357142857142858,12.066666666666666,12.1875,11.733333333333333,14.4375,11.1875,11.666666666666666,14.5625,17.583333333333332,16.857142857142858,19.5625,20.142857142857142,17.375,15.846153846153848,15.266666666666667,13.125,16.363636363636363,12.666666666666666,15.333333333333334,15.625,17.09090909090909,17.76923076923077,18.133333333333333,19.6875,19.2,17.066666666666666,17.642857142857142,17.6,18.214285714285715,18.714285714285715,19.466666666666665,23.153846153846157,23.625,21.0,21.0,21.428571428571427,21.6875,22.5625,22.8,22.8,23.0,23.875,24.916666666666668,24.933333333333334,26.0,27.3125,23.933333333333334,22.8125,23.714285714285715,23.428571428571427,24.0,25.5625,25.066666666666663,24.5625,24.25,22.375,24.066666666666663,23.9375,26.3125,26.1875,26.785714285714285,27.133333333333333,26.625,25.0625,26.2,28.133333333333333,29.875,24.666666666666668,26.25,25.933333333333334,27.125,29.571428571428573,30.0,30.571428571428573,32.3125,33.3125,32.8125,32.3125,31.375,29.933333333333334,29.266666666666666,30.73333333333333,32.25,29.8,30.2,31.75,33.125,33.625,35.6875,34.666666666666664,34.625,34.0,34.0625,34.0,33.25,31.916666666666668,31.3125,31.75,33.4375,33.125,34.15384615384615,34.07142857142857,33.0625,34.6875,38.0,35.5,33.714285714285715,30.6,31.4375,33.3125,35.13333333333333,33.53333333333333,34.0,32.5,35.375,37.294117647058826,36.5625,37.25,37.21428571428572,37.5,37.75,37.375,37.4,36.13333333333333,36.8,32.214285714285715,31.526315789473685,33.21739130434783,35.26923076923077,38.27272727272727,36.0625,31.5,26.8125,32.642857142857146,36.0,37.5625,37.5625,38.2,36.16666666666666,35.42857142857143,34.625,36.07142857142857,35.733333333333334,36.13333333333333,33.4375,35.5,36.0,32.625,34.733333333333334,33.5,34.1875,35.857142857142854,35.625,30.9375,32.875,33.125,33.84615384615385,36.4375,35.42857142857143,34.86666666666667,34.3125,30.785714285714285,35.375,35.46666666666667,32.125,28.4,29.5625,30.6875,33.25,33.266666666666666,33.5,30.8,33.25,32.5625,31.5,30.5,31.25,30.4375,31.0,27.125,28.125,27.666666666666668,32.3125,34.1875,34.13333333333333,34.125,31.875,31.4375,31.9375,30.3125,28.3125,29.53333333333333,27.375,27.33333333333333,29.266666666666666,29.125,30.6875,32.5625,33.111111111111114,33.8,30.066666666666663,33.11764705882353,33.80952380952381,31.615384615384617,32.0,28.107142857142858,29.035714285714285,30.321428571428573,28.933333333333334,31.678571428571427,31.33333333333333,29.928571428571427,29.88888888888889,32.07142857142857,33.18518518518518,31.59259259259259,32.18518518518518,31.48,30.178571428571427,31.52,31.22222222222222,31.785714285714285,33.4,29.571428571428573,30.04,27.25925925925926,27.96,30.73913043478261,30.894736842105264,31.692307692307693,31.07692307692308,30.375,31.1,31.916666666666668,30.55555555555556,31.23076923076923,31.0,31.642857142857142,32.53333333333333,30.857142857142858,31.727272727272727,31.4,32.30769230769231,32.25,32.375,33.44444444444444,33.36,30.03703703703704,31.0,31.24,31.130434782608692,31.48,32.18518518518518,32.44,32.22727272727273,32.214285714285715,32.541666666666664,32.81481481481482,33.26923076923077,30.55555555555556,28.83333333333333,30.703703703703702,30.96,30.6,30.92,29.77777777777778,29.666666666666668,29.571428571428573,29.96296296296296,29.75,27.74074074074074,28.428571428571427,28.6,28.5,28.925925925925927,29.07692307692308,28.40909090909091,29.33333333333333,27.5,28.5,28.04,27.57692307692308,26.55555555555556,25.51851851851852,25.814814814814813,24.82608695652174,24.53846153846154,24.384615384615383,23.727272727272727,25.64,24.814814814814813,23.115384615384617,22.925925925925927,24.545454545454547,23.73076923076923,23.0,23.51851851851852,23.92,23.53846153846154,24.296296296296298,23.346153846153847,22.24,21.76923076923077,21.73076923076923,21.73076923076923,20.666666666666668,22.25,21.53846153846154,22.57894736842105,22.82608695652174,21.42105263157895,23.6,24.294117647058822,23.63636363636364,22.454545454545453,21.61111111111111,19.869565217391305,19.75,19.20833333333333,21.20833333333333,18.9,18.63636363636364,18.53846153846154,18.25,16.9,19.416666666666668,16.444444444444443,20.041666666666668,19.90909090909091,19.05,18.55555555555556,18.166666666666668,15.833333333333334,17.5,16.083333333333332,17.857142857142858,19.8,18.05,17.285714285714285,15.55,17.318181818181817,14.0,17.142857142857142,16.85,17.217391304347824,15.238095238095235,14.095238095238097,15.052631578947368,10.0],\"coloraxis\":\"coloraxis\",\"symbol\":\"circle\"},\"mode\":\"markers\",\"name\":\"\",\"showlegend\":false,\"x\":[10.0,7.4,7.166666666666667,8.666666666666666,6.0,7.0,7.0,8.857142857142858,14.0,11.0,15.714285714285714,14.0,15.833333333333334,12.833333333333334,14.714285714285714,13.833333333333334,16.5,13.833333333333334,12.5,11.285714285714286,11.2,9.5,14.0,13.833333333333334,12.25,12.666666666666666,12.857142857142858,14.833333333333334,14.125,14.714285714285714,16.2,16.0,16.285714285714285,18.0,17.428571428571427,16.625,16.666666666666668,15.6,14.0,15.428571428571429,15.25,15.875,15.333333333333334,16.285714285714285,17.333333333333332,19.166666666666668,14.428571428571429,13.666666666666666,15.6,15.857142857142858,17.714285714285715,20.0,20.5,17.428571428571427,16.857142857142858,16.875,17.857142857142858,20.8,19.428571428571427,17.333333333333332,19.0,19.33333333333333,17.6,20.875,20.857142857142858,23.428571428571427,24.166666666666668,25.428571428571427,23.142857142857142,24.0,23.5,21.5,22.33333333333333,24.166666666666668,20.33333333333333,22.666666666666668,23.428571428571427,22.5,29.166666666666668,23.83333333333333,25.25,27.375,27.0,23.5,24.142857142857142,21.0,22.428571428571427,21.25,23.5,23.2,25.375,25.166666666666668,26.2,24.6,25.6,25.857142857142858,29.142857142857142,28.714285714285715,30.166666666666668,30.0,30.0,28.857142857142858,30.2,28.25,28.25,32.125,29.2,30.285714285714285,28.285714285714285,30.625,27.666666666666668,27.375,28.625,30.285714285714285,31.142857142857142,29.875,31.142857142857142,30.571428571428573,32.125,31.142857142857142,31.857142857142858,29.83333333333333,28.571428571428573,32.857142857142854,32.625,32.75,32.875,34.5,34.285714285714285,34.0,30.75,29.857142857142858,31.714285714285715,32.285714285714285,33.0,33.0,32.833333333333336,31.4,35.333333333333336,36.4,36.0,36.75,37.5,38.42857142857143,38.71428571428572,37.8,35.857142857142854,35.333333333333336,34.142857142857146,32.2,33.625,32.0,32.4,35.6,35.857142857142854,37.16666666666666,31.285714285714285,34.0,34.2,36.16666666666666,36.625,30.166666666666668,34.142857142857146,29.83333333333333,30.142857142857142,30.714285714285715,27.0,26.875,28.4,29.857142857142858,33.0,34.833333333333336,35.6,35.166666666666664,33.142857142857146,30.571428571428573,30.666666666666668,31.428571428571427,31.5,33.25,32.833333333333336,33.857142857142854,33.142857142857146,31.571428571428573,32.375,32.8,31.0,31.166666666666668,29.83333333333333,29.0,29.75,32.5,28.875,31.75,30.75,31.75,29.875,31.125,31.75,30.5,26.83333333333333,28.2,29.5,31.857142857142858,29.714285714285715,28.33333333333333,30.0,30.142857142857142,32.285714285714285,31.0,30.5,28.83333333333333,30.0,31.571428571428573,32.5,32.5,29.5,27.166666666666668,28.375,28.5,27.166666666666668,29.428571428571427,30.0,29.5,30.75,29.666666666666668,27.714285714285715,26.6,27.428571428571427,28.33333333333333,28.166666666666668,27.375,28.33333333333333,29.166666666666668,31.285714285714285,32.0,29.0,32.0,32.142857142857146,30.142857142857142,31.5,29.166666666666668,29.0,30.0,31.857142857142858,32.75,31.714285714285715,31.666666666666668,30.571428571428573,30.83333333333333,28.0,31.0,29.666666666666668,30.857142857142858,31.166666666666668,31.142857142857142,30.5,31.625,29.666666666666668,29.25,29.142857142857142,29.8,28.666666666666668,25.2,28.33333333333333,30.285714285714285,30.75,28.571428571428573,28.2,29.0,30.0,28.142857142857142,26.857142857142858,28.285714285714285,29.2,28.6,24.83333333333333,28.5,29.75,29.714285714285715,29.2,30.83333333333333,29.428571428571427,23.857142857142858,26.142857142857142,27.166666666666668,27.714285714285715,25.857142857142858,26.428571428571427,26.857142857142858,26.33333333333333,24.571428571428573,24.33333333333333,24.875,27.8,25.0,23.857142857142858,22.8,23.0,22.875,22.666666666666668,23.0,22.857142857142858,23.666666666666668,23.428571428571427,21.625,20.625,21.166666666666668,18.83333333333333,20.571428571428573,20.142857142857142,18.0,19.857142857142858,16.833333333333332,18.857142857142858,16.571428571428573,17.75,17.625,17.0,16.625,15.571428571428571,18.5,17.875,18.25,17.875,17.625,18.142857142857142,19.125,21.25,21.25,19.125,18.625,17.75,17.875,18.0,17.25,17.5,17.142857142857142,17.142857142857142,16.125,16.0,16.5,16.125,15.5,16.625,17.75,17.142857142857142,16.142857142857142,15.5,15.25,14.75,14.875,16.125,15.375,14.75,15.25,14.25,13.5,13.666666666666666,12.125,11.875,10.875,10.571428571428571,12.375,14.5,13.375,11.0,12.5,12.875,12.375,11.428571428571429,12.142857142857142,11.875,12.833333333333334,12.375,12.125,12.875,14.0,14.875,12.0,12.285714285714286,12.0,12.5,14.5,14.625,13.571428571428571,15.25,15.625,13.875,11.75,14.375,16.625,16.625,14.875,14.5,14.75,14.0,15.25,18.428571428571427,18.857142857142858,17.0,18.5,19.625,13.625,12.875,12.625,13.375,13.25,15.25,13.0,12.375,13.5,15.125,15.25,15.125,16.125,17.125,16.625,16.5,16.375,18.125,18.75,18.625,15.625,16.142857142857142,16.125,17.875,18.75,18.875,18.375,18.5,19.875,22.0,20.0,20.714285714285715,20.0,19.0,19.625,21.625,23.125,26.25,24.857142857142858,21.75,21.5,22.5,25.0,22.75,22.375,24.625,25.125,23.5,24.428571428571427,25.875,24.125,24.125,24.875,26.75,25.0,25.857142857142858,27.375,30.125,27.25,25.75,25.75,26.375,28.142857142857142,29.125,26.875,27.625,29.0,27.125,26.375,24.25,25.625,27.0,28.0,29.375,29.125,29.375,30.625,31.5,30.625,31.5,32.125,33.25,34.875,34.375,31.75,31.875,29.75,29.571428571428573,31.75,31.375,30.5,30.0,29.625,28.0,25.25,26.875,29.5,31.125,29.875,31.5,32.375,31.125,33.0,33.25,34.625,31.5,31.5,30.125,31.875,33.625,35.25,33.125,34.625,32.75,32.75,34.875,35.25,36.875,37.5,38.5,37.625,37.875,37.25,37.625,32.875,30.25,30.5,33.875,36.375,36.875,33.875,35.75,38.0,36.875,34.5,32.125,33.0,32.25,32.5,34.75,34.875,33.0,32.0,31.375,29.5,28.875,31.38888888888889,34.705882352941174,30.625,34.0,35.0,36.0,36.125,36.625,35.875,31.625,32.375,33.125,32.625,30.75,27.25,29.875,30.875,32.125,31.625,30.625,30.5,30.75,32.5,31.714285714285715,30.0,30.25,31.875,32.5,33.25,30.125,31.5,30.5,29.75,32.125,31.125,31.0,29.235294117647054,28.5,31.125,32.125,32.125,30.375,31.125,30.428571428571427,31.375,31.875,33.0,33.25,32.5,33.0,33.125,33.125,33.875,34.125,33.857142857142854,29.625,30.375,28.625,27.625,29.428571428571427,29.25,28.625,27.875,26.5,28.5,31.0,31.25,31.0,28.75,26.571428571428573,28.5,29.375,29.125,29.625,30.625,30.625,30.5,31.0,31.125,30.5,30.625,31.0,29.625,30.0,30.0,30.5,30.25,30.5,30.625,30.428571428571427,30.375,30.5,31.0,30.625,30.625,31.0,28.75,27.625,27.125,25.714285714285715,26.0,27.625,24.5,24.5,23.0,25.0,24.0,23.75,24.75,25.625,25.75,25.25,25.5,25.25,25.125,24.875,25.125,24.75,23.875,23.375,22.5,22.875,23.375,23.625,22.75,23.0,24.0,23.875,24.125,21.375,19.25,19.625,18.5,18.375,18.625,18.25,17.75,17.625,17.5,20.375,18.25,19.875,17.125,16.875,16.5,19.625,18.125,19.375,20.25,19.75,20.0,21.375,25.0,21.25,17.75,18.25,17.25,17.0,15.285714285714286,21.5,19.625,17.5,16.0,16.875,16.625,17.75,12.875,11.75,11.75,11.25,9.5,9.375,9.625,9.875,9.25,10.75,10.375,9.0,11.125,11.625,12.375,14.75,14.875,15.125,14.125,14.0,12.0,9.625,10.0,10.625,11.125,11.0,10.625,12.25,12.0,12.375,13.0,13.5,13.0,13.75,13.375,13.25,12.625,14.625,12.375,13.25,13.75,13.25,11.714285714285714,11.5,12.75,13.75,15.0,17.375,16.75,14.625,14.625,15.125,15.875,16.625,16.875,15.75,16.0,15.5,17.25,19.375,18.875,20.625,21.142857142857142,21.25,22.75,22.75,21.875,22.142857142857142,21.5,22.875,23.125,20.0,19.25,21.25,17.375,17.5,16.25,16.75,18.75,20.0,18.375,19.5,18.125,17.75,18.25,20.5,21.375,21.5,17.625,19.857142857142858,20.875,20.25,21.125,22.5,24.875,25.125,24.75,25.75,26.625,28.5,27.375,27.0,25.0,23.5,25.25,26.428571428571427,28.714285714285715,24.5,21.0,23.571428571428573,25.0,23.75,25.625,26.0,27.125,28.25,24.375,24.75,26.25,27.625,25.25,28.125,30.125,32.125,32.875,31.75,30.75,30.75,31.125,30.5,28.75,30.125,31.0,31.25,32.625,31.25,30.125,31.0,30.875,32.125,34.125,35.42857142857143,34.125,35.125,35.125,34.0,33.125,27.75,29.625,28.5,30.0,33.25,35.375,31.5,33.125,35.625,36.25,37.375,36.0,37.75,35.25,33.75,34.75,35.125,32.25,34.25,29.375,31.625,28.625,31.875,32.625,33.375,35.0,36.5,37.625,36.625,35.625,35.875,31.125,27.0,31.0,32.375,33.875,35.125,35.875,33.125,30.375,32.125,31.5,37.25,26.625,31.125,32.625,34.25,31.125,30.875,32.0,33.75,33.0,34.125,35.714285714285715,27.875,28.125,31.25,29.625,26.625,25.5,25.5,29.875,30.875,33.375,31.75,30.75,29.5,30.125,29.125,31.375,32.25,32.125,32.0,30.857142857142858,30.0,29.625,29.5,28.5,29.0,29.0,28.25,29.625,31.5,29.428571428571427,29.59375,29.5,29.25,28.875,27.375,30.375,28.375,30.75,32.0,30.875,28.5,28.625,30.75,29.125,31.25,30.75,29.375,30.25,29.875,30.75,32.0,32.0,32.5,32.0,32.25,32.625,31.857142857142858,32.125,31.875,31.625,32.0,30.875,31.25,31.5,31.625,31.0,31.25,30.75,32.142857142857146,32.125,31.875,33.0,32.375,31.375,31.0,30.625,29.142857142857142,30.125,30.25,28.625,28.25,28.5,29.25,28.714285714285715,28.25,29.0,29.0,28.125,28.285714285714285,30.0,29.0,28.875,28.375,28.625,28.375,28.5,28.5,28.571428571428573,29.25,29.5,28.125,27.5,27.875,28.0,26.857142857142858,28.142857142857142,27.714285714285715,26.5,24.75,24.0,24.875,26.375,25.625,24.75,20.875,22.125,22.375,22.375,22.875,23.375,24.0,23.75,22.125,22.875,21.875,21.875,21.75,22.75,21.875,21.875,22.375,22.375,22.5,21.875,19.875,18.5,18.5,18.5,18.75,18.625,17.0,18.5,19.375,20.0,18.5,18.75,18.125,19.5,19.25,18.125,17.625,17.625,17.5,17.125,17.625,18.428571428571427,18.375,19.0,17.25,13.25,12.875,13.25,13.125,13.0,12.25,12.875,12.375,11.75,12.625,12.0,12.5,11.25,11.5,12.75,15.375,17.125,16.375,15.5,15.0,14.714285714285714,14.0,14.375,15.75,15.833333333333334,17.375,17.125,15.5,15.857142857142858,15.625,15.75,18.0,18.266666666666666,15.5625,13.0,13.6,14.0,13.266666666666667,12.357142857142858,12.066666666666666,12.1875,11.733333333333333,14.4375,11.1875,11.666666666666666,14.5625,17.583333333333332,16.857142857142858,19.5625,20.142857142857142,17.375,15.846153846153848,15.266666666666667,13.125,16.363636363636363,12.666666666666666,15.333333333333334,15.625,17.09090909090909,17.76923076923077,18.133333333333333,19.6875,19.2,17.066666666666666,17.642857142857142,17.6,18.214285714285715,18.714285714285715,19.466666666666665,23.153846153846157,23.625,21.0,21.0,21.428571428571427,21.6875,22.5625,22.8,22.8,23.0,23.875,24.916666666666668,24.933333333333334,26.0,27.3125,23.933333333333334,22.8125,23.714285714285715,23.428571428571427,24.0,25.5625,25.066666666666663,24.5625,24.25,22.375,24.066666666666663,23.9375,26.3125,26.1875,26.785714285714285,27.133333333333333,26.625,25.0625,26.2,28.133333333333333,29.875,24.666666666666668,26.25,25.933333333333334,27.125,29.571428571428573,30.0,30.571428571428573,32.3125,33.3125,32.8125,32.3125,31.375,29.933333333333334,29.266666666666666,30.73333333333333,32.25,29.8,30.2,31.75,33.125,33.625,35.6875,34.666666666666664,34.625,34.0,34.0625,34.0,33.25,31.916666666666668,31.3125,31.75,33.4375,33.125,34.15384615384615,34.07142857142857,33.0625,34.6875,38.0,35.5,33.714285714285715,30.6,31.4375,33.3125,35.13333333333333,33.53333333333333,34.0,32.5,35.375,37.294117647058826,36.5625,37.25,37.21428571428572,37.5,37.75,37.375,37.4,36.13333333333333,36.8,32.214285714285715,31.526315789473685,33.21739130434783,35.26923076923077,38.27272727272727,36.0625,31.5,26.8125,32.642857142857146,36.0,37.5625,37.5625,38.2,36.16666666666666,35.42857142857143,34.625,36.07142857142857,35.733333333333334,36.13333333333333,33.4375,35.5,36.0,32.625,34.733333333333334,33.5,34.1875,35.857142857142854,35.625,30.9375,32.875,33.125,33.84615384615385,36.4375,35.42857142857143,34.86666666666667,34.3125,30.785714285714285,35.375,35.46666666666667,32.125,28.4,29.5625,30.6875,33.25,33.266666666666666,33.5,30.8,33.25,32.5625,31.5,30.5,31.25,30.4375,31.0,27.125,28.125,27.666666666666668,32.3125,34.1875,34.13333333333333,34.125,31.875,31.4375,31.9375,30.3125,28.3125,29.53333333333333,27.375,27.33333333333333,29.266666666666666,29.125,30.6875,32.5625,33.111111111111114,33.8,30.066666666666663,33.11764705882353,33.80952380952381,31.615384615384617,32.0,28.107142857142858,29.035714285714285,30.321428571428573,28.933333333333334,31.678571428571427,31.33333333333333,29.928571428571427,29.88888888888889,32.07142857142857,33.18518518518518,31.59259259259259,32.18518518518518,31.48,30.178571428571427,31.52,31.22222222222222,31.785714285714285,33.4,29.571428571428573,30.04,27.25925925925926,27.96,30.73913043478261,30.894736842105264,31.692307692307693,31.07692307692308,30.375,31.1,31.916666666666668,30.55555555555556,31.23076923076923,31.0,31.642857142857142,32.53333333333333,30.857142857142858,31.727272727272727,31.4,32.30769230769231,32.25,32.375,33.44444444444444,33.36,30.03703703703704,31.0,31.24,31.130434782608692,31.48,32.18518518518518,32.44,32.22727272727273,32.214285714285715,32.541666666666664,32.81481481481482,33.26923076923077,30.55555555555556,28.83333333333333,30.703703703703702,30.96,30.6,30.92,29.77777777777778,29.666666666666668,29.571428571428573,29.96296296296296,29.75,27.74074074074074,28.428571428571427,28.6,28.5,28.925925925925927,29.07692307692308,28.40909090909091,29.33333333333333,27.5,28.5,28.04,27.57692307692308,26.55555555555556,25.51851851851852,25.814814814814813,24.82608695652174,24.53846153846154,24.384615384615383,23.727272727272727,25.64,24.814814814814813,23.115384615384617,22.925925925925927,24.545454545454547,23.73076923076923,23.0,23.51851851851852,23.92,23.53846153846154,24.296296296296298,23.346153846153847,22.24,21.76923076923077,21.73076923076923,21.73076923076923,20.666666666666668,22.25,21.53846153846154,22.57894736842105,22.82608695652174,21.42105263157895,23.6,24.294117647058822,23.63636363636364,22.454545454545453,21.61111111111111,19.869565217391305,19.75,19.20833333333333,21.20833333333333,18.9,18.63636363636364,18.53846153846154,18.25,16.9,19.416666666666668,16.444444444444443,20.041666666666668,19.90909090909091,19.05,18.55555555555556,18.166666666666668,15.833333333333334,17.5,16.083333333333332,17.857142857142858,19.8,18.05,17.285714285714285,15.55,17.318181818181817,14.0,17.142857142857142,16.85,17.217391304347824,15.238095238095235,14.095238095238097,15.052631578947368,10.0],\"xaxis\":\"x\",\"y\":[84.5,92.0,87.0,71.33333333333333,86.83333333333333,82.8,78.6,63.71428571428572,51.25,62.0,51.285714285714285,74.0,75.16666666666667,88.16666666666667,71.85714285714286,86.66666666666667,80.83333333333333,92.16666666666669,76.66666666666667,75.28571428571429,77.0,79.66666666666667,60.16666666666666,60.66666666666666,67.0,64.16666666666667,65.57142857142857,56.0,65.5,70.42857142857143,65.6,73.0,77.57142857142857,65.57142857142857,74.28571428571429,92.375,71.33333333333333,59.4,70.42857142857143,61.285714285714285,71.5,70.5,70.33333333333333,70.14285714285714,63.833333333333336,65.33333333333333,92.71428571428572,90.0,78.4,82.0,74.71428571428571,67.28571428571429,65.625,74.85714285714286,78.85714285714286,72.875,70.0,57.2,52.85714285714285,49.333333333333336,54.0,62.833333333333336,71.0,61.875,65.28571428571429,57.142857142857146,44.833333333333336,49.71428571428572,57.57142857142857,66.33333333333333,62.5,70.5,61.16666666666666,45.833333333333336,67.66666666666667,58.66666666666666,58.142857142857146,73.66666666666667,36.333333333333336,58.5,50.25,50.125,48.75,45.5,44.57142857142857,62.0,62.71428571428572,70.375,54.75,58.0,45.5,51.0,45.6,41.8,31.0,29.857142857142858,23.285714285714285,33.857142857142854,30.5,28.0,24.2,32.57142857142857,29.2,39.375,41.375,24.625,24.2,30.285714285714285,31.285714285714285,29.0,38.66666666666666,45.375,44.125,41.71428571428572,38.285714285714285,45.875,31.428571428571427,28.0,26.375,32.0,15.857142857142858,22.166666666666668,31.571428571428573,31.428571428571427,31.125,39.25,33.25,23.0,26.0,27.714285714285715,30.375,40.142857142857146,34.0,34.285714285714285,33.0,34.75,28.166666666666668,42.2,22.33333333333333,24.2,19.0,22.125,23.33333333333333,27.428571428571427,22.428571428571427,21.2,31.571428571428573,29.0,27.857142857142858,28.2,40.125,54.0,56.6,47.0,42.57142857142857,36.5,61.71428571428572,49.25,57.4,40.0,42.75,61.66666666666666,54.142857142857146,68.66666666666667,68.14285714285714,65.0,88.85714285714286,87.375,83.6,72.85714285714286,52.71428571428572,47.333333333333336,39.4,53.0,55.0,70.42857142857143,71.5,61.85714285714285,64.25,57.0,52.16666666666666,54.0,58.285714285714285,70.0,67.5,62.2,73.14285714285714,77.33333333333333,75.16666666666667,78.83333333333333,75.375,65.5,86.625,70.25,71.625,73.25,83.875,78.375,76.0,73.5,90.66666666666669,88.0,80.33333333333333,70.71428571428571,84.14285714285714,84.5,73.85714285714286,79.0,67.42857142857143,77.42857142857143,75.66666666666667,78.5,73.5,66.42857142857143,62.333333333333336,62.5,77.0,90.66666666666669,85.25,84.0,87.5,79.85714285714286,76.83333333333333,81.5,72.0,74.33333333333333,85.0,92.0,91.0,83.83333333333333,84.66666666666667,88.5,81.16666666666667,74.83333333333333,73.14285714285714,71.25,90.75,69.875,57.285714285714285,60.71428571428572,57.0,73.0,71.75,65.2,50.85714285714285,45.5,48.0,46.0,55.71428571428572,51.833333333333336,71.75,57.5,66.33333333333333,61.142857142857146,60.333333333333336,67.14285714285714,67.0,56.375,60.0,56.5,58.57142857142857,61.6,70.0,89.0,79.66666666666667,68.0,65.75,75.0,78.8,71.25,67.33333333333333,79.85714285714286,84.57142857142857,68.71428571428571,61.4,59.0,84.33333333333333,69.0,66.5,66.57142857142857,69.4,65.5,66.28571428571429,89.85714285714286,82.57142857142857,84.33333333333333,74.85714285714286,76.42857142857143,75.0,76.71428571428571,73.16666666666667,69.57142857142857,67.83333333333333,63.625,53.6,67.5,73.14285714285714,75.8,78.2,66.875,63.16666666666666,62.71428571428572,67.42857142857143,58.833333333333336,69.14285714285714,65.0,57.875,54.16666666666666,74.33333333333333,66.71428571428571,73.14285714285714,82.2,73.57142857142857,72.0,61.85714285714285,71.71428571428571,65.0,63.375,67.0,69.625,67.42857142857143,55.125,63.5,58.875,66.25,74.875,77.85714285714286,58.875,49.875,51.375,68.5,71.875,66.625,69.625,65.0,73.25,73.5,71.85714285714286,69.0,72.375,80.5,83.625,79.25,81.75,71.875,62.375,67.71428571428571,79.0,86.25,89.5,92.875,93.0,89.125,91.375,94.0,94.0,88.25,84.75,63.16666666666666,67.625,79.875,70.0,69.42857142857143,79.5,89.375,89.625,78.375,74.875,88.125,89.0,86.28571428571429,72.28571428571429,76.875,83.0,85.375,82.625,80.875,72.375,76.75,93.5,90.57142857142856,95.75,94.25,84.5,83.5,96.85714285714286,96.125,90.125,88.875,95.625,85.75,72.375,69.875,81.875,83.25,82.5,79.375,76.125,63.85714285714285,65.42857142857143,72.75,65.375,67.25,85.375,63.375,61.75,64.625,67.0,64.5,95.5,89.5,79.0,66.125,60.125,75.375,78.625,72.25,85.625,80.0,69.375,69.0,71.125,76.625,88.375,87.28571428571429,79.0,65.625,66.375,67.0,64.0,62.875,63.875,56.625,63.875,70.0,68.875,60.625,61.25,62.625,58.5,52.125,53.42857142857143,57.375,55.0,64.75,59.5,61.875,73.125,60.25,58.875,63.25,67.57142857142857,55.625,46.75,44.125,45.75,43.375,48.0,47.85714285714285,44.0,45.25,47.625,41.875,35.25,29.25,29.0,39.875,40.375,46.625,48.125,53.625,49.625,64.375,57.875,48.0,33.125,29.375,37.0,35.875,34.375,32.0,30.0,27.875,28.875,25.5,22.5,24.75,33.375,34.375,53.25,51.142857142857146,48.625,43.0,39.625,37.625,40.375,53.375,65.75,55.25,39.875,40.25,47.625,35.375,29.5,34.0,32.5,33.375,32.75,50.5,43.25,54.125,49.75,44.5,40.125,44.5,39.0,34.25,41.375,33.625,33.125,26.875,27.625,22.75,26.25,32.125,20.875,23.125,39.25,55.125,66.875,52.0,41.375,42.125,58.0,47.875,36.125,40.125,46.75,49.75,46.25,53.25,60.375,48.5,49.0,57.75,67.75,65.125,71.375,75.125,69.0,52.05882352941177,61.125,48.75,39.5,37.125,38.75,38.625,51.375,69.75,67.875,62.625,63.0,74.25,83.875,71.0,68.875,65.5,69.75,72.875,63.625,63.25,61.5,65.42857142857143,75.75,69.875,65.75,65.75,59.5,77.75,66.25,69.75,77.5,65.0,65.375,67.875,80.47058823529412,89.90625,72.125,57.5,57.71428571428572,57.5,54.875,59.85714285714285,53.875,56.625,52.42857142857143,47.125,43.0,47.125,45.75,46.25,46.625,40.25,44.71428571428572,67.75,69.25,78.125,86.125,65.85714285714286,71.0,77.875,80.75,85.75,76.875,67.625,66.375,70.125,77.5,85.71428571428571,73.0,68.25,65.5,63.125,65.125,61.875,62.375,56.625,55.75,54.875,50.0,47.0,53.0,52.5,52.5,46.875,48.875,48.75,50.125,52.85714285714285,53.375,52.625,53.5,56.125,56.75,59.375,52.75,49.875,57.375,57.142857142857146,58.625,59.75,67.625,68.0,58.875,47.66666666666666,56.142857142857146,57.75,55.625,56.125,64.875,66.0,67.5,67.125,65.5,62.875,64.75,65.75,61.375,58.25,50.875,49.125,52.75,56.625,56.25,56.25,66.125,66.25,56.375,52.125,55.125,52.0,50.5,43.0,44.75,47.625,51.75,53.0,58.125,54.625,62.125,58.875,57.375,52.25,51.5,51.0,63.875,67.375,67.625,54.75,42.625,47.625,66.57142857142857,68.875,59.875,48.875,48.375,49.875,67.57142857142857,65.5,70.5,65.625,71.875,86.625,75.75,72.375,72.125,79.75,81.75,77.0,79.125,85.0,78.625,83.0,81.125,77.0,69.0,86.0,72.625,70.625,67.125,72.0,96.625,92.0,78.75,69.375,79.875,86.0,87.875,80.625,73.125,80.75,79.5,77.875,82.25,79.125,78.125,76.625,73.875,78.0,74.375,73.375,94.125,85.0,86.25,77.75,88.125,74.25,67.0,67.5,56.125,57.625,65.25,63.875,71.25,81.125,62.875,62.625,67.625,63.875,63.5,64.0,66.625,69.625,59.0,63.125,70.125,71.25,72.57142857142857,72.875,73.5,67.125,63.5,58.85714285714285,74.375,72.375,58.625,34.375,43.125,45.5,92.75,89.875,82.5,69.25,64.0,62.375,80.375,74.125,54.25,68.5,69.875,63.375,65.25,64.625,89.125,81.85714285714286,70.375,69.625,66.0,65.75,60.5,64.0,65.75,65.5,65.625,54.375,51.375,53.625,52.75,66.25,64.875,59.71428571428572,45.285714285714285,71.125,77.5,67.71428571428571,60.125,62.125,50.375,52.875,52.25,44.875,63.0,70.875,62.75,59.25,58.25,48.75,44.5,41.0,37.875,28.5,30.25,33.0,39.5,43.125,51.125,53.0,48.25,47.25,44.75,43.5,40.25,39.25,39.25,31.125,22.0,13.428571428571429,22.375,27.0,25.0,32.625,46.0,61.0,49.625,52.125,51.625,40.375,35.75,44.0,31.625,24.625,19.5,21.75,29.25,22.25,26.625,20.5,29.5,27.25,38.75,25.0,41.75,39.25,50.5,48.375,39.875,39.75,36.25,33.0,23.875,32.285714285714285,34.75,34.625,48.125,77.625,60.75,52.125,49.75,45.125,46.75,48.5,63.625,59.5,61.625,63.875,82.75,54.25,48.25,47.5,56.625,58.625,53.25,45.875,49.0,51.5,47.285714285714285,83.25,86.125,72.0,77.25,92.125,98.0,94.75,73.125,67.875,52.875,61.375,75.625,78.875,70.0,78.0,69.25,64.125,64.875,64.75,71.0,71.625,69.0,61.0,68.125,67.75,71.0,71.75,69.5,58.625,77.78571428571429,79.65625,79.125,83.0,84.875,90.125,77.0,86.625,74.25,69.5,72.625,85.5,82.625,72.625,72.875,61.25,58.625,72.0,65.375,69.375,65.625,57.285714285714285,61.0,61.0,63.5,58.0,56.5,54.42857142857143,47.625,45.625,49.125,42.625,47.25,41.8,46.375,47.0,47.875,46.5,49.75,54.42857142857143,55.25,54.375,55.0,55.0,58.375,67.625,74.25,69.14285714285714,64.5,64.375,61.25,52.375,49.375,53.5,58.142857142857146,58.5,54.57142857142857,46.875,51.25,53.71428571428572,52.333333333333336,54.375,59.375,61.125,65.75,65.125,59.75,54.625,51.57142857142857,54.125,62.875,63.625,66.0,62.625,63.75,71.71428571428571,66.28571428571429,64.85714285714286,62.125,56.0,51.625,53.25,47.125,52.125,54.25,57.25,63.5,67.25,69.375,70.5,71.375,67.875,69.0,75.25,74.375,74.875,70.25,73.625,72.625,59.5,60.5,59.375,59.625,62.0,50.375,48.375,57.625,64.75,66.0,67.625,64.875,73.5,63.0,56.375,59.5,66.25,82.125,81.25,82.375,78.75,72.125,70.25,67.5,72.375,75.875,76.875,71.28571428571429,78.125,77.25,77.875,91.0,67.0,63.625,63.875,65.5,73.625,71.25,71.875,70.25,74.75,79.875,81.375,68.625,66.125,64.5,63.25,58.125,65.0,71.75,71.375,72.28571428571429,75.875,74.75,77.125,88.83333333333333,81.625,87.0,83.25,65.14285714285714,74.375,74.875,69.6875,75.8,80.4375,84.1875,80.06666666666666,77.66666666666667,80.46666666666667,88.57142857142857,84.2,73.1875,83.4,75.875,86.25,75.4,79.6875,69.16666666666667,69.35714285714286,70.625,78.5,78.25,65.76923076923077,55.86666666666667,66.5,53.0,70.66666666666667,69.5,77.0,67.18181818181819,67.46153846153847,64.86666666666666,54.75,57.86666666666667,62.13333333333333,61.92857142857143,59.53333333333333,56.142857142857146,59.285714285714285,76.0,70.23076923076923,73.125,61.125,51.42857142857143,50.642857142857146,58.0625,57.5,55.6,59.0,63.0625,63.9375,57.41666666666666,57.06666666666667,55.61538461538461,44.25,57.13333333333333,66.5625,64.14285714285714,60.21428571428572,57.5625,57.4375,67.8,66.9375,65.1875,66.0,58.93333333333333,53.75,50.3125,61.25,61.85714285714285,58.73333333333333,43.375,37.875,43.266666666666666,46.86666666666667,50.1875,62.66666666666666,53.6875,52.8,47.75,39.785714285714285,39.73333333333333,38.21428571428572,38.5625,44.25,33.125,29.3125,33.125,37.0,36.0,32.46666666666667,29.0,35.0,36.2,28.0625,23.875,25.375,23.6875,23.866666666666667,30.125,33.6,25.9375,24.666666666666668,24.25,21.818181818181817,22.125,22.8125,25.1875,29.0625,21.76923076923077,23.285714285714285,25.5625,23.375,18.466666666666665,30.375,31.857142857142858,42.0,37.4375,37.1875,36.333333333333336,40.6,39.75,49.9375,40.0,28.11764705882353,31.875,29.5,23.5,25.8125,27.625,40.5,44.2,45.4,44.8,47.92857142857143,53.526315789473685,46.60869565217392,44.57692307692308,26.09090909090909,37.25,57.0625,74.8125,51.21428571428572,42.2,35.3125,40.6875,42.06666666666667,51.75,45.71428571428572,59.1875,44.642857142857146,43.73333333333333,41.86666666666667,49.9375,37.125,43.3125,55.125,48.86666666666667,51.285714285714285,52.25,50.57142857142857,53.25,73.9375,62.1875,60.8125,51.61538461538461,46.5625,55.92857142857143,57.46666666666667,61.25,75.07142857142857,58.875,60.2,73.4,80.0,78.125,76.3125,68.6875,64.06666666666666,63.0,75.86666666666666,66.0625,65.6875,71.9375,80.1875,76.3125,80.4375,78.0625,93.875,86.5625,91.26666666666668,69.125,59.5625,56.86666666666667,56.125,66.0,72.25,69.125,82.0,88.25,81.33333333333333,92.4375,92.26666666666668,83.13333333333334,84.25,72.125,63.5625,63.888888888888886,61.66666666666666,76.0,65.17647058823529,62.38095238095238,71.65384615384616,71.25925925925925,89.46428571428571,85.0,77.07142857142857,83.7,67.64285714285714,66.41666666666667,72.5,79.81481481481481,68.28571428571429,66.48148148148148,68.07407407407408,65.55555555555556,70.08,79.28571428571429,72.44,73.81481481481481,70.28571428571429,66.24,82.32142857142857,76.8,89.55555555555556,87.24,71.73913043478261,62.68421052631579,59.30769230769231,60.30769230769231,55.0,57.7,58.0,56.66666666666666,58.23076923076923,56.4,55.5,57.06666666666667,70.35714285714286,59.63636363636363,58.0,58.0,58.833333333333336,59.458333333333336,54.07407407407408,58.96,67.62962962962963,66.10714285714286,66.48,62.30434782608695,60.88,57.81481481481482,55.28,61.31818181818182,59.35714285714285,61.91666666666666,61.81481481481482,59.57692307692308,69.81481481481481,71.875,64.81481481481481,59.96,57.96,59.2,51.11111111111112,51.14814814814815,47.285714285714285,44.0,47.875,54.14814814814815,49.85714285714285,49.24,48.458333333333336,49.18518518518518,47.73076923076923,50.40909090909091,49.48148148148148,54.96153846153846,51.42307692307692,54.56,56.19230769230769,59.37037037037037,58.77777777777778,62.77777777777778,71.04347826086956,66.8076923076923,58.73076923076923,65.9090909090909,59.76,58.2962962962963,66.57692307692308,63.851851851851855,51.31818181818182,52.26923076923077,49.7037037037037,50.14814814814815,54.04,58.03846153846154,55.81481481481482,60.73076923076923,55.72,53.23076923076923,51.73076923076923,53.61538461538461,60.66666666666666,59.9,60.46153846153846,50.1578947368421,51.43478260869565,51.47368421052632,30.55,32.64705882352941,33.63636363636363,37.31818181818182,53.72222222222222,80.08695652173913,84.0,75.875,52.16666666666666,55.25,56.59090909090909,69.92307692307692,74.35,73.3,68.125,82.83333333333333,69.58333333333333,63.86363636363637,62.35,58.61111111111112,56.625,63.27777777777778,63.388888888888886,64.54166666666667,56.095238095238095,48.53333333333333,54.3,57.85714285714285,74.7,78.63636363636364,94.3,74.85714285714286,67.55,68.04347826086956,87.85714285714286,89.66666666666667,87.0,100.0],\"yaxis\":\"y\",\"type\":\"scattergl\"}],                        {\"template\":{\"data\":{\"histogram2dcontour\":[{\"type\":\"histogram2dcontour\",\"colorbar\":{\"outlinewidth\":0,\"ticks\":\"\"},\"colorscale\":[[0.0,\"#0d0887\"],[0.1111111111111111,\"#46039f\"],[0.2222222222222222,\"#7201a8\"],[0.3333333333333333,\"#9c179e\"],[0.4444444444444444,\"#bd3786\"],[0.5555555555555556,\"#d8576b\"],[0.6666666666666666,\"#ed7953\"],[0.7777777777777778,\"#fb9f3a\"],[0.8888888888888888,\"#fdca26\"],[1.0,\"#f0f921\"]]}],\"choropleth\":[{\"type\":\"choropleth\",\"colorbar\":{\"outlinewidth\":0,\"ticks\":\"\"}}],\"histogram2d\":[{\"type\":\"histogram2d\",\"colorbar\":{\"outlinewidth\":0,\"ticks\":\"\"},\"colorscale\":[[0.0,\"#0d0887\"],[0.1111111111111111,\"#46039f\"],[0.2222222222222222,\"#7201a8\"],[0.3333333333333333,\"#9c179e\"],[0.4444444444444444,\"#bd3786\"],[0.5555555555555556,\"#d8576b\"],[0.6666666666666666,\"#ed7953\"],[0.7777777777777778,\"#fb9f3a\"],[0.8888888888888888,\"#fdca26\"],[1.0,\"#f0f921\"]]}],\"heatmap\":[{\"type\":\"heatmap\",\"colorbar\":{\"outlinewidth\":0,\"ticks\":\"\"},\"colorscale\":[[0.0,\"#0d0887\"],[0.1111111111111111,\"#46039f\"],[0.2222222222222222,\"#7201a8\"],[0.3333333333333333,\"#9c179e\"],[0.4444444444444444,\"#bd3786\"],[0.5555555555555556,\"#d8576b\"],[0.6666666666666666,\"#ed7953\"],[0.7777777777777778,\"#fb9f3a\"],[0.8888888888888888,\"#fdca26\"],[1.0,\"#f0f921\"]]}],\"heatmapgl\":[{\"type\":\"heatmapgl\",\"colorbar\":{\"outlinewidth\":0,\"ticks\":\"\"},\"colorscale\":[[0.0,\"#0d0887\"],[0.1111111111111111,\"#46039f\"],[0.2222222222222222,\"#7201a8\"],[0.3333333333333333,\"#9c179e\"],[0.4444444444444444,\"#bd3786\"],[0.5555555555555556,\"#d8576b\"],[0.6666666666666666,\"#ed7953\"],[0.7777777777777778,\"#fb9f3a\"],[0.8888888888888888,\"#fdca26\"],[1.0,\"#f0f921\"]]}],\"contourcarpet\":[{\"type\":\"contourcarpet\",\"colorbar\":{\"outlinewidth\":0,\"ticks\":\"\"}}],\"contour\":[{\"type\":\"contour\",\"colorbar\":{\"outlinewidth\":0,\"ticks\":\"\"},\"colorscale\":[[0.0,\"#0d0887\"],[0.1111111111111111,\"#46039f\"],[0.2222222222222222,\"#7201a8\"],[0.3333333333333333,\"#9c179e\"],[0.4444444444444444,\"#bd3786\"],[0.5555555555555556,\"#d8576b\"],[0.6666666666666666,\"#ed7953\"],[0.7777777777777778,\"#fb9f3a\"],[0.8888888888888888,\"#fdca26\"],[1.0,\"#f0f921\"]]}],\"surface\":[{\"type\":\"surface\",\"colorbar\":{\"outlinewidth\":0,\"ticks\":\"\"},\"colorscale\":[[0.0,\"#0d0887\"],[0.1111111111111111,\"#46039f\"],[0.2222222222222222,\"#7201a8\"],[0.3333333333333333,\"#9c179e\"],[0.4444444444444444,\"#bd3786\"],[0.5555555555555556,\"#d8576b\"],[0.6666666666666666,\"#ed7953\"],[0.7777777777777778,\"#fb9f3a\"],[0.8888888888888888,\"#fdca26\"],[1.0,\"#f0f921\"]]}],\"mesh3d\":[{\"type\":\"mesh3d\",\"colorbar\":{\"outlinewidth\":0,\"ticks\":\"\"}}],\"scatter\":[{\"fillpattern\":{\"fillmode\":\"overlay\",\"size\":10,\"solidity\":0.2},\"type\":\"scatter\"}],\"parcoords\":[{\"type\":\"parcoords\",\"line\":{\"colorbar\":{\"outlinewidth\":0,\"ticks\":\"\"}}}],\"scatterpolargl\":[{\"type\":\"scatterpolargl\",\"marker\":{\"colorbar\":{\"outlinewidth\":0,\"ticks\":\"\"}}}],\"bar\":[{\"error_x\":{\"color\":\"#2a3f5f\"},\"error_y\":{\"color\":\"#2a3f5f\"},\"marker\":{\"line\":{\"color\":\"#E5ECF6\",\"width\":0.5},\"pattern\":{\"fillmode\":\"overlay\",\"size\":10,\"solidity\":0.2}},\"type\":\"bar\"}],\"scattergeo\":[{\"type\":\"scattergeo\",\"marker\":{\"colorbar\":{\"outlinewidth\":0,\"ticks\":\"\"}}}],\"scatterpolar\":[{\"type\":\"scatterpolar\",\"marker\":{\"colorbar\":{\"outlinewidth\":0,\"ticks\":\"\"}}}],\"histogram\":[{\"marker\":{\"pattern\":{\"fillmode\":\"overlay\",\"size\":10,\"solidity\":0.2}},\"type\":\"histogram\"}],\"scattergl\":[{\"type\":\"scattergl\",\"marker\":{\"colorbar\":{\"outlinewidth\":0,\"ticks\":\"\"}}}],\"scatter3d\":[{\"type\":\"scatter3d\",\"line\":{\"colorbar\":{\"outlinewidth\":0,\"ticks\":\"\"}},\"marker\":{\"colorbar\":{\"outlinewidth\":0,\"ticks\":\"\"}}}],\"scattermapbox\":[{\"type\":\"scattermapbox\",\"marker\":{\"colorbar\":{\"outlinewidth\":0,\"ticks\":\"\"}}}],\"scatterternary\":[{\"type\":\"scatterternary\",\"marker\":{\"colorbar\":{\"outlinewidth\":0,\"ticks\":\"\"}}}],\"scattercarpet\":[{\"type\":\"scattercarpet\",\"marker\":{\"colorbar\":{\"outlinewidth\":0,\"ticks\":\"\"}}}],\"carpet\":[{\"aaxis\":{\"endlinecolor\":\"#2a3f5f\",\"gridcolor\":\"white\",\"linecolor\":\"white\",\"minorgridcolor\":\"white\",\"startlinecolor\":\"#2a3f5f\"},\"baxis\":{\"endlinecolor\":\"#2a3f5f\",\"gridcolor\":\"white\",\"linecolor\":\"white\",\"minorgridcolor\":\"white\",\"startlinecolor\":\"#2a3f5f\"},\"type\":\"carpet\"}],\"table\":[{\"cells\":{\"fill\":{\"color\":\"#EBF0F8\"},\"line\":{\"color\":\"white\"}},\"header\":{\"fill\":{\"color\":\"#C8D4E3\"},\"line\":{\"color\":\"white\"}},\"type\":\"table\"}],\"barpolar\":[{\"marker\":{\"line\":{\"color\":\"#E5ECF6\",\"width\":0.5},\"pattern\":{\"fillmode\":\"overlay\",\"size\":10,\"solidity\":0.2}},\"type\":\"barpolar\"}],\"pie\":[{\"automargin\":true,\"type\":\"pie\"}]},\"layout\":{\"autotypenumbers\":\"strict\",\"colorway\":[\"#636efa\",\"#EF553B\",\"#00cc96\",\"#ab63fa\",\"#FFA15A\",\"#19d3f3\",\"#FF6692\",\"#B6E880\",\"#FF97FF\",\"#FECB52\"],\"font\":{\"color\":\"#2a3f5f\"},\"hovermode\":\"closest\",\"hoverlabel\":{\"align\":\"left\"},\"paper_bgcolor\":\"white\",\"plot_bgcolor\":\"#E5ECF6\",\"polar\":{\"bgcolor\":\"#E5ECF6\",\"angularaxis\":{\"gridcolor\":\"white\",\"linecolor\":\"white\",\"ticks\":\"\"},\"radialaxis\":{\"gridcolor\":\"white\",\"linecolor\":\"white\",\"ticks\":\"\"}},\"ternary\":{\"bgcolor\":\"#E5ECF6\",\"aaxis\":{\"gridcolor\":\"white\",\"linecolor\":\"white\",\"ticks\":\"\"},\"baxis\":{\"gridcolor\":\"white\",\"linecolor\":\"white\",\"ticks\":\"\"},\"caxis\":{\"gridcolor\":\"white\",\"linecolor\":\"white\",\"ticks\":\"\"}},\"coloraxis\":{\"colorbar\":{\"outlinewidth\":0,\"ticks\":\"\"}},\"colorscale\":{\"sequential\":[[0.0,\"#0d0887\"],[0.1111111111111111,\"#46039f\"],[0.2222222222222222,\"#7201a8\"],[0.3333333333333333,\"#9c179e\"],[0.4444444444444444,\"#bd3786\"],[0.5555555555555556,\"#d8576b\"],[0.6666666666666666,\"#ed7953\"],[0.7777777777777778,\"#fb9f3a\"],[0.8888888888888888,\"#fdca26\"],[1.0,\"#f0f921\"]],\"sequentialminus\":[[0.0,\"#0d0887\"],[0.1111111111111111,\"#46039f\"],[0.2222222222222222,\"#7201a8\"],[0.3333333333333333,\"#9c179e\"],[0.4444444444444444,\"#bd3786\"],[0.5555555555555556,\"#d8576b\"],[0.6666666666666666,\"#ed7953\"],[0.7777777777777778,\"#fb9f3a\"],[0.8888888888888888,\"#fdca26\"],[1.0,\"#f0f921\"]],\"diverging\":[[0,\"#8e0152\"],[0.1,\"#c51b7d\"],[0.2,\"#de77ae\"],[0.3,\"#f1b6da\"],[0.4,\"#fde0ef\"],[0.5,\"#f7f7f7\"],[0.6,\"#e6f5d0\"],[0.7,\"#b8e186\"],[0.8,\"#7fbc41\"],[0.9,\"#4d9221\"],[1,\"#276419\"]]},\"xaxis\":{\"gridcolor\":\"white\",\"linecolor\":\"white\",\"ticks\":\"\",\"title\":{\"standoff\":15},\"zerolinecolor\":\"white\",\"automargin\":true,\"zerolinewidth\":2},\"yaxis\":{\"gridcolor\":\"white\",\"linecolor\":\"white\",\"ticks\":\"\",\"title\":{\"standoff\":15},\"zerolinecolor\":\"white\",\"automargin\":true,\"zerolinewidth\":2},\"scene\":{\"xaxis\":{\"backgroundcolor\":\"#E5ECF6\",\"gridcolor\":\"white\",\"linecolor\":\"white\",\"showbackground\":true,\"ticks\":\"\",\"zerolinecolor\":\"white\",\"gridwidth\":2},\"yaxis\":{\"backgroundcolor\":\"#E5ECF6\",\"gridcolor\":\"white\",\"linecolor\":\"white\",\"showbackground\":true,\"ticks\":\"\",\"zerolinecolor\":\"white\",\"gridwidth\":2},\"zaxis\":{\"backgroundcolor\":\"#E5ECF6\",\"gridcolor\":\"white\",\"linecolor\":\"white\",\"showbackground\":true,\"ticks\":\"\",\"zerolinecolor\":\"white\",\"gridwidth\":2}},\"shapedefaults\":{\"line\":{\"color\":\"#2a3f5f\"}},\"annotationdefaults\":{\"arrowcolor\":\"#2a3f5f\",\"arrowhead\":0,\"arrowwidth\":1},\"geo\":{\"bgcolor\":\"white\",\"landcolor\":\"#E5ECF6\",\"subunitcolor\":\"white\",\"showland\":true,\"showlakes\":true,\"lakecolor\":\"white\"},\"title\":{\"x\":0.05},\"mapbox\":{\"style\":\"light\"}}},\"xaxis\":{\"anchor\":\"y\",\"domain\":[0.0,1.0],\"title\":{\"text\":\"meantemp\"}},\"yaxis\":{\"anchor\":\"x\",\"domain\":[0.0,1.0],\"title\":{\"text\":\"humidity\"}},\"coloraxis\":{\"colorbar\":{\"title\":{\"text\":\"meantemp\"}},\"colorscale\":[[0.0,\"#0d0887\"],[0.1111111111111111,\"#46039f\"],[0.2222222222222222,\"#7201a8\"],[0.3333333333333333,\"#9c179e\"],[0.4444444444444444,\"#bd3786\"],[0.5555555555555556,\"#d8576b\"],[0.6666666666666666,\"#ed7953\"],[0.7777777777777778,\"#fb9f3a\"],[0.8888888888888888,\"#fdca26\"],[1.0,\"#f0f921\"]]},\"legend\":{\"tracegroupgap\":0},\"margin\":{\"t\":60}},                        {\"responsive\": true}                    ).then(function(){\n",
       "                            \n",
       "var gd = document.getElementById('f038734d-ebc2-4f59-b002-c2feb7b103a7');\n",
       "var x = new MutationObserver(function (mutations, observer) {{\n",
       "        var display = window.getComputedStyle(gd).display;\n",
       "        if (!display || display === 'none') {{\n",
       "            console.log([gd, 'removed!']);\n",
       "            Plotly.purge(gd);\n",
       "            observer.disconnect();\n",
       "        }}\n",
       "}});\n",
       "\n",
       "// Listen for the removal of the full notebook cells\n",
       "var notebookContainer = gd.closest('#notebook-container');\n",
       "if (notebookContainer) {{\n",
       "    x.observe(notebookContainer, {childList: true});\n",
       "}}\n",
       "\n",
       "// Listen for the clearing of the current output cell\n",
       "var outputEl = gd.closest('.output');\n",
       "if (outputEl) {{\n",
       "    x.observe(outputEl, {childList: true});\n",
       "}}\n",
       "\n",
       "                        })                };                            </script>        </div>\n",
       "</body>\n",
       "</html>"
      ]
     },
     "metadata": {},
     "output_type": "display_data"
    }
   ],
   "source": [
    "fig = px.scatter(data, x=\"meantemp\", y=\"humidity\" , color=\"meantemp\")\n",
    "fig.show()"
   ]
  },
  {
   "cell_type": "code",
   "execution_count": 31,
   "id": "7e336b6c",
   "metadata": {
    "colab": {
     "base_uri": "https://localhost:8080/",
     "height": 423
    },
    "id": "7e336b6c",
    "outputId": "5d83b7e3-83b7-4b16-8207-d928dcf572cf"
   },
   "outputs": [
    {
     "data": {
      "text/html": [
       "\n",
       "  <div id=\"df-db637e2d-529e-4b3e-a928-968db081fe2d\" class=\"colab-df-container\">\n",
       "    <div>\n",
       "<style scoped>\n",
       "    .dataframe tbody tr th:only-of-type {\n",
       "        vertical-align: middle;\n",
       "    }\n",
       "\n",
       "    .dataframe tbody tr th {\n",
       "        vertical-align: top;\n",
       "    }\n",
       "\n",
       "    .dataframe thead th {\n",
       "        text-align: right;\n",
       "    }\n",
       "</style>\n",
       "<table border=\"1\" class=\"dataframe\">\n",
       "  <thead>\n",
       "    <tr style=\"text-align: right;\">\n",
       "      <th></th>\n",
       "      <th>date</th>\n",
       "      <th>meantemp</th>\n",
       "      <th>humidity</th>\n",
       "      <th>wind_speed</th>\n",
       "      <th>meanpressure</th>\n",
       "      <th>year</th>\n",
       "      <th>month</th>\n",
       "      <th>day</th>\n",
       "    </tr>\n",
       "  </thead>\n",
       "  <tbody>\n",
       "    <tr>\n",
       "      <th>1095</th>\n",
       "      <td>2016-01-01</td>\n",
       "      <td>14.714286</td>\n",
       "      <td>72.285714</td>\n",
       "      <td>1.057143</td>\n",
       "      <td>1021.142857</td>\n",
       "      <td>2016</td>\n",
       "      <td>1</td>\n",
       "      <td>1</td>\n",
       "    </tr>\n",
       "    <tr>\n",
       "      <th>1096</th>\n",
       "      <td>2016-01-02</td>\n",
       "      <td>14.000000</td>\n",
       "      <td>75.875000</td>\n",
       "      <td>2.087500</td>\n",
       "      <td>1021.000000</td>\n",
       "      <td>2016</td>\n",
       "      <td>1</td>\n",
       "      <td>2</td>\n",
       "    </tr>\n",
       "    <tr>\n",
       "      <th>1097</th>\n",
       "      <td>2016-01-03</td>\n",
       "      <td>14.375000</td>\n",
       "      <td>74.750000</td>\n",
       "      <td>5.112500</td>\n",
       "      <td>1018.500000</td>\n",
       "      <td>2016</td>\n",
       "      <td>1</td>\n",
       "      <td>3</td>\n",
       "    </tr>\n",
       "    <tr>\n",
       "      <th>1098</th>\n",
       "      <td>2016-01-04</td>\n",
       "      <td>15.750000</td>\n",
       "      <td>77.125000</td>\n",
       "      <td>0.000000</td>\n",
       "      <td>1017.625000</td>\n",
       "      <td>2016</td>\n",
       "      <td>1</td>\n",
       "      <td>4</td>\n",
       "    </tr>\n",
       "    <tr>\n",
       "      <th>1099</th>\n",
       "      <td>2016-01-05</td>\n",
       "      <td>15.833333</td>\n",
       "      <td>88.833333</td>\n",
       "      <td>0.616667</td>\n",
       "      <td>1017.000000</td>\n",
       "      <td>2016</td>\n",
       "      <td>1</td>\n",
       "      <td>5</td>\n",
       "    </tr>\n",
       "    <tr>\n",
       "      <th>...</th>\n",
       "      <td>...</td>\n",
       "      <td>...</td>\n",
       "      <td>...</td>\n",
       "      <td>...</td>\n",
       "      <td>...</td>\n",
       "      <td>...</td>\n",
       "      <td>...</td>\n",
       "      <td>...</td>\n",
       "    </tr>\n",
       "    <tr>\n",
       "      <th>1456</th>\n",
       "      <td>2016-12-27</td>\n",
       "      <td>16.850000</td>\n",
       "      <td>67.550000</td>\n",
       "      <td>8.335000</td>\n",
       "      <td>1017.200000</td>\n",
       "      <td>2016</td>\n",
       "      <td>12</td>\n",
       "      <td>27</td>\n",
       "    </tr>\n",
       "    <tr>\n",
       "      <th>1457</th>\n",
       "      <td>2016-12-28</td>\n",
       "      <td>17.217391</td>\n",
       "      <td>68.043478</td>\n",
       "      <td>3.547826</td>\n",
       "      <td>1015.565217</td>\n",
       "      <td>2016</td>\n",
       "      <td>12</td>\n",
       "      <td>28</td>\n",
       "    </tr>\n",
       "    <tr>\n",
       "      <th>1458</th>\n",
       "      <td>2016-12-29</td>\n",
       "      <td>15.238095</td>\n",
       "      <td>87.857143</td>\n",
       "      <td>6.000000</td>\n",
       "      <td>1016.904762</td>\n",
       "      <td>2016</td>\n",
       "      <td>12</td>\n",
       "      <td>29</td>\n",
       "    </tr>\n",
       "    <tr>\n",
       "      <th>1459</th>\n",
       "      <td>2016-12-30</td>\n",
       "      <td>14.095238</td>\n",
       "      <td>89.666667</td>\n",
       "      <td>6.266667</td>\n",
       "      <td>1017.904762</td>\n",
       "      <td>2016</td>\n",
       "      <td>12</td>\n",
       "      <td>30</td>\n",
       "    </tr>\n",
       "    <tr>\n",
       "      <th>1460</th>\n",
       "      <td>2016-12-31</td>\n",
       "      <td>15.052632</td>\n",
       "      <td>87.000000</td>\n",
       "      <td>7.325000</td>\n",
       "      <td>1016.100000</td>\n",
       "      <td>2016</td>\n",
       "      <td>12</td>\n",
       "      <td>31</td>\n",
       "    </tr>\n",
       "  </tbody>\n",
       "</table>\n",
       "<p>366 rows × 8 columns</p>\n",
       "</div>\n",
       "    <div class=\"colab-df-buttons\">\n",
       "\n",
       "  <div class=\"colab-df-container\">\n",
       "    <button class=\"colab-df-convert\" onclick=\"convertToInteractive('df-db637e2d-529e-4b3e-a928-968db081fe2d')\"\n",
       "            title=\"Convert this dataframe to an interactive table.\"\n",
       "            style=\"display:none;\">\n",
       "\n",
       "  <svg xmlns=\"http://www.w3.org/2000/svg\" height=\"24px\" viewBox=\"0 -960 960 960\">\n",
       "    <path d=\"M120-120v-720h720v720H120Zm60-500h600v-160H180v160Zm220 220h160v-160H400v160Zm0 220h160v-160H400v160ZM180-400h160v-160H180v160Zm440 0h160v-160H620v160ZM180-180h160v-160H180v160Zm440 0h160v-160H620v160Z\"/>\n",
       "  </svg>\n",
       "    </button>\n",
       "\n",
       "  <style>\n",
       "    .colab-df-container {\n",
       "      display:flex;\n",
       "      gap: 12px;\n",
       "    }\n",
       "\n",
       "    .colab-df-convert {\n",
       "      background-color: #E8F0FE;\n",
       "      border: none;\n",
       "      border-radius: 50%;\n",
       "      cursor: pointer;\n",
       "      display: none;\n",
       "      fill: #1967D2;\n",
       "      height: 32px;\n",
       "      padding: 0 0 0 0;\n",
       "      width: 32px;\n",
       "    }\n",
       "\n",
       "    .colab-df-convert:hover {\n",
       "      background-color: #E2EBFA;\n",
       "      box-shadow: 0px 1px 2px rgba(60, 64, 67, 0.3), 0px 1px 3px 1px rgba(60, 64, 67, 0.15);\n",
       "      fill: #174EA6;\n",
       "    }\n",
       "\n",
       "    .colab-df-buttons div {\n",
       "      margin-bottom: 4px;\n",
       "    }\n",
       "\n",
       "    [theme=dark] .colab-df-convert {\n",
       "      background-color: #3B4455;\n",
       "      fill: #D2E3FC;\n",
       "    }\n",
       "\n",
       "    [theme=dark] .colab-df-convert:hover {\n",
       "      background-color: #434B5C;\n",
       "      box-shadow: 0px 1px 3px 1px rgba(0, 0, 0, 0.15);\n",
       "      filter: drop-shadow(0px 1px 2px rgba(0, 0, 0, 0.3));\n",
       "      fill: #FFFFFF;\n",
       "    }\n",
       "  </style>\n",
       "\n",
       "    <script>\n",
       "      const buttonEl =\n",
       "        document.querySelector('#df-db637e2d-529e-4b3e-a928-968db081fe2d button.colab-df-convert');\n",
       "      buttonEl.style.display =\n",
       "        google.colab.kernel.accessAllowed ? 'block' : 'none';\n",
       "\n",
       "      async function convertToInteractive(key) {\n",
       "        const element = document.querySelector('#df-db637e2d-529e-4b3e-a928-968db081fe2d');\n",
       "        const dataTable =\n",
       "          await google.colab.kernel.invokeFunction('convertToInteractive',\n",
       "                                                    [key], {});\n",
       "        if (!dataTable) return;\n",
       "\n",
       "        const docLinkHtml = 'Like what you see? Visit the ' +\n",
       "          '<a target=\"_blank\" href=https://colab.research.google.com/notebooks/data_table.ipynb>data table notebook</a>'\n",
       "          + ' to learn more about interactive tables.';\n",
       "        element.innerHTML = '';\n",
       "        dataTable['output_type'] = 'display_data';\n",
       "        await google.colab.output.renderOutput(dataTable, element);\n",
       "        const docLink = document.createElement('div');\n",
       "        docLink.innerHTML = docLinkHtml;\n",
       "        element.appendChild(docLink);\n",
       "      }\n",
       "    </script>\n",
       "  </div>\n",
       "\n",
       "\n",
       "<div id=\"df-9bbc690a-e8ea-4a6e-a0ce-9b18fc89e900\">\n",
       "  <button class=\"colab-df-quickchart\" onclick=\"quickchart('df-9bbc690a-e8ea-4a6e-a0ce-9b18fc89e900')\"\n",
       "            title=\"Suggest charts.\"\n",
       "            style=\"display:none;\">\n",
       "\n",
       "<svg xmlns=\"http://www.w3.org/2000/svg\" height=\"24px\"viewBox=\"0 0 24 24\"\n",
       "     width=\"24px\">\n",
       "    <g>\n",
       "        <path d=\"M19 3H5c-1.1 0-2 .9-2 2v14c0 1.1.9 2 2 2h14c1.1 0 2-.9 2-2V5c0-1.1-.9-2-2-2zM9 17H7v-7h2v7zm4 0h-2V7h2v10zm4 0h-2v-4h2v4z\"/>\n",
       "    </g>\n",
       "</svg>\n",
       "  </button>\n",
       "\n",
       "<style>\n",
       "  .colab-df-quickchart {\n",
       "      --bg-color: #E8F0FE;\n",
       "      --fill-color: #1967D2;\n",
       "      --hover-bg-color: #E2EBFA;\n",
       "      --hover-fill-color: #174EA6;\n",
       "      --disabled-fill-color: #AAA;\n",
       "      --disabled-bg-color: #DDD;\n",
       "  }\n",
       "\n",
       "  [theme=dark] .colab-df-quickchart {\n",
       "      --bg-color: #3B4455;\n",
       "      --fill-color: #D2E3FC;\n",
       "      --hover-bg-color: #434B5C;\n",
       "      --hover-fill-color: #FFFFFF;\n",
       "      --disabled-bg-color: #3B4455;\n",
       "      --disabled-fill-color: #666;\n",
       "  }\n",
       "\n",
       "  .colab-df-quickchart {\n",
       "    background-color: var(--bg-color);\n",
       "    border: none;\n",
       "    border-radius: 50%;\n",
       "    cursor: pointer;\n",
       "    display: none;\n",
       "    fill: var(--fill-color);\n",
       "    height: 32px;\n",
       "    padding: 0;\n",
       "    width: 32px;\n",
       "  }\n",
       "\n",
       "  .colab-df-quickchart:hover {\n",
       "    background-color: var(--hover-bg-color);\n",
       "    box-shadow: 0 1px 2px rgba(60, 64, 67, 0.3), 0 1px 3px 1px rgba(60, 64, 67, 0.15);\n",
       "    fill: var(--button-hover-fill-color);\n",
       "  }\n",
       "\n",
       "  .colab-df-quickchart-complete:disabled,\n",
       "  .colab-df-quickchart-complete:disabled:hover {\n",
       "    background-color: var(--disabled-bg-color);\n",
       "    fill: var(--disabled-fill-color);\n",
       "    box-shadow: none;\n",
       "  }\n",
       "\n",
       "  .colab-df-spinner {\n",
       "    border: 2px solid var(--fill-color);\n",
       "    border-color: transparent;\n",
       "    border-bottom-color: var(--fill-color);\n",
       "    animation:\n",
       "      spin 1s steps(1) infinite;\n",
       "  }\n",
       "\n",
       "  @keyframes spin {\n",
       "    0% {\n",
       "      border-color: transparent;\n",
       "      border-bottom-color: var(--fill-color);\n",
       "      border-left-color: var(--fill-color);\n",
       "    }\n",
       "    20% {\n",
       "      border-color: transparent;\n",
       "      border-left-color: var(--fill-color);\n",
       "      border-top-color: var(--fill-color);\n",
       "    }\n",
       "    30% {\n",
       "      border-color: transparent;\n",
       "      border-left-color: var(--fill-color);\n",
       "      border-top-color: var(--fill-color);\n",
       "      border-right-color: var(--fill-color);\n",
       "    }\n",
       "    40% {\n",
       "      border-color: transparent;\n",
       "      border-right-color: var(--fill-color);\n",
       "      border-top-color: var(--fill-color);\n",
       "    }\n",
       "    60% {\n",
       "      border-color: transparent;\n",
       "      border-right-color: var(--fill-color);\n",
       "    }\n",
       "    80% {\n",
       "      border-color: transparent;\n",
       "      border-right-color: var(--fill-color);\n",
       "      border-bottom-color: var(--fill-color);\n",
       "    }\n",
       "    90% {\n",
       "      border-color: transparent;\n",
       "      border-bottom-color: var(--fill-color);\n",
       "    }\n",
       "  }\n",
       "</style>\n",
       "\n",
       "  <script>\n",
       "    async function quickchart(key) {\n",
       "      const quickchartButtonEl =\n",
       "        document.querySelector('#' + key + ' button');\n",
       "      quickchartButtonEl.disabled = true;  // To prevent multiple clicks.\n",
       "      quickchartButtonEl.classList.add('colab-df-spinner');\n",
       "      try {\n",
       "        const charts = await google.colab.kernel.invokeFunction(\n",
       "            'suggestCharts', [key], {});\n",
       "      } catch (error) {\n",
       "        console.error('Error during call to suggestCharts:', error);\n",
       "      }\n",
       "      quickchartButtonEl.classList.remove('colab-df-spinner');\n",
       "      quickchartButtonEl.classList.add('colab-df-quickchart-complete');\n",
       "    }\n",
       "    (() => {\n",
       "      let quickchartButtonEl =\n",
       "        document.querySelector('#df-9bbc690a-e8ea-4a6e-a0ce-9b18fc89e900 button');\n",
       "      quickchartButtonEl.style.display =\n",
       "        google.colab.kernel.accessAllowed ? 'block' : 'none';\n",
       "    })();\n",
       "  </script>\n",
       "</div>\n",
       "    </div>\n",
       "  </div>\n"
      ],
      "text/plain": [
       "           date   meantemp   humidity  wind_speed  meanpressure  year  month  \\\n",
       "1095 2016-01-01  14.714286  72.285714    1.057143   1021.142857  2016      1   \n",
       "1096 2016-01-02  14.000000  75.875000    2.087500   1021.000000  2016      1   \n",
       "1097 2016-01-03  14.375000  74.750000    5.112500   1018.500000  2016      1   \n",
       "1098 2016-01-04  15.750000  77.125000    0.000000   1017.625000  2016      1   \n",
       "1099 2016-01-05  15.833333  88.833333    0.616667   1017.000000  2016      1   \n",
       "...         ...        ...        ...         ...           ...   ...    ...   \n",
       "1456 2016-12-27  16.850000  67.550000    8.335000   1017.200000  2016     12   \n",
       "1457 2016-12-28  17.217391  68.043478    3.547826   1015.565217  2016     12   \n",
       "1458 2016-12-29  15.238095  87.857143    6.000000   1016.904762  2016     12   \n",
       "1459 2016-12-30  14.095238  89.666667    6.266667   1017.904762  2016     12   \n",
       "1460 2016-12-31  15.052632  87.000000    7.325000   1016.100000  2016     12   \n",
       "\n",
       "      day  \n",
       "1095    1  \n",
       "1096    2  \n",
       "1097    3  \n",
       "1098    4  \n",
       "1099    5  \n",
       "...   ...  \n",
       "1456   27  \n",
       "1457   28  \n",
       "1458   29  \n",
       "1459   30  \n",
       "1460   31  \n",
       "\n",
       "[366 rows x 8 columns]"
      ]
     },
     "execution_count": 31,
     "metadata": {},
     "output_type": "execute_result"
    }
   ],
   "source": [
    "data_2016 = data[data[\"year\"] == 2016]\n",
    "data_2016"
   ]
  },
  {
   "cell_type": "code",
   "execution_count": 32,
   "id": "a5cb5805",
   "metadata": {
    "id": "a5cb5805"
   },
   "outputs": [],
   "source": [
    "data2016Monthly = data_2016.groupby(\"month\")[\"meantemp\"].mean()"
   ]
  },
  {
   "cell_type": "code",
   "execution_count": 33,
   "id": "70406d44",
   "metadata": {
    "id": "70406d44"
   },
   "outputs": [],
   "source": [
    "data2016Monthly = data2016Monthly.to_frame().reset_index()"
   ]
  },
  {
   "cell_type": "code",
   "execution_count": 35,
   "id": "2c51a606",
   "metadata": {
    "colab": {
     "base_uri": "https://localhost:8080/",
     "height": 425
    },
    "id": "2c51a606",
    "outputId": "45350cef-4972-4ee4-c22e-a958d937f492"
   },
   "outputs": [
    {
     "data": {
      "text/html": [
       "\n",
       "  <div id=\"df-5c6f764e-0f67-48a7-bdc3-5f9f1316dbf3\" class=\"colab-df-container\">\n",
       "    <div>\n",
       "<style scoped>\n",
       "    .dataframe tbody tr th:only-of-type {\n",
       "        vertical-align: middle;\n",
       "    }\n",
       "\n",
       "    .dataframe tbody tr th {\n",
       "        vertical-align: top;\n",
       "    }\n",
       "\n",
       "    .dataframe thead th {\n",
       "        text-align: right;\n",
       "    }\n",
       "</style>\n",
       "<table border=\"1\" class=\"dataframe\">\n",
       "  <thead>\n",
       "    <tr style=\"text-align: right;\">\n",
       "      <th></th>\n",
       "      <th>month</th>\n",
       "      <th>meantemp</th>\n",
       "    </tr>\n",
       "  </thead>\n",
       "  <tbody>\n",
       "    <tr>\n",
       "      <th>0</th>\n",
       "      <td>1</td>\n",
       "      <td>15.139363</td>\n",
       "    </tr>\n",
       "    <tr>\n",
       "      <th>1</th>\n",
       "      <td>2</td>\n",
       "      <td>19.025676</td>\n",
       "    </tr>\n",
       "    <tr>\n",
       "      <th>2</th>\n",
       "      <td>3</td>\n",
       "      <td>25.701075</td>\n",
       "    </tr>\n",
       "    <tr>\n",
       "      <th>3</th>\n",
       "      <td>4</td>\n",
       "      <td>32.550029</td>\n",
       "    </tr>\n",
       "    <tr>\n",
       "      <th>4</th>\n",
       "      <td>5</td>\n",
       "      <td>34.728726</td>\n",
       "    </tr>\n",
       "    <tr>\n",
       "      <th>5</th>\n",
       "      <td>6</td>\n",
       "      <td>34.946836</td>\n",
       "    </tr>\n",
       "    <tr>\n",
       "      <th>6</th>\n",
       "      <td>7</td>\n",
       "      <td>30.875806</td>\n",
       "    </tr>\n",
       "    <tr>\n",
       "      <th>7</th>\n",
       "      <td>8</td>\n",
       "      <td>31.116578</td>\n",
       "    </tr>\n",
       "    <tr>\n",
       "      <th>8</th>\n",
       "      <td>9</td>\n",
       "      <td>31.479768</td>\n",
       "    </tr>\n",
       "    <tr>\n",
       "      <th>9</th>\n",
       "      <td>10</td>\n",
       "      <td>28.961680</td>\n",
       "    </tr>\n",
       "    <tr>\n",
       "      <th>10</th>\n",
       "      <td>11</td>\n",
       "      <td>22.957378</td>\n",
       "    </tr>\n",
       "    <tr>\n",
       "      <th>11</th>\n",
       "      <td>12</td>\n",
       "      <td>17.672565</td>\n",
       "    </tr>\n",
       "  </tbody>\n",
       "</table>\n",
       "</div>\n",
       "    <div class=\"colab-df-buttons\">\n",
       "\n",
       "  <div class=\"colab-df-container\">\n",
       "    <button class=\"colab-df-convert\" onclick=\"convertToInteractive('df-5c6f764e-0f67-48a7-bdc3-5f9f1316dbf3')\"\n",
       "            title=\"Convert this dataframe to an interactive table.\"\n",
       "            style=\"display:none;\">\n",
       "\n",
       "  <svg xmlns=\"http://www.w3.org/2000/svg\" height=\"24px\" viewBox=\"0 -960 960 960\">\n",
       "    <path d=\"M120-120v-720h720v720H120Zm60-500h600v-160H180v160Zm220 220h160v-160H400v160Zm0 220h160v-160H400v160ZM180-400h160v-160H180v160Zm440 0h160v-160H620v160ZM180-180h160v-160H180v160Zm440 0h160v-160H620v160Z\"/>\n",
       "  </svg>\n",
       "    </button>\n",
       "\n",
       "  <style>\n",
       "    .colab-df-container {\n",
       "      display:flex;\n",
       "      gap: 12px;\n",
       "    }\n",
       "\n",
       "    .colab-df-convert {\n",
       "      background-color: #E8F0FE;\n",
       "      border: none;\n",
       "      border-radius: 50%;\n",
       "      cursor: pointer;\n",
       "      display: none;\n",
       "      fill: #1967D2;\n",
       "      height: 32px;\n",
       "      padding: 0 0 0 0;\n",
       "      width: 32px;\n",
       "    }\n",
       "\n",
       "    .colab-df-convert:hover {\n",
       "      background-color: #E2EBFA;\n",
       "      box-shadow: 0px 1px 2px rgba(60, 64, 67, 0.3), 0px 1px 3px 1px rgba(60, 64, 67, 0.15);\n",
       "      fill: #174EA6;\n",
       "    }\n",
       "\n",
       "    .colab-df-buttons div {\n",
       "      margin-bottom: 4px;\n",
       "    }\n",
       "\n",
       "    [theme=dark] .colab-df-convert {\n",
       "      background-color: #3B4455;\n",
       "      fill: #D2E3FC;\n",
       "    }\n",
       "\n",
       "    [theme=dark] .colab-df-convert:hover {\n",
       "      background-color: #434B5C;\n",
       "      box-shadow: 0px 1px 3px 1px rgba(0, 0, 0, 0.15);\n",
       "      filter: drop-shadow(0px 1px 2px rgba(0, 0, 0, 0.3));\n",
       "      fill: #FFFFFF;\n",
       "    }\n",
       "  </style>\n",
       "\n",
       "    <script>\n",
       "      const buttonEl =\n",
       "        document.querySelector('#df-5c6f764e-0f67-48a7-bdc3-5f9f1316dbf3 button.colab-df-convert');\n",
       "      buttonEl.style.display =\n",
       "        google.colab.kernel.accessAllowed ? 'block' : 'none';\n",
       "\n",
       "      async function convertToInteractive(key) {\n",
       "        const element = document.querySelector('#df-5c6f764e-0f67-48a7-bdc3-5f9f1316dbf3');\n",
       "        const dataTable =\n",
       "          await google.colab.kernel.invokeFunction('convertToInteractive',\n",
       "                                                    [key], {});\n",
       "        if (!dataTable) return;\n",
       "\n",
       "        const docLinkHtml = 'Like what you see? Visit the ' +\n",
       "          '<a target=\"_blank\" href=https://colab.research.google.com/notebooks/data_table.ipynb>data table notebook</a>'\n",
       "          + ' to learn more about interactive tables.';\n",
       "        element.innerHTML = '';\n",
       "        dataTable['output_type'] = 'display_data';\n",
       "        await google.colab.output.renderOutput(dataTable, element);\n",
       "        const docLink = document.createElement('div');\n",
       "        docLink.innerHTML = docLinkHtml;\n",
       "        element.appendChild(docLink);\n",
       "      }\n",
       "    </script>\n",
       "  </div>\n",
       "\n",
       "\n",
       "<div id=\"df-3e810b44-124c-4d50-8c7a-bf3e9b0388f4\">\n",
       "  <button class=\"colab-df-quickchart\" onclick=\"quickchart('df-3e810b44-124c-4d50-8c7a-bf3e9b0388f4')\"\n",
       "            title=\"Suggest charts.\"\n",
       "            style=\"display:none;\">\n",
       "\n",
       "<svg xmlns=\"http://www.w3.org/2000/svg\" height=\"24px\"viewBox=\"0 0 24 24\"\n",
       "     width=\"24px\">\n",
       "    <g>\n",
       "        <path d=\"M19 3H5c-1.1 0-2 .9-2 2v14c0 1.1.9 2 2 2h14c1.1 0 2-.9 2-2V5c0-1.1-.9-2-2-2zM9 17H7v-7h2v7zm4 0h-2V7h2v10zm4 0h-2v-4h2v4z\"/>\n",
       "    </g>\n",
       "</svg>\n",
       "  </button>\n",
       "\n",
       "<style>\n",
       "  .colab-df-quickchart {\n",
       "      --bg-color: #E8F0FE;\n",
       "      --fill-color: #1967D2;\n",
       "      --hover-bg-color: #E2EBFA;\n",
       "      --hover-fill-color: #174EA6;\n",
       "      --disabled-fill-color: #AAA;\n",
       "      --disabled-bg-color: #DDD;\n",
       "  }\n",
       "\n",
       "  [theme=dark] .colab-df-quickchart {\n",
       "      --bg-color: #3B4455;\n",
       "      --fill-color: #D2E3FC;\n",
       "      --hover-bg-color: #434B5C;\n",
       "      --hover-fill-color: #FFFFFF;\n",
       "      --disabled-bg-color: #3B4455;\n",
       "      --disabled-fill-color: #666;\n",
       "  }\n",
       "\n",
       "  .colab-df-quickchart {\n",
       "    background-color: var(--bg-color);\n",
       "    border: none;\n",
       "    border-radius: 50%;\n",
       "    cursor: pointer;\n",
       "    display: none;\n",
       "    fill: var(--fill-color);\n",
       "    height: 32px;\n",
       "    padding: 0;\n",
       "    width: 32px;\n",
       "  }\n",
       "\n",
       "  .colab-df-quickchart:hover {\n",
       "    background-color: var(--hover-bg-color);\n",
       "    box-shadow: 0 1px 2px rgba(60, 64, 67, 0.3), 0 1px 3px 1px rgba(60, 64, 67, 0.15);\n",
       "    fill: var(--button-hover-fill-color);\n",
       "  }\n",
       "\n",
       "  .colab-df-quickchart-complete:disabled,\n",
       "  .colab-df-quickchart-complete:disabled:hover {\n",
       "    background-color: var(--disabled-bg-color);\n",
       "    fill: var(--disabled-fill-color);\n",
       "    box-shadow: none;\n",
       "  }\n",
       "\n",
       "  .colab-df-spinner {\n",
       "    border: 2px solid var(--fill-color);\n",
       "    border-color: transparent;\n",
       "    border-bottom-color: var(--fill-color);\n",
       "    animation:\n",
       "      spin 1s steps(1) infinite;\n",
       "  }\n",
       "\n",
       "  @keyframes spin {\n",
       "    0% {\n",
       "      border-color: transparent;\n",
       "      border-bottom-color: var(--fill-color);\n",
       "      border-left-color: var(--fill-color);\n",
       "    }\n",
       "    20% {\n",
       "      border-color: transparent;\n",
       "      border-left-color: var(--fill-color);\n",
       "      border-top-color: var(--fill-color);\n",
       "    }\n",
       "    30% {\n",
       "      border-color: transparent;\n",
       "      border-left-color: var(--fill-color);\n",
       "      border-top-color: var(--fill-color);\n",
       "      border-right-color: var(--fill-color);\n",
       "    }\n",
       "    40% {\n",
       "      border-color: transparent;\n",
       "      border-right-color: var(--fill-color);\n",
       "      border-top-color: var(--fill-color);\n",
       "    }\n",
       "    60% {\n",
       "      border-color: transparent;\n",
       "      border-right-color: var(--fill-color);\n",
       "    }\n",
       "    80% {\n",
       "      border-color: transparent;\n",
       "      border-right-color: var(--fill-color);\n",
       "      border-bottom-color: var(--fill-color);\n",
       "    }\n",
       "    90% {\n",
       "      border-color: transparent;\n",
       "      border-bottom-color: var(--fill-color);\n",
       "    }\n",
       "  }\n",
       "</style>\n",
       "\n",
       "  <script>\n",
       "    async function quickchart(key) {\n",
       "      const quickchartButtonEl =\n",
       "        document.querySelector('#' + key + ' button');\n",
       "      quickchartButtonEl.disabled = true;  // To prevent multiple clicks.\n",
       "      quickchartButtonEl.classList.add('colab-df-spinner');\n",
       "      try {\n",
       "        const charts = await google.colab.kernel.invokeFunction(\n",
       "            'suggestCharts', [key], {});\n",
       "      } catch (error) {\n",
       "        console.error('Error during call to suggestCharts:', error);\n",
       "      }\n",
       "      quickchartButtonEl.classList.remove('colab-df-spinner');\n",
       "      quickchartButtonEl.classList.add('colab-df-quickchart-complete');\n",
       "    }\n",
       "    (() => {\n",
       "      let quickchartButtonEl =\n",
       "        document.querySelector('#df-3e810b44-124c-4d50-8c7a-bf3e9b0388f4 button');\n",
       "      quickchartButtonEl.style.display =\n",
       "        google.colab.kernel.accessAllowed ? 'block' : 'none';\n",
       "    })();\n",
       "  </script>\n",
       "</div>\n",
       "    </div>\n",
       "  </div>\n"
      ],
      "text/plain": [
       "    month   meantemp\n",
       "0       1  15.139363\n",
       "1       2  19.025676\n",
       "2       3  25.701075\n",
       "3       4  32.550029\n",
       "4       5  34.728726\n",
       "5       6  34.946836\n",
       "6       7  30.875806\n",
       "7       8  31.116578\n",
       "8       9  31.479768\n",
       "9      10  28.961680\n",
       "10     11  22.957378\n",
       "11     12  17.672565"
      ]
     },
     "execution_count": 35,
     "metadata": {},
     "output_type": "execute_result"
    }
   ],
   "source": [
    "data2016Monthly"
   ]
  },
  {
   "cell_type": "code",
   "execution_count": 36,
   "id": "ee1dce6d",
   "metadata": {
    "colab": {
     "base_uri": "https://localhost:8080/",
     "height": 542
    },
    "id": "ee1dce6d",
    "outputId": "e7484f42-97cf-4e03-f968-fec6b42003b8"
   },
   "outputs": [
    {
     "data": {
      "text/html": [
       "<html>\n",
       "<head><meta charset=\"utf-8\" /></head>\n",
       "<body>\n",
       "    <div>            <script src=\"https://cdnjs.cloudflare.com/ajax/libs/mathjax/2.7.5/MathJax.js?config=TeX-AMS-MML_SVG\"></script><script type=\"text/javascript\">if (window.MathJax && window.MathJax.Hub && window.MathJax.Hub.Config) {window.MathJax.Hub.Config({SVG: {font: \"STIX-Web\"}});}</script>                <script type=\"text/javascript\">window.PlotlyConfig = {MathJaxConfig: 'local'};</script>\n",
       "        <script charset=\"utf-8\" src=\"https://cdn.plot.ly/plotly-2.24.1.min.js\"></script>                <div id=\"122c294a-c377-4c65-a95c-f1369aeb917e\" class=\"plotly-graph-div\" style=\"height:525px; width:100%;\"></div>            <script type=\"text/javascript\">                                    window.PLOTLYENV=window.PLOTLYENV || {};                                    if (document.getElementById(\"122c294a-c377-4c65-a95c-f1369aeb917e\")) {                    Plotly.newPlot(                        \"122c294a-c377-4c65-a95c-f1369aeb917e\",                        [{\"alignmentgroup\":\"True\",\"hovertemplate\":\"month=%{marker.color}\\u003cbr\\u003emeantemp=%{y}\\u003cextra\\u003e\\u003c\\u002fextra\\u003e\",\"legendgroup\":\"\",\"marker\":{\"color\":[1,2,3,4,5,6,7,8,9,10,11,12],\"coloraxis\":\"coloraxis\",\"pattern\":{\"shape\":\"\"}},\"name\":\"\",\"offsetgroup\":\"\",\"orientation\":\"v\",\"showlegend\":false,\"textposition\":\"auto\",\"x\":[1,2,3,4,5,6,7,8,9,10,11,12],\"xaxis\":\"x\",\"y\":[15.13936251920123,19.02567619162447,25.701075268817206,32.550028998779,34.72872571188879,34.94683608058608,30.875806451612902,31.11657757064778,31.479768258608075,28.961680216049082,22.9573784967519,17.67256457218626],\"yaxis\":\"y\",\"type\":\"bar\"}],                        {\"template\":{\"data\":{\"histogram2dcontour\":[{\"type\":\"histogram2dcontour\",\"colorbar\":{\"outlinewidth\":0,\"ticks\":\"\"},\"colorscale\":[[0.0,\"#0d0887\"],[0.1111111111111111,\"#46039f\"],[0.2222222222222222,\"#7201a8\"],[0.3333333333333333,\"#9c179e\"],[0.4444444444444444,\"#bd3786\"],[0.5555555555555556,\"#d8576b\"],[0.6666666666666666,\"#ed7953\"],[0.7777777777777778,\"#fb9f3a\"],[0.8888888888888888,\"#fdca26\"],[1.0,\"#f0f921\"]]}],\"choropleth\":[{\"type\":\"choropleth\",\"colorbar\":{\"outlinewidth\":0,\"ticks\":\"\"}}],\"histogram2d\":[{\"type\":\"histogram2d\",\"colorbar\":{\"outlinewidth\":0,\"ticks\":\"\"},\"colorscale\":[[0.0,\"#0d0887\"],[0.1111111111111111,\"#46039f\"],[0.2222222222222222,\"#7201a8\"],[0.3333333333333333,\"#9c179e\"],[0.4444444444444444,\"#bd3786\"],[0.5555555555555556,\"#d8576b\"],[0.6666666666666666,\"#ed7953\"],[0.7777777777777778,\"#fb9f3a\"],[0.8888888888888888,\"#fdca26\"],[1.0,\"#f0f921\"]]}],\"heatmap\":[{\"type\":\"heatmap\",\"colorbar\":{\"outlinewidth\":0,\"ticks\":\"\"},\"colorscale\":[[0.0,\"#0d0887\"],[0.1111111111111111,\"#46039f\"],[0.2222222222222222,\"#7201a8\"],[0.3333333333333333,\"#9c179e\"],[0.4444444444444444,\"#bd3786\"],[0.5555555555555556,\"#d8576b\"],[0.6666666666666666,\"#ed7953\"],[0.7777777777777778,\"#fb9f3a\"],[0.8888888888888888,\"#fdca26\"],[1.0,\"#f0f921\"]]}],\"heatmapgl\":[{\"type\":\"heatmapgl\",\"colorbar\":{\"outlinewidth\":0,\"ticks\":\"\"},\"colorscale\":[[0.0,\"#0d0887\"],[0.1111111111111111,\"#46039f\"],[0.2222222222222222,\"#7201a8\"],[0.3333333333333333,\"#9c179e\"],[0.4444444444444444,\"#bd3786\"],[0.5555555555555556,\"#d8576b\"],[0.6666666666666666,\"#ed7953\"],[0.7777777777777778,\"#fb9f3a\"],[0.8888888888888888,\"#fdca26\"],[1.0,\"#f0f921\"]]}],\"contourcarpet\":[{\"type\":\"contourcarpet\",\"colorbar\":{\"outlinewidth\":0,\"ticks\":\"\"}}],\"contour\":[{\"type\":\"contour\",\"colorbar\":{\"outlinewidth\":0,\"ticks\":\"\"},\"colorscale\":[[0.0,\"#0d0887\"],[0.1111111111111111,\"#46039f\"],[0.2222222222222222,\"#7201a8\"],[0.3333333333333333,\"#9c179e\"],[0.4444444444444444,\"#bd3786\"],[0.5555555555555556,\"#d8576b\"],[0.6666666666666666,\"#ed7953\"],[0.7777777777777778,\"#fb9f3a\"],[0.8888888888888888,\"#fdca26\"],[1.0,\"#f0f921\"]]}],\"surface\":[{\"type\":\"surface\",\"colorbar\":{\"outlinewidth\":0,\"ticks\":\"\"},\"colorscale\":[[0.0,\"#0d0887\"],[0.1111111111111111,\"#46039f\"],[0.2222222222222222,\"#7201a8\"],[0.3333333333333333,\"#9c179e\"],[0.4444444444444444,\"#bd3786\"],[0.5555555555555556,\"#d8576b\"],[0.6666666666666666,\"#ed7953\"],[0.7777777777777778,\"#fb9f3a\"],[0.8888888888888888,\"#fdca26\"],[1.0,\"#f0f921\"]]}],\"mesh3d\":[{\"type\":\"mesh3d\",\"colorbar\":{\"outlinewidth\":0,\"ticks\":\"\"}}],\"scatter\":[{\"fillpattern\":{\"fillmode\":\"overlay\",\"size\":10,\"solidity\":0.2},\"type\":\"scatter\"}],\"parcoords\":[{\"type\":\"parcoords\",\"line\":{\"colorbar\":{\"outlinewidth\":0,\"ticks\":\"\"}}}],\"scatterpolargl\":[{\"type\":\"scatterpolargl\",\"marker\":{\"colorbar\":{\"outlinewidth\":0,\"ticks\":\"\"}}}],\"bar\":[{\"error_x\":{\"color\":\"#2a3f5f\"},\"error_y\":{\"color\":\"#2a3f5f\"},\"marker\":{\"line\":{\"color\":\"#E5ECF6\",\"width\":0.5},\"pattern\":{\"fillmode\":\"overlay\",\"size\":10,\"solidity\":0.2}},\"type\":\"bar\"}],\"scattergeo\":[{\"type\":\"scattergeo\",\"marker\":{\"colorbar\":{\"outlinewidth\":0,\"ticks\":\"\"}}}],\"scatterpolar\":[{\"type\":\"scatterpolar\",\"marker\":{\"colorbar\":{\"outlinewidth\":0,\"ticks\":\"\"}}}],\"histogram\":[{\"marker\":{\"pattern\":{\"fillmode\":\"overlay\",\"size\":10,\"solidity\":0.2}},\"type\":\"histogram\"}],\"scattergl\":[{\"type\":\"scattergl\",\"marker\":{\"colorbar\":{\"outlinewidth\":0,\"ticks\":\"\"}}}],\"scatter3d\":[{\"type\":\"scatter3d\",\"line\":{\"colorbar\":{\"outlinewidth\":0,\"ticks\":\"\"}},\"marker\":{\"colorbar\":{\"outlinewidth\":0,\"ticks\":\"\"}}}],\"scattermapbox\":[{\"type\":\"scattermapbox\",\"marker\":{\"colorbar\":{\"outlinewidth\":0,\"ticks\":\"\"}}}],\"scatterternary\":[{\"type\":\"scatterternary\",\"marker\":{\"colorbar\":{\"outlinewidth\":0,\"ticks\":\"\"}}}],\"scattercarpet\":[{\"type\":\"scattercarpet\",\"marker\":{\"colorbar\":{\"outlinewidth\":0,\"ticks\":\"\"}}}],\"carpet\":[{\"aaxis\":{\"endlinecolor\":\"#2a3f5f\",\"gridcolor\":\"white\",\"linecolor\":\"white\",\"minorgridcolor\":\"white\",\"startlinecolor\":\"#2a3f5f\"},\"baxis\":{\"endlinecolor\":\"#2a3f5f\",\"gridcolor\":\"white\",\"linecolor\":\"white\",\"minorgridcolor\":\"white\",\"startlinecolor\":\"#2a3f5f\"},\"type\":\"carpet\"}],\"table\":[{\"cells\":{\"fill\":{\"color\":\"#EBF0F8\"},\"line\":{\"color\":\"white\"}},\"header\":{\"fill\":{\"color\":\"#C8D4E3\"},\"line\":{\"color\":\"white\"}},\"type\":\"table\"}],\"barpolar\":[{\"marker\":{\"line\":{\"color\":\"#E5ECF6\",\"width\":0.5},\"pattern\":{\"fillmode\":\"overlay\",\"size\":10,\"solidity\":0.2}},\"type\":\"barpolar\"}],\"pie\":[{\"automargin\":true,\"type\":\"pie\"}]},\"layout\":{\"autotypenumbers\":\"strict\",\"colorway\":[\"#636efa\",\"#EF553B\",\"#00cc96\",\"#ab63fa\",\"#FFA15A\",\"#19d3f3\",\"#FF6692\",\"#B6E880\",\"#FF97FF\",\"#FECB52\"],\"font\":{\"color\":\"#2a3f5f\"},\"hovermode\":\"closest\",\"hoverlabel\":{\"align\":\"left\"},\"paper_bgcolor\":\"white\",\"plot_bgcolor\":\"#E5ECF6\",\"polar\":{\"bgcolor\":\"#E5ECF6\",\"angularaxis\":{\"gridcolor\":\"white\",\"linecolor\":\"white\",\"ticks\":\"\"},\"radialaxis\":{\"gridcolor\":\"white\",\"linecolor\":\"white\",\"ticks\":\"\"}},\"ternary\":{\"bgcolor\":\"#E5ECF6\",\"aaxis\":{\"gridcolor\":\"white\",\"linecolor\":\"white\",\"ticks\":\"\"},\"baxis\":{\"gridcolor\":\"white\",\"linecolor\":\"white\",\"ticks\":\"\"},\"caxis\":{\"gridcolor\":\"white\",\"linecolor\":\"white\",\"ticks\":\"\"}},\"coloraxis\":{\"colorbar\":{\"outlinewidth\":0,\"ticks\":\"\"}},\"colorscale\":{\"sequential\":[[0.0,\"#0d0887\"],[0.1111111111111111,\"#46039f\"],[0.2222222222222222,\"#7201a8\"],[0.3333333333333333,\"#9c179e\"],[0.4444444444444444,\"#bd3786\"],[0.5555555555555556,\"#d8576b\"],[0.6666666666666666,\"#ed7953\"],[0.7777777777777778,\"#fb9f3a\"],[0.8888888888888888,\"#fdca26\"],[1.0,\"#f0f921\"]],\"sequentialminus\":[[0.0,\"#0d0887\"],[0.1111111111111111,\"#46039f\"],[0.2222222222222222,\"#7201a8\"],[0.3333333333333333,\"#9c179e\"],[0.4444444444444444,\"#bd3786\"],[0.5555555555555556,\"#d8576b\"],[0.6666666666666666,\"#ed7953\"],[0.7777777777777778,\"#fb9f3a\"],[0.8888888888888888,\"#fdca26\"],[1.0,\"#f0f921\"]],\"diverging\":[[0,\"#8e0152\"],[0.1,\"#c51b7d\"],[0.2,\"#de77ae\"],[0.3,\"#f1b6da\"],[0.4,\"#fde0ef\"],[0.5,\"#f7f7f7\"],[0.6,\"#e6f5d0\"],[0.7,\"#b8e186\"],[0.8,\"#7fbc41\"],[0.9,\"#4d9221\"],[1,\"#276419\"]]},\"xaxis\":{\"gridcolor\":\"white\",\"linecolor\":\"white\",\"ticks\":\"\",\"title\":{\"standoff\":15},\"zerolinecolor\":\"white\",\"automargin\":true,\"zerolinewidth\":2},\"yaxis\":{\"gridcolor\":\"white\",\"linecolor\":\"white\",\"ticks\":\"\",\"title\":{\"standoff\":15},\"zerolinecolor\":\"white\",\"automargin\":true,\"zerolinewidth\":2},\"scene\":{\"xaxis\":{\"backgroundcolor\":\"#E5ECF6\",\"gridcolor\":\"white\",\"linecolor\":\"white\",\"showbackground\":true,\"ticks\":\"\",\"zerolinecolor\":\"white\",\"gridwidth\":2},\"yaxis\":{\"backgroundcolor\":\"#E5ECF6\",\"gridcolor\":\"white\",\"linecolor\":\"white\",\"showbackground\":true,\"ticks\":\"\",\"zerolinecolor\":\"white\",\"gridwidth\":2},\"zaxis\":{\"backgroundcolor\":\"#E5ECF6\",\"gridcolor\":\"white\",\"linecolor\":\"white\",\"showbackground\":true,\"ticks\":\"\",\"zerolinecolor\":\"white\",\"gridwidth\":2}},\"shapedefaults\":{\"line\":{\"color\":\"#2a3f5f\"}},\"annotationdefaults\":{\"arrowcolor\":\"#2a3f5f\",\"arrowhead\":0,\"arrowwidth\":1},\"geo\":{\"bgcolor\":\"white\",\"landcolor\":\"#E5ECF6\",\"subunitcolor\":\"white\",\"showland\":true,\"showlakes\":true,\"lakecolor\":\"white\"},\"title\":{\"x\":0.05},\"mapbox\":{\"style\":\"light\"}}},\"xaxis\":{\"anchor\":\"y\",\"domain\":[0.0,1.0],\"title\":{\"text\":\"month\"}},\"yaxis\":{\"anchor\":\"x\",\"domain\":[0.0,1.0],\"title\":{\"text\":\"meantemp\"}},\"coloraxis\":{\"colorbar\":{\"title\":{\"text\":\"month\"}},\"colorscale\":[[0.0,\"#0d0887\"],[0.1111111111111111,\"#46039f\"],[0.2222222222222222,\"#7201a8\"],[0.3333333333333333,\"#9c179e\"],[0.4444444444444444,\"#bd3786\"],[0.5555555555555556,\"#d8576b\"],[0.6666666666666666,\"#ed7953\"],[0.7777777777777778,\"#fb9f3a\"],[0.8888888888888888,\"#fdca26\"],[1.0,\"#f0f921\"]]},\"legend\":{\"tracegroupgap\":0},\"margin\":{\"t\":60},\"barmode\":\"relative\"},                        {\"responsive\": true}                    ).then(function(){\n",
       "                            \n",
       "var gd = document.getElementById('122c294a-c377-4c65-a95c-f1369aeb917e');\n",
       "var x = new MutationObserver(function (mutations, observer) {{\n",
       "        var display = window.getComputedStyle(gd).display;\n",
       "        if (!display || display === 'none') {{\n",
       "            console.log([gd, 'removed!']);\n",
       "            Plotly.purge(gd);\n",
       "            observer.disconnect();\n",
       "        }}\n",
       "}});\n",
       "\n",
       "// Listen for the removal of the full notebook cells\n",
       "var notebookContainer = gd.closest('#notebook-container');\n",
       "if (notebookContainer) {{\n",
       "    x.observe(notebookContainer, {childList: true});\n",
       "}}\n",
       "\n",
       "// Listen for the clearing of the current output cell\n",
       "var outputEl = gd.closest('.output');\n",
       "if (outputEl) {{\n",
       "    x.observe(outputEl, {childList: true});\n",
       "}}\n",
       "\n",
       "                        })                };                            </script>        </div>\n",
       "</body>\n",
       "</html>"
      ]
     },
     "metadata": {},
     "output_type": "display_data"
    }
   ],
   "source": [
    "fig = px.bar(data2016Monthly, x=\"month\", y=\"meantemp\", color=\"month\")\n",
    "fig.show()"
   ]
  },
  {
   "cell_type": "code",
   "execution_count": 90,
   "id": "ccd9a968",
   "metadata": {
    "colab": {
     "base_uri": "https://localhost:8080/",
     "height": 423
    },
    "id": "ccd9a968",
    "outputId": "3fbf2d79-3eff-4526-e32e-38ef279bed16"
   },
   "outputs": [
    {
     "data": {
      "text/html": [
       "\n",
       "  <div id=\"df-51324829-8e38-4572-8ecc-52f3d8f8add7\" class=\"colab-df-container\">\n",
       "    <div>\n",
       "<style scoped>\n",
       "    .dataframe tbody tr th:only-of-type {\n",
       "        vertical-align: middle;\n",
       "    }\n",
       "\n",
       "    .dataframe tbody tr th {\n",
       "        vertical-align: top;\n",
       "    }\n",
       "\n",
       "    .dataframe thead th {\n",
       "        text-align: right;\n",
       "    }\n",
       "</style>\n",
       "<table border=\"1\" class=\"dataframe\">\n",
       "  <thead>\n",
       "    <tr style=\"text-align: right;\">\n",
       "      <th></th>\n",
       "      <th>humidity</th>\n",
       "      <th>month</th>\n",
       "      <th>day</th>\n",
       "    </tr>\n",
       "  </thead>\n",
       "  <tbody>\n",
       "    <tr>\n",
       "      <th>0</th>\n",
       "      <td>84.500000</td>\n",
       "      <td>1</td>\n",
       "      <td>1</td>\n",
       "    </tr>\n",
       "    <tr>\n",
       "      <th>1</th>\n",
       "      <td>92.000000</td>\n",
       "      <td>1</td>\n",
       "      <td>2</td>\n",
       "    </tr>\n",
       "    <tr>\n",
       "      <th>2</th>\n",
       "      <td>87.000000</td>\n",
       "      <td>1</td>\n",
       "      <td>3</td>\n",
       "    </tr>\n",
       "    <tr>\n",
       "      <th>3</th>\n",
       "      <td>71.333333</td>\n",
       "      <td>1</td>\n",
       "      <td>4</td>\n",
       "    </tr>\n",
       "    <tr>\n",
       "      <th>4</th>\n",
       "      <td>86.833333</td>\n",
       "      <td>1</td>\n",
       "      <td>5</td>\n",
       "    </tr>\n",
       "    <tr>\n",
       "      <th>...</th>\n",
       "      <td>...</td>\n",
       "      <td>...</td>\n",
       "      <td>...</td>\n",
       "    </tr>\n",
       "    <tr>\n",
       "      <th>1457</th>\n",
       "      <td>68.043478</td>\n",
       "      <td>12</td>\n",
       "      <td>28</td>\n",
       "    </tr>\n",
       "    <tr>\n",
       "      <th>1458</th>\n",
       "      <td>87.857143</td>\n",
       "      <td>12</td>\n",
       "      <td>29</td>\n",
       "    </tr>\n",
       "    <tr>\n",
       "      <th>1459</th>\n",
       "      <td>89.666667</td>\n",
       "      <td>12</td>\n",
       "      <td>30</td>\n",
       "    </tr>\n",
       "    <tr>\n",
       "      <th>1460</th>\n",
       "      <td>87.000000</td>\n",
       "      <td>12</td>\n",
       "      <td>31</td>\n",
       "    </tr>\n",
       "    <tr>\n",
       "      <th>1461</th>\n",
       "      <td>100.000000</td>\n",
       "      <td>1</td>\n",
       "      <td>1</td>\n",
       "    </tr>\n",
       "  </tbody>\n",
       "</table>\n",
       "<p>1462 rows × 3 columns</p>\n",
       "</div>\n",
       "    <div class=\"colab-df-buttons\">\n",
       "\n",
       "  <div class=\"colab-df-container\">\n",
       "    <button class=\"colab-df-convert\" onclick=\"convertToInteractive('df-51324829-8e38-4572-8ecc-52f3d8f8add7')\"\n",
       "            title=\"Convert this dataframe to an interactive table.\"\n",
       "            style=\"display:none;\">\n",
       "\n",
       "  <svg xmlns=\"http://www.w3.org/2000/svg\" height=\"24px\" viewBox=\"0 -960 960 960\">\n",
       "    <path d=\"M120-120v-720h720v720H120Zm60-500h600v-160H180v160Zm220 220h160v-160H400v160Zm0 220h160v-160H400v160ZM180-400h160v-160H180v160Zm440 0h160v-160H620v160ZM180-180h160v-160H180v160Zm440 0h160v-160H620v160Z\"/>\n",
       "  </svg>\n",
       "    </button>\n",
       "\n",
       "  <style>\n",
       "    .colab-df-container {\n",
       "      display:flex;\n",
       "      gap: 12px;\n",
       "    }\n",
       "\n",
       "    .colab-df-convert {\n",
       "      background-color: #E8F0FE;\n",
       "      border: none;\n",
       "      border-radius: 50%;\n",
       "      cursor: pointer;\n",
       "      display: none;\n",
       "      fill: #1967D2;\n",
       "      height: 32px;\n",
       "      padding: 0 0 0 0;\n",
       "      width: 32px;\n",
       "    }\n",
       "\n",
       "    .colab-df-convert:hover {\n",
       "      background-color: #E2EBFA;\n",
       "      box-shadow: 0px 1px 2px rgba(60, 64, 67, 0.3), 0px 1px 3px 1px rgba(60, 64, 67, 0.15);\n",
       "      fill: #174EA6;\n",
       "    }\n",
       "\n",
       "    .colab-df-buttons div {\n",
       "      margin-bottom: 4px;\n",
       "    }\n",
       "\n",
       "    [theme=dark] .colab-df-convert {\n",
       "      background-color: #3B4455;\n",
       "      fill: #D2E3FC;\n",
       "    }\n",
       "\n",
       "    [theme=dark] .colab-df-convert:hover {\n",
       "      background-color: #434B5C;\n",
       "      box-shadow: 0px 1px 3px 1px rgba(0, 0, 0, 0.15);\n",
       "      filter: drop-shadow(0px 1px 2px rgba(0, 0, 0, 0.3));\n",
       "      fill: #FFFFFF;\n",
       "    }\n",
       "  </style>\n",
       "\n",
       "    <script>\n",
       "      const buttonEl =\n",
       "        document.querySelector('#df-51324829-8e38-4572-8ecc-52f3d8f8add7 button.colab-df-convert');\n",
       "      buttonEl.style.display =\n",
       "        google.colab.kernel.accessAllowed ? 'block' : 'none';\n",
       "\n",
       "      async function convertToInteractive(key) {\n",
       "        const element = document.querySelector('#df-51324829-8e38-4572-8ecc-52f3d8f8add7');\n",
       "        const dataTable =\n",
       "          await google.colab.kernel.invokeFunction('convertToInteractive',\n",
       "                                                    [key], {});\n",
       "        if (!dataTable) return;\n",
       "\n",
       "        const docLinkHtml = 'Like what you see? Visit the ' +\n",
       "          '<a target=\"_blank\" href=https://colab.research.google.com/notebooks/data_table.ipynb>data table notebook</a>'\n",
       "          + ' to learn more about interactive tables.';\n",
       "        element.innerHTML = '';\n",
       "        dataTable['output_type'] = 'display_data';\n",
       "        await google.colab.output.renderOutput(dataTable, element);\n",
       "        const docLink = document.createElement('div');\n",
       "        docLink.innerHTML = docLinkHtml;\n",
       "        element.appendChild(docLink);\n",
       "      }\n",
       "    </script>\n",
       "  </div>\n",
       "\n",
       "\n",
       "<div id=\"df-6515b3d7-35ed-4cd5-bb11-ff268f762248\">\n",
       "  <button class=\"colab-df-quickchart\" onclick=\"quickchart('df-6515b3d7-35ed-4cd5-bb11-ff268f762248')\"\n",
       "            title=\"Suggest charts.\"\n",
       "            style=\"display:none;\">\n",
       "\n",
       "<svg xmlns=\"http://www.w3.org/2000/svg\" height=\"24px\"viewBox=\"0 0 24 24\"\n",
       "     width=\"24px\">\n",
       "    <g>\n",
       "        <path d=\"M19 3H5c-1.1 0-2 .9-2 2v14c0 1.1.9 2 2 2h14c1.1 0 2-.9 2-2V5c0-1.1-.9-2-2-2zM9 17H7v-7h2v7zm4 0h-2V7h2v10zm4 0h-2v-4h2v4z\"/>\n",
       "    </g>\n",
       "</svg>\n",
       "  </button>\n",
       "\n",
       "<style>\n",
       "  .colab-df-quickchart {\n",
       "      --bg-color: #E8F0FE;\n",
       "      --fill-color: #1967D2;\n",
       "      --hover-bg-color: #E2EBFA;\n",
       "      --hover-fill-color: #174EA6;\n",
       "      --disabled-fill-color: #AAA;\n",
       "      --disabled-bg-color: #DDD;\n",
       "  }\n",
       "\n",
       "  [theme=dark] .colab-df-quickchart {\n",
       "      --bg-color: #3B4455;\n",
       "      --fill-color: #D2E3FC;\n",
       "      --hover-bg-color: #434B5C;\n",
       "      --hover-fill-color: #FFFFFF;\n",
       "      --disabled-bg-color: #3B4455;\n",
       "      --disabled-fill-color: #666;\n",
       "  }\n",
       "\n",
       "  .colab-df-quickchart {\n",
       "    background-color: var(--bg-color);\n",
       "    border: none;\n",
       "    border-radius: 50%;\n",
       "    cursor: pointer;\n",
       "    display: none;\n",
       "    fill: var(--fill-color);\n",
       "    height: 32px;\n",
       "    padding: 0;\n",
       "    width: 32px;\n",
       "  }\n",
       "\n",
       "  .colab-df-quickchart:hover {\n",
       "    background-color: var(--hover-bg-color);\n",
       "    box-shadow: 0 1px 2px rgba(60, 64, 67, 0.3), 0 1px 3px 1px rgba(60, 64, 67, 0.15);\n",
       "    fill: var(--button-hover-fill-color);\n",
       "  }\n",
       "\n",
       "  .colab-df-quickchart-complete:disabled,\n",
       "  .colab-df-quickchart-complete:disabled:hover {\n",
       "    background-color: var(--disabled-bg-color);\n",
       "    fill: var(--disabled-fill-color);\n",
       "    box-shadow: none;\n",
       "  }\n",
       "\n",
       "  .colab-df-spinner {\n",
       "    border: 2px solid var(--fill-color);\n",
       "    border-color: transparent;\n",
       "    border-bottom-color: var(--fill-color);\n",
       "    animation:\n",
       "      spin 1s steps(1) infinite;\n",
       "  }\n",
       "\n",
       "  @keyframes spin {\n",
       "    0% {\n",
       "      border-color: transparent;\n",
       "      border-bottom-color: var(--fill-color);\n",
       "      border-left-color: var(--fill-color);\n",
       "    }\n",
       "    20% {\n",
       "      border-color: transparent;\n",
       "      border-left-color: var(--fill-color);\n",
       "      border-top-color: var(--fill-color);\n",
       "    }\n",
       "    30% {\n",
       "      border-color: transparent;\n",
       "      border-left-color: var(--fill-color);\n",
       "      border-top-color: var(--fill-color);\n",
       "      border-right-color: var(--fill-color);\n",
       "    }\n",
       "    40% {\n",
       "      border-color: transparent;\n",
       "      border-right-color: var(--fill-color);\n",
       "      border-top-color: var(--fill-color);\n",
       "    }\n",
       "    60% {\n",
       "      border-color: transparent;\n",
       "      border-right-color: var(--fill-color);\n",
       "    }\n",
       "    80% {\n",
       "      border-color: transparent;\n",
       "      border-right-color: var(--fill-color);\n",
       "      border-bottom-color: var(--fill-color);\n",
       "    }\n",
       "    90% {\n",
       "      border-color: transparent;\n",
       "      border-bottom-color: var(--fill-color);\n",
       "    }\n",
       "  }\n",
       "</style>\n",
       "\n",
       "  <script>\n",
       "    async function quickchart(key) {\n",
       "      const quickchartButtonEl =\n",
       "        document.querySelector('#' + key + ' button');\n",
       "      quickchartButtonEl.disabled = true;  // To prevent multiple clicks.\n",
       "      quickchartButtonEl.classList.add('colab-df-spinner');\n",
       "      try {\n",
       "        const charts = await google.colab.kernel.invokeFunction(\n",
       "            'suggestCharts', [key], {});\n",
       "      } catch (error) {\n",
       "        console.error('Error during call to suggestCharts:', error);\n",
       "      }\n",
       "      quickchartButtonEl.classList.remove('colab-df-spinner');\n",
       "      quickchartButtonEl.classList.add('colab-df-quickchart-complete');\n",
       "    }\n",
       "    (() => {\n",
       "      let quickchartButtonEl =\n",
       "        document.querySelector('#df-6515b3d7-35ed-4cd5-bb11-ff268f762248 button');\n",
       "      quickchartButtonEl.style.display =\n",
       "        google.colab.kernel.accessAllowed ? 'block' : 'none';\n",
       "    })();\n",
       "  </script>\n",
       "</div>\n",
       "    </div>\n",
       "  </div>\n"
      ],
      "text/plain": [
       "        humidity  month  day\n",
       "0      84.500000      1    1\n",
       "1      92.000000      1    2\n",
       "2      87.000000      1    3\n",
       "3      71.333333      1    4\n",
       "4      86.833333      1    5\n",
       "...          ...    ...  ...\n",
       "1457   68.043478     12   28\n",
       "1458   87.857143     12   29\n",
       "1459   89.666667     12   30\n",
       "1460   87.000000     12   31\n",
       "1461  100.000000      1    1\n",
       "\n",
       "[1462 rows x 3 columns]"
      ]
     },
     "execution_count": 90,
     "metadata": {},
     "output_type": "execute_result"
    }
   ],
   "source": [
    "x = data.drop(['meantemp' , \"date\" ,\"wind_speed\"  , \"meanpressure\"   , \"year\"] , axis=1)\n",
    "x"
   ]
  },
  {
   "cell_type": "code",
   "execution_count": 95,
   "id": "f8bfd3cb",
   "metadata": {
    "id": "f8bfd3cb"
   },
   "outputs": [],
   "source": [
    "y = data['meantemp']"
   ]
  },
  {
   "cell_type": "code",
   "execution_count": 96,
   "id": "ab00016d",
   "metadata": {
    "colab": {
     "base_uri": "https://localhost:8080/"
    },
    "id": "ab00016d",
    "outputId": "1001c03d-f2d5-4287-ca20-24fffd70ae8b"
   },
   "outputs": [
    {
     "data": {
      "text/plain": [
       "0       10.000000\n",
       "1        7.400000\n",
       "2        7.166667\n",
       "3        8.666667\n",
       "4        6.000000\n",
       "          ...    \n",
       "1457    17.217391\n",
       "1458    15.238095\n",
       "1459    14.095238\n",
       "1460    15.052632\n",
       "1461    10.000000\n",
       "Name: meantemp, Length: 1462, dtype: float64"
      ]
     },
     "execution_count": 96,
     "metadata": {},
     "output_type": "execute_result"
    }
   ],
   "source": [
    "y"
   ]
  },
  {
   "cell_type": "markdown",
   "id": "ro8hNPDWS86D",
   "metadata": {
    "id": "ro8hNPDWS86D"
   },
   "source": [
    "#**LinearRegression**"
   ]
  },
  {
   "cell_type": "code",
   "execution_count": 39,
   "id": "a9bbe46b",
   "metadata": {
    "id": "a9bbe46b"
   },
   "outputs": [],
   "source": [
    "from sklearn.linear_model import LinearRegression\n",
    "from sklearn import metrics"
   ]
  },
  {
   "cell_type": "code",
   "execution_count": 46,
   "id": "9c127a39",
   "metadata": {
    "id": "9c127a39"
   },
   "outputs": [],
   "source": [
    "lin_reg_model = LinearRegression()"
   ]
  },
  {
   "cell_type": "code",
   "execution_count": 111,
   "id": "14498e33",
   "metadata": {
    "colab": {
     "base_uri": "https://localhost:8080/",
     "height": 74
    },
    "id": "14498e33",
    "outputId": "c38d4ed9-6515-4713-ddfa-0a51b800668b"
   },
   "outputs": [
    {
     "data": {
      "text/html": [
       "<style>#sk-container-id-6 {color: black;background-color: white;}#sk-container-id-6 pre{padding: 0;}#sk-container-id-6 div.sk-toggleable {background-color: white;}#sk-container-id-6 label.sk-toggleable__label {cursor: pointer;display: block;width: 100%;margin-bottom: 0;padding: 0.3em;box-sizing: border-box;text-align: center;}#sk-container-id-6 label.sk-toggleable__label-arrow:before {content: \"▸\";float: left;margin-right: 0.25em;color: #696969;}#sk-container-id-6 label.sk-toggleable__label-arrow:hover:before {color: black;}#sk-container-id-6 div.sk-estimator:hover label.sk-toggleable__label-arrow:before {color: black;}#sk-container-id-6 div.sk-toggleable__content {max-height: 0;max-width: 0;overflow: hidden;text-align: left;background-color: #f0f8ff;}#sk-container-id-6 div.sk-toggleable__content pre {margin: 0.2em;color: black;border-radius: 0.25em;background-color: #f0f8ff;}#sk-container-id-6 input.sk-toggleable__control:checked~div.sk-toggleable__content {max-height: 200px;max-width: 100%;overflow: auto;}#sk-container-id-6 input.sk-toggleable__control:checked~label.sk-toggleable__label-arrow:before {content: \"▾\";}#sk-container-id-6 div.sk-estimator input.sk-toggleable__control:checked~label.sk-toggleable__label {background-color: #d4ebff;}#sk-container-id-6 div.sk-label input.sk-toggleable__control:checked~label.sk-toggleable__label {background-color: #d4ebff;}#sk-container-id-6 input.sk-hidden--visually {border: 0;clip: rect(1px 1px 1px 1px);clip: rect(1px, 1px, 1px, 1px);height: 1px;margin: -1px;overflow: hidden;padding: 0;position: absolute;width: 1px;}#sk-container-id-6 div.sk-estimator {font-family: monospace;background-color: #f0f8ff;border: 1px dotted black;border-radius: 0.25em;box-sizing: border-box;margin-bottom: 0.5em;}#sk-container-id-6 div.sk-estimator:hover {background-color: #d4ebff;}#sk-container-id-6 div.sk-parallel-item::after {content: \"\";width: 100%;border-bottom: 1px solid gray;flex-grow: 1;}#sk-container-id-6 div.sk-label:hover label.sk-toggleable__label {background-color: #d4ebff;}#sk-container-id-6 div.sk-serial::before {content: \"\";position: absolute;border-left: 1px solid gray;box-sizing: border-box;top: 0;bottom: 0;left: 50%;z-index: 0;}#sk-container-id-6 div.sk-serial {display: flex;flex-direction: column;align-items: center;background-color: white;padding-right: 0.2em;padding-left: 0.2em;position: relative;}#sk-container-id-6 div.sk-item {position: relative;z-index: 1;}#sk-container-id-6 div.sk-parallel {display: flex;align-items: stretch;justify-content: center;background-color: white;position: relative;}#sk-container-id-6 div.sk-item::before, #sk-container-id-6 div.sk-parallel-item::before {content: \"\";position: absolute;border-left: 1px solid gray;box-sizing: border-box;top: 0;bottom: 0;left: 50%;z-index: -1;}#sk-container-id-6 div.sk-parallel-item {display: flex;flex-direction: column;z-index: 1;position: relative;background-color: white;}#sk-container-id-6 div.sk-parallel-item:first-child::after {align-self: flex-end;width: 50%;}#sk-container-id-6 div.sk-parallel-item:last-child::after {align-self: flex-start;width: 50%;}#sk-container-id-6 div.sk-parallel-item:only-child::after {width: 0;}#sk-container-id-6 div.sk-dashed-wrapped {border: 1px dashed gray;margin: 0 0.4em 0.5em 0.4em;box-sizing: border-box;padding-bottom: 0.4em;background-color: white;}#sk-container-id-6 div.sk-label label {font-family: monospace;font-weight: bold;display: inline-block;line-height: 1.2em;}#sk-container-id-6 div.sk-label-container {text-align: center;}#sk-container-id-6 div.sk-container {/* jupyter's `normalize.less` sets `[hidden] { display: none; }` but bootstrap.min.css set `[hidden] { display: none !important; }` so we also need the `!important` here to be able to override the default hidden behavior on the sphinx rendered scikit-learn.org. See: https://github.com/scikit-learn/scikit-learn/issues/21755 */display: inline-block !important;position: relative;}#sk-container-id-6 div.sk-text-repr-fallback {display: none;}</style><div id=\"sk-container-id-6\" class=\"sk-top-container\"><div class=\"sk-text-repr-fallback\"><pre>LinearRegression()</pre><b>In a Jupyter environment, please rerun this cell to show the HTML representation or trust the notebook. <br />On GitHub, the HTML representation is unable to render, please try loading this page with nbviewer.org.</b></div><div class=\"sk-container\" hidden><div class=\"sk-item\"><div class=\"sk-estimator sk-toggleable\"><input class=\"sk-toggleable__control sk-hidden--visually\" id=\"sk-estimator-id-6\" type=\"checkbox\" checked><label for=\"sk-estimator-id-6\" class=\"sk-toggleable__label sk-toggleable__label-arrow\">LinearRegression</label><div class=\"sk-toggleable__content\"><pre>LinearRegression()</pre></div></div></div></div></div>"
      ],
      "text/plain": [
       "LinearRegression()"
      ]
     },
     "execution_count": 111,
     "metadata": {},
     "output_type": "execute_result"
    }
   ],
   "source": [
    "lin_reg_model.fit(x,y)"
   ]
  },
  {
   "cell_type": "code",
   "execution_count": 112,
   "id": "BxrBHbOFUAO3",
   "metadata": {
    "colab": {
     "base_uri": "https://localhost:8080/"
    },
    "id": "BxrBHbOFUAO3",
    "outputId": "f022bb73-2906-4873-f7e5-a7e696cf0f5a"
   },
   "outputs": [
    {
     "data": {
      "text/plain": [
       "0.3546949860534261"
      ]
     },
     "execution_count": 112,
     "metadata": {},
     "output_type": "execute_result"
    }
   ],
   "source": [
    "lin_reg_model.score(x,y)"
   ]
  },
  {
   "cell_type": "code",
   "execution_count": 50,
   "id": "117deee3",
   "metadata": {
    "id": "117deee3"
   },
   "outputs": [],
   "source": [
    "test = pd.read_csv(r\"/content/DailyDelhiClimateTest.csv\")"
   ]
  },
  {
   "cell_type": "code",
   "execution_count": 51,
   "id": "d2df7345",
   "metadata": {
    "id": "d2df7345"
   },
   "outputs": [],
   "source": [
    "test['date'] = pd.to_datetime(test['date'])"
   ]
  },
  {
   "cell_type": "code",
   "execution_count": 52,
   "id": "d5507231",
   "metadata": {
    "id": "d5507231"
   },
   "outputs": [],
   "source": [
    "test['year'] = test['date'].dt.year\n",
    "test['month'] = test['date'].dt.month\n",
    "test['day'] = test['date'].dt.day"
   ]
  },
  {
   "cell_type": "code",
   "execution_count": 53,
   "id": "a08b3e46",
   "metadata": {
    "colab": {
     "base_uri": "https://localhost:8080/",
     "height": 423
    },
    "id": "a08b3e46",
    "outputId": "2721fc48-2bee-4ccf-d88b-a55624830eb9"
   },
   "outputs": [
    {
     "data": {
      "text/html": [
       "\n",
       "  <div id=\"df-bbce6b06-55fe-49bb-9188-3b72899fecd8\" class=\"colab-df-container\">\n",
       "    <div>\n",
       "<style scoped>\n",
       "    .dataframe tbody tr th:only-of-type {\n",
       "        vertical-align: middle;\n",
       "    }\n",
       "\n",
       "    .dataframe tbody tr th {\n",
       "        vertical-align: top;\n",
       "    }\n",
       "\n",
       "    .dataframe thead th {\n",
       "        text-align: right;\n",
       "    }\n",
       "</style>\n",
       "<table border=\"1\" class=\"dataframe\">\n",
       "  <thead>\n",
       "    <tr style=\"text-align: right;\">\n",
       "      <th></th>\n",
       "      <th>date</th>\n",
       "      <th>meantemp</th>\n",
       "      <th>humidity</th>\n",
       "      <th>wind_speed</th>\n",
       "      <th>meanpressure</th>\n",
       "      <th>year</th>\n",
       "      <th>month</th>\n",
       "      <th>day</th>\n",
       "    </tr>\n",
       "  </thead>\n",
       "  <tbody>\n",
       "    <tr>\n",
       "      <th>0</th>\n",
       "      <td>2017-01-01</td>\n",
       "      <td>15.913043</td>\n",
       "      <td>85.869565</td>\n",
       "      <td>2.743478</td>\n",
       "      <td>59.000000</td>\n",
       "      <td>2017</td>\n",
       "      <td>1</td>\n",
       "      <td>1</td>\n",
       "    </tr>\n",
       "    <tr>\n",
       "      <th>1</th>\n",
       "      <td>2017-01-02</td>\n",
       "      <td>18.500000</td>\n",
       "      <td>77.222222</td>\n",
       "      <td>2.894444</td>\n",
       "      <td>1018.277778</td>\n",
       "      <td>2017</td>\n",
       "      <td>1</td>\n",
       "      <td>2</td>\n",
       "    </tr>\n",
       "    <tr>\n",
       "      <th>2</th>\n",
       "      <td>2017-01-03</td>\n",
       "      <td>17.111111</td>\n",
       "      <td>81.888889</td>\n",
       "      <td>4.016667</td>\n",
       "      <td>1018.333333</td>\n",
       "      <td>2017</td>\n",
       "      <td>1</td>\n",
       "      <td>3</td>\n",
       "    </tr>\n",
       "    <tr>\n",
       "      <th>3</th>\n",
       "      <td>2017-01-04</td>\n",
       "      <td>18.700000</td>\n",
       "      <td>70.050000</td>\n",
       "      <td>4.545000</td>\n",
       "      <td>1015.700000</td>\n",
       "      <td>2017</td>\n",
       "      <td>1</td>\n",
       "      <td>4</td>\n",
       "    </tr>\n",
       "    <tr>\n",
       "      <th>4</th>\n",
       "      <td>2017-01-05</td>\n",
       "      <td>18.388889</td>\n",
       "      <td>74.944444</td>\n",
       "      <td>3.300000</td>\n",
       "      <td>1014.333333</td>\n",
       "      <td>2017</td>\n",
       "      <td>1</td>\n",
       "      <td>5</td>\n",
       "    </tr>\n",
       "    <tr>\n",
       "      <th>...</th>\n",
       "      <td>...</td>\n",
       "      <td>...</td>\n",
       "      <td>...</td>\n",
       "      <td>...</td>\n",
       "      <td>...</td>\n",
       "      <td>...</td>\n",
       "      <td>...</td>\n",
       "      <td>...</td>\n",
       "    </tr>\n",
       "    <tr>\n",
       "      <th>109</th>\n",
       "      <td>2017-04-20</td>\n",
       "      <td>34.500000</td>\n",
       "      <td>27.500000</td>\n",
       "      <td>5.562500</td>\n",
       "      <td>998.625000</td>\n",
       "      <td>2017</td>\n",
       "      <td>4</td>\n",
       "      <td>20</td>\n",
       "    </tr>\n",
       "    <tr>\n",
       "      <th>110</th>\n",
       "      <td>2017-04-21</td>\n",
       "      <td>34.250000</td>\n",
       "      <td>39.375000</td>\n",
       "      <td>6.962500</td>\n",
       "      <td>999.875000</td>\n",
       "      <td>2017</td>\n",
       "      <td>4</td>\n",
       "      <td>21</td>\n",
       "    </tr>\n",
       "    <tr>\n",
       "      <th>111</th>\n",
       "      <td>2017-04-22</td>\n",
       "      <td>32.900000</td>\n",
       "      <td>40.900000</td>\n",
       "      <td>8.890000</td>\n",
       "      <td>1001.600000</td>\n",
       "      <td>2017</td>\n",
       "      <td>4</td>\n",
       "      <td>22</td>\n",
       "    </tr>\n",
       "    <tr>\n",
       "      <th>112</th>\n",
       "      <td>2017-04-23</td>\n",
       "      <td>32.875000</td>\n",
       "      <td>27.500000</td>\n",
       "      <td>9.962500</td>\n",
       "      <td>1002.125000</td>\n",
       "      <td>2017</td>\n",
       "      <td>4</td>\n",
       "      <td>23</td>\n",
       "    </tr>\n",
       "    <tr>\n",
       "      <th>113</th>\n",
       "      <td>2017-04-24</td>\n",
       "      <td>32.000000</td>\n",
       "      <td>27.142857</td>\n",
       "      <td>12.157143</td>\n",
       "      <td>1004.142857</td>\n",
       "      <td>2017</td>\n",
       "      <td>4</td>\n",
       "      <td>24</td>\n",
       "    </tr>\n",
       "  </tbody>\n",
       "</table>\n",
       "<p>114 rows × 8 columns</p>\n",
       "</div>\n",
       "    <div class=\"colab-df-buttons\">\n",
       "\n",
       "  <div class=\"colab-df-container\">\n",
       "    <button class=\"colab-df-convert\" onclick=\"convertToInteractive('df-bbce6b06-55fe-49bb-9188-3b72899fecd8')\"\n",
       "            title=\"Convert this dataframe to an interactive table.\"\n",
       "            style=\"display:none;\">\n",
       "\n",
       "  <svg xmlns=\"http://www.w3.org/2000/svg\" height=\"24px\" viewBox=\"0 -960 960 960\">\n",
       "    <path d=\"M120-120v-720h720v720H120Zm60-500h600v-160H180v160Zm220 220h160v-160H400v160Zm0 220h160v-160H400v160ZM180-400h160v-160H180v160Zm440 0h160v-160H620v160ZM180-180h160v-160H180v160Zm440 0h160v-160H620v160Z\"/>\n",
       "  </svg>\n",
       "    </button>\n",
       "\n",
       "  <style>\n",
       "    .colab-df-container {\n",
       "      display:flex;\n",
       "      gap: 12px;\n",
       "    }\n",
       "\n",
       "    .colab-df-convert {\n",
       "      background-color: #E8F0FE;\n",
       "      border: none;\n",
       "      border-radius: 50%;\n",
       "      cursor: pointer;\n",
       "      display: none;\n",
       "      fill: #1967D2;\n",
       "      height: 32px;\n",
       "      padding: 0 0 0 0;\n",
       "      width: 32px;\n",
       "    }\n",
       "\n",
       "    .colab-df-convert:hover {\n",
       "      background-color: #E2EBFA;\n",
       "      box-shadow: 0px 1px 2px rgba(60, 64, 67, 0.3), 0px 1px 3px 1px rgba(60, 64, 67, 0.15);\n",
       "      fill: #174EA6;\n",
       "    }\n",
       "\n",
       "    .colab-df-buttons div {\n",
       "      margin-bottom: 4px;\n",
       "    }\n",
       "\n",
       "    [theme=dark] .colab-df-convert {\n",
       "      background-color: #3B4455;\n",
       "      fill: #D2E3FC;\n",
       "    }\n",
       "\n",
       "    [theme=dark] .colab-df-convert:hover {\n",
       "      background-color: #434B5C;\n",
       "      box-shadow: 0px 1px 3px 1px rgba(0, 0, 0, 0.15);\n",
       "      filter: drop-shadow(0px 1px 2px rgba(0, 0, 0, 0.3));\n",
       "      fill: #FFFFFF;\n",
       "    }\n",
       "  </style>\n",
       "\n",
       "    <script>\n",
       "      const buttonEl =\n",
       "        document.querySelector('#df-bbce6b06-55fe-49bb-9188-3b72899fecd8 button.colab-df-convert');\n",
       "      buttonEl.style.display =\n",
       "        google.colab.kernel.accessAllowed ? 'block' : 'none';\n",
       "\n",
       "      async function convertToInteractive(key) {\n",
       "        const element = document.querySelector('#df-bbce6b06-55fe-49bb-9188-3b72899fecd8');\n",
       "        const dataTable =\n",
       "          await google.colab.kernel.invokeFunction('convertToInteractive',\n",
       "                                                    [key], {});\n",
       "        if (!dataTable) return;\n",
       "\n",
       "        const docLinkHtml = 'Like what you see? Visit the ' +\n",
       "          '<a target=\"_blank\" href=https://colab.research.google.com/notebooks/data_table.ipynb>data table notebook</a>'\n",
       "          + ' to learn more about interactive tables.';\n",
       "        element.innerHTML = '';\n",
       "        dataTable['output_type'] = 'display_data';\n",
       "        await google.colab.output.renderOutput(dataTable, element);\n",
       "        const docLink = document.createElement('div');\n",
       "        docLink.innerHTML = docLinkHtml;\n",
       "        element.appendChild(docLink);\n",
       "      }\n",
       "    </script>\n",
       "  </div>\n",
       "\n",
       "\n",
       "<div id=\"df-280840bc-80d2-47fa-b90d-a4cf4d2210a8\">\n",
       "  <button class=\"colab-df-quickchart\" onclick=\"quickchart('df-280840bc-80d2-47fa-b90d-a4cf4d2210a8')\"\n",
       "            title=\"Suggest charts.\"\n",
       "            style=\"display:none;\">\n",
       "\n",
       "<svg xmlns=\"http://www.w3.org/2000/svg\" height=\"24px\"viewBox=\"0 0 24 24\"\n",
       "     width=\"24px\">\n",
       "    <g>\n",
       "        <path d=\"M19 3H5c-1.1 0-2 .9-2 2v14c0 1.1.9 2 2 2h14c1.1 0 2-.9 2-2V5c0-1.1-.9-2-2-2zM9 17H7v-7h2v7zm4 0h-2V7h2v10zm4 0h-2v-4h2v4z\"/>\n",
       "    </g>\n",
       "</svg>\n",
       "  </button>\n",
       "\n",
       "<style>\n",
       "  .colab-df-quickchart {\n",
       "      --bg-color: #E8F0FE;\n",
       "      --fill-color: #1967D2;\n",
       "      --hover-bg-color: #E2EBFA;\n",
       "      --hover-fill-color: #174EA6;\n",
       "      --disabled-fill-color: #AAA;\n",
       "      --disabled-bg-color: #DDD;\n",
       "  }\n",
       "\n",
       "  [theme=dark] .colab-df-quickchart {\n",
       "      --bg-color: #3B4455;\n",
       "      --fill-color: #D2E3FC;\n",
       "      --hover-bg-color: #434B5C;\n",
       "      --hover-fill-color: #FFFFFF;\n",
       "      --disabled-bg-color: #3B4455;\n",
       "      --disabled-fill-color: #666;\n",
       "  }\n",
       "\n",
       "  .colab-df-quickchart {\n",
       "    background-color: var(--bg-color);\n",
       "    border: none;\n",
       "    border-radius: 50%;\n",
       "    cursor: pointer;\n",
       "    display: none;\n",
       "    fill: var(--fill-color);\n",
       "    height: 32px;\n",
       "    padding: 0;\n",
       "    width: 32px;\n",
       "  }\n",
       "\n",
       "  .colab-df-quickchart:hover {\n",
       "    background-color: var(--hover-bg-color);\n",
       "    box-shadow: 0 1px 2px rgba(60, 64, 67, 0.3), 0 1px 3px 1px rgba(60, 64, 67, 0.15);\n",
       "    fill: var(--button-hover-fill-color);\n",
       "  }\n",
       "\n",
       "  .colab-df-quickchart-complete:disabled,\n",
       "  .colab-df-quickchart-complete:disabled:hover {\n",
       "    background-color: var(--disabled-bg-color);\n",
       "    fill: var(--disabled-fill-color);\n",
       "    box-shadow: none;\n",
       "  }\n",
       "\n",
       "  .colab-df-spinner {\n",
       "    border: 2px solid var(--fill-color);\n",
       "    border-color: transparent;\n",
       "    border-bottom-color: var(--fill-color);\n",
       "    animation:\n",
       "      spin 1s steps(1) infinite;\n",
       "  }\n",
       "\n",
       "  @keyframes spin {\n",
       "    0% {\n",
       "      border-color: transparent;\n",
       "      border-bottom-color: var(--fill-color);\n",
       "      border-left-color: var(--fill-color);\n",
       "    }\n",
       "    20% {\n",
       "      border-color: transparent;\n",
       "      border-left-color: var(--fill-color);\n",
       "      border-top-color: var(--fill-color);\n",
       "    }\n",
       "    30% {\n",
       "      border-color: transparent;\n",
       "      border-left-color: var(--fill-color);\n",
       "      border-top-color: var(--fill-color);\n",
       "      border-right-color: var(--fill-color);\n",
       "    }\n",
       "    40% {\n",
       "      border-color: transparent;\n",
       "      border-right-color: var(--fill-color);\n",
       "      border-top-color: var(--fill-color);\n",
       "    }\n",
       "    60% {\n",
       "      border-color: transparent;\n",
       "      border-right-color: var(--fill-color);\n",
       "    }\n",
       "    80% {\n",
       "      border-color: transparent;\n",
       "      border-right-color: var(--fill-color);\n",
       "      border-bottom-color: var(--fill-color);\n",
       "    }\n",
       "    90% {\n",
       "      border-color: transparent;\n",
       "      border-bottom-color: var(--fill-color);\n",
       "    }\n",
       "  }\n",
       "</style>\n",
       "\n",
       "  <script>\n",
       "    async function quickchart(key) {\n",
       "      const quickchartButtonEl =\n",
       "        document.querySelector('#' + key + ' button');\n",
       "      quickchartButtonEl.disabled = true;  // To prevent multiple clicks.\n",
       "      quickchartButtonEl.classList.add('colab-df-spinner');\n",
       "      try {\n",
       "        const charts = await google.colab.kernel.invokeFunction(\n",
       "            'suggestCharts', [key], {});\n",
       "      } catch (error) {\n",
       "        console.error('Error during call to suggestCharts:', error);\n",
       "      }\n",
       "      quickchartButtonEl.classList.remove('colab-df-spinner');\n",
       "      quickchartButtonEl.classList.add('colab-df-quickchart-complete');\n",
       "    }\n",
       "    (() => {\n",
       "      let quickchartButtonEl =\n",
       "        document.querySelector('#df-280840bc-80d2-47fa-b90d-a4cf4d2210a8 button');\n",
       "      quickchartButtonEl.style.display =\n",
       "        google.colab.kernel.accessAllowed ? 'block' : 'none';\n",
       "    })();\n",
       "  </script>\n",
       "</div>\n",
       "    </div>\n",
       "  </div>\n"
      ],
      "text/plain": [
       "          date   meantemp   humidity  wind_speed  meanpressure  year  month  \\\n",
       "0   2017-01-01  15.913043  85.869565    2.743478     59.000000  2017      1   \n",
       "1   2017-01-02  18.500000  77.222222    2.894444   1018.277778  2017      1   \n",
       "2   2017-01-03  17.111111  81.888889    4.016667   1018.333333  2017      1   \n",
       "3   2017-01-04  18.700000  70.050000    4.545000   1015.700000  2017      1   \n",
       "4   2017-01-05  18.388889  74.944444    3.300000   1014.333333  2017      1   \n",
       "..         ...        ...        ...         ...           ...   ...    ...   \n",
       "109 2017-04-20  34.500000  27.500000    5.562500    998.625000  2017      4   \n",
       "110 2017-04-21  34.250000  39.375000    6.962500    999.875000  2017      4   \n",
       "111 2017-04-22  32.900000  40.900000    8.890000   1001.600000  2017      4   \n",
       "112 2017-04-23  32.875000  27.500000    9.962500   1002.125000  2017      4   \n",
       "113 2017-04-24  32.000000  27.142857   12.157143   1004.142857  2017      4   \n",
       "\n",
       "     day  \n",
       "0      1  \n",
       "1      2  \n",
       "2      3  \n",
       "3      4  \n",
       "4      5  \n",
       "..   ...  \n",
       "109   20  \n",
       "110   21  \n",
       "111   22  \n",
       "112   23  \n",
       "113   24  \n",
       "\n",
       "[114 rows x 8 columns]"
      ]
     },
     "execution_count": 53,
     "metadata": {},
     "output_type": "execute_result"
    }
   ],
   "source": [
    "test"
   ]
  },
  {
   "cell_type": "code",
   "execution_count": 54,
   "id": "b70002ff",
   "metadata": {
    "id": "b70002ff"
   },
   "outputs": [],
   "source": [
    "x_test = test.drop(['meantemp' , \"date\" ,\"wind_speed\" , \"meanpressure\" , \"year\"] , axis=1)"
   ]
  },
  {
   "cell_type": "code",
   "execution_count": 55,
   "id": "fe3f7ef5",
   "metadata": {
    "id": "fe3f7ef5"
   },
   "outputs": [],
   "source": [
    "y_test = test.meantemp"
   ]
  },
  {
   "cell_type": "code",
   "execution_count": 56,
   "id": "48fa49c9",
   "metadata": {
    "id": "48fa49c9"
   },
   "outputs": [],
   "source": [
    "training_data_prediction = lin_reg_model.predict(x_test)"
   ]
  },
  {
   "cell_type": "code",
   "execution_count": 57,
   "id": "f5d6c3fe",
   "metadata": {
    "colab": {
     "base_uri": "https://localhost:8080/"
    },
    "id": "f5d6c3fe",
    "outputId": "cb296e55-15ce-4064-93ba-6f757e8333ea"
   },
   "outputs": [
    {
     "data": {
      "text/plain": [
       "array([17.0724272 , 19.28959546, 18.0973183 , 21.13177615, 19.88116976,\n",
       "       18.7639058 , 14.53747414, 17.69181015, 18.39028566, 20.66321174])"
      ]
     },
     "execution_count": 57,
     "metadata": {},
     "output_type": "execute_result"
    }
   ],
   "source": [
    "training_data_prediction[:10]"
   ]
  },
  {
   "cell_type": "code",
   "execution_count": 58,
   "id": "a2af6edc",
   "metadata": {
    "colab": {
     "base_uri": "https://localhost:8080/"
    },
    "id": "a2af6edc",
    "outputId": "1e363bed-644b-4e7a-ae33-43f4cb74cbe1"
   },
   "outputs": [
    {
     "data": {
      "text/plain": [
       "0    15.913043\n",
       "1    18.500000\n",
       "2    17.111111\n",
       "3    18.700000\n",
       "4    18.388889\n",
       "5    19.318182\n",
       "6    14.708333\n",
       "7    15.684211\n",
       "8    14.571429\n",
       "9    12.111111\n",
       "Name: meantemp, dtype: float64"
      ]
     },
     "execution_count": 58,
     "metadata": {},
     "output_type": "execute_result"
    }
   ],
   "source": [
    "y_test[:10]"
   ]
  },
  {
   "cell_type": "code",
   "execution_count": 59,
   "id": "ade84558",
   "metadata": {
    "id": "ade84558"
   },
   "outputs": [],
   "source": [
    "train_error_score = metrics.r2_score(y_test ,training_data_prediction)"
   ]
  },
  {
   "cell_type": "code",
   "execution_count": 60,
   "id": "acc85c2d",
   "metadata": {
    "colab": {
     "base_uri": "https://localhost:8080/"
    },
    "id": "acc85c2d",
    "outputId": "22f7810f-d929-4dcb-bc23-a239c3dc42fd"
   },
   "outputs": [
    {
     "data": {
      "text/plain": [
       "0.44267542155927353"
      ]
     },
     "execution_count": 60,
     "metadata": {},
     "output_type": "execute_result"
    }
   ],
   "source": [
    "train_error_score"
   ]
  },
  {
   "cell_type": "code",
   "execution_count": 62,
   "id": "f1b43322",
   "metadata": {
    "colab": {
     "base_uri": "https://localhost:8080/"
    },
    "id": "f1b43322",
    "outputId": "ce995071-b5e6-4d27-9357-35f65de491be"
   },
   "outputs": [
    {
     "data": {
      "text/plain": [
       "22.346310657428816"
      ]
     },
     "execution_count": 62,
     "metadata": {},
     "output_type": "execute_result"
    }
   ],
   "source": [
    "from sklearn.metrics import mean_squared_error\n",
    "errors = mean_squared_error(y_test, training_data_prediction)\n",
    "errors"
   ]
  },
  {
   "cell_type": "code",
   "execution_count": 146,
   "id": "t_GmwUjEqmW7",
   "metadata": {
    "colab": {
     "base_uri": "https://localhost:8080/"
    },
    "id": "t_GmwUjEqmW7",
    "outputId": "d5cdc7b6-fc82-4c87-de60-c57d0d13c29e"
   },
   "outputs": [
    {
     "data": {
      "text/plain": [
       "3.7654086262698487"
      ]
     },
     "execution_count": 146,
     "metadata": {},
     "output_type": "execute_result"
    }
   ],
   "source": [
    "lin_mae = mean_absolute_error(y_test, training_data_prediction)\n",
    "lin_mae"
   ]
  },
  {
   "cell_type": "markdown",
   "id": "sPd6uAzgVXcF",
   "metadata": {
    "id": "sPd6uAzgVXcF"
   },
   "source": [
    "#**DecisionTreeRegressor & RandomForestRegressor**"
   ]
  },
  {
   "cell_type": "code",
   "execution_count": 113,
   "id": "BBLYBPHkVudT",
   "metadata": {
    "colab": {
     "base_uri": "https://localhost:8080/"
    },
    "id": "BBLYBPHkVudT",
    "outputId": "815c3881-f354-431a-ce08-5f2e402cba4a"
   },
   "outputs": [
    {
     "name": "stdout",
     "output_type": "stream",
     "text": [
      "DecisionTreeRegressor:\n",
      "Best parameters: {'max_depth': 8}\n",
      "Best score: 0.8587340487839157\n",
      "----------------------------------------------------------------------------------------------------\n",
      "RandomForestRegressor:\n",
      "Best parameters: {'n_estimators': 500}\n",
      "Best score: 0.8813780581188466\n",
      "----------------------------------------------------------------------------------------------------\n"
     ]
    }
   ],
   "source": [
    "from sklearn.model_selection import GridSearchCV\n",
    "from sklearn.metrics import r2_score\n",
    "\n",
    "models = [\n",
    "    DecisionTreeRegressor(random_state= 42),\n",
    "    RandomForestRegressor(random_state= 42)\n",
    "]\n",
    "\n",
    "param_grid = [\n",
    "    {'max_depth': [2, 4, 6, 8]},\n",
    "    {'n_estimators': [300,500,700]}\n",
    "]\n",
    "\n",
    "for i, model in enumerate(models):\n",
    "    grid_search = GridSearchCV(model, param_grid[i], cv=5, scoring='r2')\n",
    "    grid_search.fit(x, y)\n",
    "\n",
    "    print(f\"{model.__class__.__name__}:\")\n",
    "    print(\"Best parameters:\", grid_search.best_params_)\n",
    "    print(\"Best score:\", grid_search.best_score_)\n",
    "    print(\"-\"*100)"
   ]
  },
  {
   "cell_type": "code",
   "execution_count": 114,
   "id": "87f4e117",
   "metadata": {
    "id": "87f4e117"
   },
   "outputs": [],
   "source": [
    "R_model = RandomForestRegressor(random_state= 42,n_estimators=500 )\n",
    "R_model.fit(x,y)\n",
    "Prediction = R_model.predict(x_test)"
   ]
  },
  {
   "cell_type": "code",
   "execution_count": 115,
   "id": "b90508b3",
   "metadata": {
    "colab": {
     "base_uri": "https://localhost:8080/"
    },
    "id": "b90508b3",
    "outputId": "85dfb651-5be1-4340-f36a-c7c8ac98f0b5"
   },
   "outputs": [
    {
     "data": {
      "text/plain": [
       "array([ 9.71360774, 13.2086119 , 13.01844762, 12.18354762, 13.5476881 ,\n",
       "       11.59258333, 13.58896667, 13.23791667, 12.12474167, 13.06941071])"
      ]
     },
     "execution_count": 115,
     "metadata": {},
     "output_type": "execute_result"
    }
   ],
   "source": [
    "Prediction[:10]"
   ]
  },
  {
   "cell_type": "code",
   "execution_count": 116,
   "id": "e8c546b3",
   "metadata": {
    "colab": {
     "base_uri": "https://localhost:8080/"
    },
    "id": "e8c546b3",
    "outputId": "e4f6c93d-7a70-4ede-bad8-59f3453f5e95"
   },
   "outputs": [
    {
     "data": {
      "text/plain": [
       "0    15.913043\n",
       "1    18.500000\n",
       "2    17.111111\n",
       "3    18.700000\n",
       "4    18.388889\n",
       "5    19.318182\n",
       "6    14.708333\n",
       "7    15.684211\n",
       "8    14.571429\n",
       "9    12.111111\n",
       "Name: meantemp, dtype: float64"
      ]
     },
     "execution_count": 116,
     "metadata": {},
     "output_type": "execute_result"
    }
   ],
   "source": [
    "y_test[:10]"
   ]
  },
  {
   "cell_type": "code",
   "execution_count": 117,
   "id": "b8e02d10",
   "metadata": {
    "colab": {
     "base_uri": "https://localhost:8080/"
    },
    "id": "b8e02d10",
    "outputId": "93b33ac4-8603-46be-e40f-86c42aa0bcf3"
   },
   "outputs": [
    {
     "data": {
      "text/plain": [
       "0.7837693922668708"
      ]
     },
     "execution_count": 117,
     "metadata": {},
     "output_type": "execute_result"
    }
   ],
   "source": [
    "train_error_score2 = metrics.r2_score(y_test ,Prediction)\n",
    "train_error_score2"
   ]
  },
  {
   "cell_type": "code",
   "execution_count": 118,
   "id": "c141d23a",
   "metadata": {
    "colab": {
     "base_uri": "https://localhost:8080/"
    },
    "id": "c141d23a",
    "outputId": "3df35ed3-ce02-48f8-dea6-64e92543571f"
   },
   "outputs": [
    {
     "data": {
      "text/plain": [
       "8.66991430302231"
      ]
     },
     "execution_count": 118,
     "metadata": {},
     "output_type": "execute_result"
    }
   ],
   "source": [
    "errors = mean_squared_error(y_test, Prediction)\n",
    "errors"
   ]
  },
  {
   "cell_type": "code",
   "execution_count": 119,
   "id": "b17b0c15",
   "metadata": {
    "colab": {
     "base_uri": "https://localhost:8080/"
    },
    "id": "b17b0c15",
    "outputId": "00c6701e-128f-4629-b39a-932d5a3ecb6e"
   },
   "outputs": [
    {
     "data": {
      "text/plain": [
       "2.374291004643455"
      ]
     },
     "execution_count": 119,
     "metadata": {},
     "output_type": "execute_result"
    }
   ],
   "source": [
    "lin_mae = mean_absolute_error(y_test, Prediction)\n",
    "lin_mae"
   ]
  },
  {
   "cell_type": "markdown",
   "id": "lI_dyu5Nas50",
   "metadata": {
    "id": "lI_dyu5Nas50"
   },
   "source": [
    "#**Boosting**"
   ]
  },
  {
   "cell_type": "code",
   "execution_count": 74,
   "id": "txPz1gDyZnTI",
   "metadata": {
    "colab": {
     "base_uri": "https://localhost:8080/",
     "height": 92
    },
    "id": "txPz1gDyZnTI",
    "outputId": "2f42d9d6-1692-49c3-8da4-3b8086dac96b"
   },
   "outputs": [
    {
     "data": {
      "text/html": [
       "<style>#sk-container-id-3 {color: black;background-color: white;}#sk-container-id-3 pre{padding: 0;}#sk-container-id-3 div.sk-toggleable {background-color: white;}#sk-container-id-3 label.sk-toggleable__label {cursor: pointer;display: block;width: 100%;margin-bottom: 0;padding: 0.3em;box-sizing: border-box;text-align: center;}#sk-container-id-3 label.sk-toggleable__label-arrow:before {content: \"▸\";float: left;margin-right: 0.25em;color: #696969;}#sk-container-id-3 label.sk-toggleable__label-arrow:hover:before {color: black;}#sk-container-id-3 div.sk-estimator:hover label.sk-toggleable__label-arrow:before {color: black;}#sk-container-id-3 div.sk-toggleable__content {max-height: 0;max-width: 0;overflow: hidden;text-align: left;background-color: #f0f8ff;}#sk-container-id-3 div.sk-toggleable__content pre {margin: 0.2em;color: black;border-radius: 0.25em;background-color: #f0f8ff;}#sk-container-id-3 input.sk-toggleable__control:checked~div.sk-toggleable__content {max-height: 200px;max-width: 100%;overflow: auto;}#sk-container-id-3 input.sk-toggleable__control:checked~label.sk-toggleable__label-arrow:before {content: \"▾\";}#sk-container-id-3 div.sk-estimator input.sk-toggleable__control:checked~label.sk-toggleable__label {background-color: #d4ebff;}#sk-container-id-3 div.sk-label input.sk-toggleable__control:checked~label.sk-toggleable__label {background-color: #d4ebff;}#sk-container-id-3 input.sk-hidden--visually {border: 0;clip: rect(1px 1px 1px 1px);clip: rect(1px, 1px, 1px, 1px);height: 1px;margin: -1px;overflow: hidden;padding: 0;position: absolute;width: 1px;}#sk-container-id-3 div.sk-estimator {font-family: monospace;background-color: #f0f8ff;border: 1px dotted black;border-radius: 0.25em;box-sizing: border-box;margin-bottom: 0.5em;}#sk-container-id-3 div.sk-estimator:hover {background-color: #d4ebff;}#sk-container-id-3 div.sk-parallel-item::after {content: \"\";width: 100%;border-bottom: 1px solid gray;flex-grow: 1;}#sk-container-id-3 div.sk-label:hover label.sk-toggleable__label {background-color: #d4ebff;}#sk-container-id-3 div.sk-serial::before {content: \"\";position: absolute;border-left: 1px solid gray;box-sizing: border-box;top: 0;bottom: 0;left: 50%;z-index: 0;}#sk-container-id-3 div.sk-serial {display: flex;flex-direction: column;align-items: center;background-color: white;padding-right: 0.2em;padding-left: 0.2em;position: relative;}#sk-container-id-3 div.sk-item {position: relative;z-index: 1;}#sk-container-id-3 div.sk-parallel {display: flex;align-items: stretch;justify-content: center;background-color: white;position: relative;}#sk-container-id-3 div.sk-item::before, #sk-container-id-3 div.sk-parallel-item::before {content: \"\";position: absolute;border-left: 1px solid gray;box-sizing: border-box;top: 0;bottom: 0;left: 50%;z-index: -1;}#sk-container-id-3 div.sk-parallel-item {display: flex;flex-direction: column;z-index: 1;position: relative;background-color: white;}#sk-container-id-3 div.sk-parallel-item:first-child::after {align-self: flex-end;width: 50%;}#sk-container-id-3 div.sk-parallel-item:last-child::after {align-self: flex-start;width: 50%;}#sk-container-id-3 div.sk-parallel-item:only-child::after {width: 0;}#sk-container-id-3 div.sk-dashed-wrapped {border: 1px dashed gray;margin: 0 0.4em 0.5em 0.4em;box-sizing: border-box;padding-bottom: 0.4em;background-color: white;}#sk-container-id-3 div.sk-label label {font-family: monospace;font-weight: bold;display: inline-block;line-height: 1.2em;}#sk-container-id-3 div.sk-label-container {text-align: center;}#sk-container-id-3 div.sk-container {/* jupyter's `normalize.less` sets `[hidden] { display: none; }` but bootstrap.min.css set `[hidden] { display: none !important; }` so we also need the `!important` here to be able to override the default hidden behavior on the sphinx rendered scikit-learn.org. See: https://github.com/scikit-learn/scikit-learn/issues/21755 */display: inline-block !important;position: relative;}#sk-container-id-3 div.sk-text-repr-fallback {display: none;}</style><div id=\"sk-container-id-3\" class=\"sk-top-container\"><div class=\"sk-text-repr-fallback\"><pre>GradientBoostingRegressor(learning_rate=1.0, max_depth=8, n_estimators=500,\n",
       "                          random_state=42)</pre><b>In a Jupyter environment, please rerun this cell to show the HTML representation or trust the notebook. <br />On GitHub, the HTML representation is unable to render, please try loading this page with nbviewer.org.</b></div><div class=\"sk-container\" hidden><div class=\"sk-item\"><div class=\"sk-estimator sk-toggleable\"><input class=\"sk-toggleable__control sk-hidden--visually\" id=\"sk-estimator-id-3\" type=\"checkbox\" checked><label for=\"sk-estimator-id-3\" class=\"sk-toggleable__label sk-toggleable__label-arrow\">GradientBoostingRegressor</label><div class=\"sk-toggleable__content\"><pre>GradientBoostingRegressor(learning_rate=1.0, max_depth=8, n_estimators=500,\n",
       "                          random_state=42)</pre></div></div></div></div></div>"
      ],
      "text/plain": [
       "GradientBoostingRegressor(learning_rate=1.0, max_depth=8, n_estimators=500,\n",
       "                          random_state=42)"
      ]
     },
     "execution_count": 74,
     "metadata": {},
     "output_type": "execute_result"
    }
   ],
   "source": [
    "from sklearn.ensemble import GradientBoostingRegressor\n",
    "#big model and has differents models inside\n",
    "gbrt = GradientBoostingRegressor(max_depth=8, n_estimators=500,\n",
    "                                 learning_rate=1.0, random_state=42)\n",
    "gbrt.fit(x, y)"
   ]
  },
  {
   "cell_type": "code",
   "execution_count": 79,
   "id": "MblnrELZa0TU",
   "metadata": {
    "colab": {
     "base_uri": "https://localhost:8080/"
    },
    "id": "MblnrELZa0TU",
    "outputId": "f727e0be-0c82-4ac6-c361-8ad988de2bfd"
   },
   "outputs": [
    {
     "data": {
      "text/plain": [
       "array([ 9.72364061, 13.92489368, 16.13950692, 12.90527565, 14.7676669 ,\n",
       "       13.63317057, 15.16658927, 16.78455728, 10.62729203, 12.89582765])"
      ]
     },
     "execution_count": 79,
     "metadata": {},
     "output_type": "execute_result"
    }
   ],
   "source": [
    "pre = gbrt.predict(x_test)\n",
    "pre[:10]"
   ]
  },
  {
   "cell_type": "code",
   "execution_count": 80,
   "id": "5QKHCPgKa9uE",
   "metadata": {
    "colab": {
     "base_uri": "https://localhost:8080/"
    },
    "id": "5QKHCPgKa9uE",
    "outputId": "25bef635-faf2-4ff9-b12a-838b581138dd"
   },
   "outputs": [
    {
     "data": {
      "text/plain": [
       "0    15.913043\n",
       "1    18.500000\n",
       "2    17.111111\n",
       "3    18.700000\n",
       "4    18.388889\n",
       "5    19.318182\n",
       "6    14.708333\n",
       "7    15.684211\n",
       "8    14.571429\n",
       "9    12.111111\n",
       "Name: meantemp, dtype: float64"
      ]
     },
     "execution_count": 80,
     "metadata": {},
     "output_type": "execute_result"
    }
   ],
   "source": [
    "y_test[:10]"
   ]
  },
  {
   "cell_type": "code",
   "execution_count": 81,
   "id": "dRLd8p-abQ9F",
   "metadata": {
    "colab": {
     "base_uri": "https://localhost:8080/"
    },
    "id": "dRLd8p-abQ9F",
    "outputId": "42d6df43-dae5-49bf-d1d0-77474587d84e"
   },
   "outputs": [
    {
     "data": {
      "text/plain": [
       "0.7383091044900878"
      ]
     },
     "execution_count": 81,
     "metadata": {},
     "output_type": "execute_result"
    }
   ],
   "source": [
    "train_error_score3 = metrics.r2_score(y_test ,pre)\n",
    "train_error_score3"
   ]
  },
  {
   "cell_type": "code",
   "execution_count": 82,
   "id": "IUotUGyMbi5w",
   "metadata": {
    "colab": {
     "base_uri": "https://localhost:8080/"
    },
    "id": "IUotUGyMbi5w",
    "outputId": "e03d163f-f3c1-4854-8aef-488d3d13d312"
   },
   "outputs": [
    {
     "data": {
      "text/plain": [
       "10.492675675001076"
      ]
     },
     "execution_count": 82,
     "metadata": {},
     "output_type": "execute_result"
    }
   ],
   "source": [
    "errors2 = mean_squared_error(y_test, pre)\n",
    "errors2"
   ]
  },
  {
   "cell_type": "code",
   "execution_count": 148,
   "id": "A05WLMHyqymv",
   "metadata": {
    "colab": {
     "base_uri": "https://localhost:8080/"
    },
    "id": "A05WLMHyqymv",
    "outputId": "c2e2811d-377a-4383-e8e7-c150dd60b9ec"
   },
   "outputs": [
    {
     "data": {
      "text/plain": [
       "2.534687730936641"
      ]
     },
     "execution_count": 148,
     "metadata": {},
     "output_type": "execute_result"
    }
   ],
   "source": [
    "lin_mae2 = mean_absolute_error(y_test, pre)\n",
    "lin_mae2"
   ]
  },
  {
   "cell_type": "markdown",
   "id": "e8dL1kFOkoPW",
   "metadata": {
    "id": "e8dL1kFOkoPW"
   },
   "source": [
    "#**Stacking**"
   ]
  },
  {
   "cell_type": "code",
   "execution_count": 130,
   "id": "_z9a05VPbuKx",
   "metadata": {
    "id": "_z9a05VPbuKx"
   },
   "outputs": [],
   "source": [
    "from sklearn.ensemble import StackingRegressor\n",
    "from sklearn.linear_model import LinearRegression\n",
    "from sklearn.ensemble import RandomForestRegressor\n",
    "\n",
    "base_models = [\n",
    "    ('decision_tree', DecisionTreeRegressor(random_state= 42, max_depth=8)),\n",
    "    ('linear', LinearRegression()),\n",
    "    ('random_forest', RandomForestRegressor(random_state= 42,n_estimators=500 ))\n",
    "]\n",
    "\n",
    "meta_model = RandomForestRegressor(random_state= 42,n_estimators=500 )\n",
    "\n",
    "stacking_regressor = StackingRegressor(\n",
    "    estimators=base_models,\n",
    "    final_estimator=meta_model\n",
    ")\n",
    "\n",
    "stacking_regressor.fit(x, y)\n",
    "\n",
    "predictions2 = stacking_regressor.predict(x_test)\n"
   ]
  },
  {
   "cell_type": "code",
   "execution_count": 131,
   "id": "XJgSWm9NjplR",
   "metadata": {
    "colab": {
     "base_uri": "https://localhost:8080/"
    },
    "id": "XJgSWm9NjplR",
    "outputId": "502445b1-76f4-4d0c-c993-d5733f1f909c"
   },
   "outputs": [
    {
     "data": {
      "text/plain": [
       "array([14.01209957, 13.06514386, 13.1557881 , 14.59961773, 13.12627531,\n",
       "       13.61439693, 13.28530833, 12.459425  , 13.95947738, 12.78594737])"
      ]
     },
     "execution_count": 131,
     "metadata": {},
     "output_type": "execute_result"
    }
   ],
   "source": [
    "predictions2[:10]"
   ]
  },
  {
   "cell_type": "code",
   "execution_count": 132,
   "id": "2f95kkvtjwux",
   "metadata": {
    "colab": {
     "base_uri": "https://localhost:8080/"
    },
    "id": "2f95kkvtjwux",
    "outputId": "bd62d19e-7758-4ba2-c048-b45842e9a4c1"
   },
   "outputs": [
    {
     "data": {
      "text/plain": [
       "0    15.913043\n",
       "1    18.500000\n",
       "2    17.111111\n",
       "3    18.700000\n",
       "4    18.388889\n",
       "5    19.318182\n",
       "6    14.708333\n",
       "7    15.684211\n",
       "8    14.571429\n",
       "9    12.111111\n",
       "Name: meantemp, dtype: float64"
      ]
     },
     "execution_count": 132,
     "metadata": {},
     "output_type": "execute_result"
    }
   ],
   "source": [
    "y_test[:10]"
   ]
  },
  {
   "cell_type": "code",
   "execution_count": 135,
   "id": "DVo8NxvrmARz",
   "metadata": {
    "colab": {
     "base_uri": "https://localhost:8080/"
    },
    "id": "DVo8NxvrmARz",
    "outputId": "487b942f-d3b5-4a8e-8f24-6aaea1d540d2"
   },
   "outputs": [
    {
     "data": {
      "text/plain": [
       "0.7381730285498385"
      ]
     },
     "execution_count": 135,
     "metadata": {},
     "output_type": "execute_result"
    }
   ],
   "source": [
    "train_error_score3 = metrics.r2_score(y_test ,predictions2)\n",
    "train_error_score3"
   ]
  },
  {
   "cell_type": "code",
   "execution_count": 133,
   "id": "CCSTkd1Lj4Y-",
   "metadata": {
    "colab": {
     "base_uri": "https://localhost:8080/"
    },
    "id": "CCSTkd1Lj4Y-",
    "outputId": "4fcab095-f633-45f2-877d-e52430bbac60"
   },
   "outputs": [
    {
     "data": {
      "text/plain": [
       "10.498131733017253"
      ]
     },
     "execution_count": 133,
     "metadata": {},
     "output_type": "execute_result"
    }
   ],
   "source": [
    "errors3 = mean_squared_error(y_test, predictions2)\n",
    "errors3"
   ]
  },
  {
   "cell_type": "code",
   "execution_count": 149,
   "id": "pJz2EPVMq6Ck",
   "metadata": {
    "colab": {
     "base_uri": "https://localhost:8080/"
    },
    "id": "pJz2EPVMq6Ck",
    "outputId": "edd2580c-4b86-4cdb-ccc2-83fa9874c64f"
   },
   "outputs": [
    {
     "data": {
      "text/plain": [
       "2.6180379688225313"
      ]
     },
     "execution_count": 149,
     "metadata": {},
     "output_type": "execute_result"
    }
   ],
   "source": [
    "lin_mae3 = mean_absolute_error(y_test, predictions2)\n",
    "lin_mae3"
   ]
  }
 ],
 "metadata": {
  "colab": {
   "collapsed_sections": [
    "_9-QnvkXKDEi",
    "7sJtziyXRzt4"
   ],
   "provenance": []
  },
  "kernelspec": {
   "display_name": "Python 3 (ipykernel)",
   "language": "python",
   "name": "python3"
  },
  "language_info": {
   "codemirror_mode": {
    "name": "ipython",
    "version": 3
   },
   "file_extension": ".py",
   "mimetype": "text/x-python",
   "name": "python",
   "nbconvert_exporter": "python",
   "pygments_lexer": "ipython3",
   "version": "3.9.13"
  }
 },
 "nbformat": 4,
 "nbformat_minor": 5
}
